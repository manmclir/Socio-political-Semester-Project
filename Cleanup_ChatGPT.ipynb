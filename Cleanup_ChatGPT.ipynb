{
 "cells": [
  {
   "cell_type": "code",
   "execution_count": 12,
   "id": "9d82dc7f-be94-4a47-9a68-64a6787e7273",
   "metadata": {},
   "outputs": [],
   "source": [
    "import pandas as pd\n",
    "import matplotlib.pyplot as plt\n",
    "import numpy as np\n",
    "from openai import OpenAI\n",
    "import os\n",
    "import re\n",
    "import time\n",
    "import csv\n",
    "from collections import Counter"
   ]
  },
  {
   "cell_type": "code",
   "execution_count": 3,
   "id": "fde9a366-eb2d-4256-8c1f-01f7c150408d",
   "metadata": {},
   "outputs": [],
   "source": [
    "df = pd.read_csv('CNC_synth_copy2.csv')"
   ]
  },
  {
   "cell_type": "code",
   "execution_count": 4,
   "id": "a138deb3-d73b-4b15-b6c5-1206edb6d201",
   "metadata": {},
   "outputs": [
    {
     "data": {
      "text/html": [
       "<div>\n",
       "<style scoped>\n",
       "    .dataframe tbody tr th:only-of-type {\n",
       "        vertical-align: middle;\n",
       "    }\n",
       "\n",
       "    .dataframe tbody tr th {\n",
       "        vertical-align: top;\n",
       "    }\n",
       "\n",
       "    .dataframe thead th {\n",
       "        text-align: right;\n",
       "    }\n",
       "</style>\n",
       "<table border=\"1\" class=\"dataframe\">\n",
       "  <thead>\n",
       "    <tr style=\"text-align: right;\">\n",
       "      <th></th>\n",
       "      <th>Text</th>\n",
       "    </tr>\n",
       "  </thead>\n",
       "  <tbody>\n",
       "    <tr>\n",
       "      <th>0</th>\n",
       "      <td>The company accused &lt;ARG1&gt;the employee of stea...</td>\n",
       "    </tr>\n",
       "    <tr>\n",
       "      <th>1</th>\n",
       "      <td>\"&lt;ARG1&gt;The students organized a protest&lt;/ARG1&gt;...</td>\n",
       "    </tr>\n",
       "    <tr>\n",
       "      <th>2</th>\n",
       "      <td>'&lt;ARG1&gt;The students are excited&lt;/ARG1&gt; &lt;SIG0&gt;b...</td>\n",
       "    </tr>\n",
       "    <tr>\n",
       "      <th>3</th>\n",
       "      <td>'&lt;ARG0&gt;Poor air quality&lt;/ARG0&gt; &lt;SIG0&gt;can &lt;ARG1...</td>\n",
       "    </tr>\n",
       "    <tr>\n",
       "      <th>4</th>\n",
       "      <td>Since the news about the company's financial d...</td>\n",
       "    </tr>\n",
       "  </tbody>\n",
       "</table>\n",
       "</div>"
      ],
      "text/plain": [
       "                                                Text\n",
       "0  The company accused <ARG1>the employee of stea...\n",
       "1  \"<ARG1>The students organized a protest</ARG1>...\n",
       "2  '<ARG1>The students are excited</ARG1> <SIG0>b...\n",
       "3  '<ARG0>Poor air quality</ARG0> <SIG0>can <ARG1...\n",
       "4  Since the news about the company's financial d..."
      ]
     },
     "execution_count": 4,
     "metadata": {},
     "output_type": "execute_result"
    }
   ],
   "source": [
    "df.head()"
   ]
  },
  {
   "cell_type": "code",
   "execution_count": 7,
   "id": "57a30d00-85b0-40e7-af00-e6e82064565f",
   "metadata": {},
   "outputs": [],
   "source": [
    "def filter_dataframe(df, word_one, word_two):\n",
    "    filtered_df = df[df['Text'].str.contains(word_one, case=False) & df['Text'].str.contains(word_two, case=False)]\n",
    "\n",
    "    return filtered_df"
   ]
  },
  {
   "cell_type": "code",
   "execution_count": 8,
   "id": "08b05be7-f00d-4c21-8a6e-963d9680d083",
   "metadata": {},
   "outputs": [],
   "source": [
    "#this deletes any entries that lack an ARG0 or an ARG1\n",
    "df_f = filter_dataframe(df,'<ARG0>', '<ARG1>')"
   ]
  },
  {
   "cell_type": "code",
   "execution_count": 9,
   "id": "00bafef9-4a28-48c8-8ddd-6477717aec80",
   "metadata": {},
   "outputs": [
    {
     "data": {
      "text/plain": [
       "966"
      ]
     },
     "execution_count": 9,
     "metadata": {},
     "output_type": "execute_result"
    }
   ],
   "source": [
    "len(df_f)"
   ]
  },
  {
   "cell_type": "code",
   "execution_count": 10,
   "id": "4c52f4d4-e3a6-49c4-bf1a-6fbc76a8f67f",
   "metadata": {},
   "outputs": [],
   "source": [
    "def find_common_words(df):\n",
    "    word_frequency = Counter()\n",
    "\n",
    "    # Iterate through each entry in the DataFrame\n",
    "    for index, row in df.iterrows():\n",
    "        # Combine the entries into a single string\n",
    "        combined_text = ' '.join(row)\n",
    "\n",
    "        # Tokenize the text into words (you might need a more sophisticated tokenizer based on your data)\n",
    "        words = re.findall(r'\\b\\w+\\b', combined_text.lower())\n",
    "\n",
    "        # Update word frequency based on the set of unique words in the entry\n",
    "        word_frequency.update(set(words))\n",
    "\n",
    "    # Get the most common words across all entries\n",
    "    most_common_words = word_frequency.most_common()\n",
    "\n",
    "    return most_common_words"
   ]
  },
  {
   "cell_type": "code",
   "execution_count": 13,
   "id": "fd7f34df-5f89-4c0a-a0c2-c80eb048ed9c",
   "metadata": {
    "scrolled": true
   },
   "outputs": [
    {
     "name": "stdout",
     "output_type": "stream",
     "text": [
      "[('arg1', 966), ('arg0', 966), ('sig0', 852), ('the', 852), ('to', 659), ('in', 537), ('and', 368), ('a', 362), ('of', 316), ('heavy', 282), ('due', 210), ('city', 169), ('caused', 158), ('flooding', 157), ('rain', 149), ('their', 113), ('for', 113), ('resulting', 112), ('widespread', 112), ('rainfall', 109), ('company', 101), ('new', 96), ('after', 95), ('because', 93), ('on', 91), ('as', 85), ('led', 85), ('increase', 84), ('s', 82), ('was', 77), ('were', 76), ('government', 74), ('students', 73), ('damage', 71), ('streets', 71), ('that', 68), ('causing', 67), ('has', 67), ('traffic', 65), ('flooded', 65), ('by', 63), ('lack', 58), ('severe', 58), ('leading', 56), ('residents', 53), ('several', 51), ('order', 51), ('levels', 51), ('increased', 50), ('pollution', 47), ('homes', 46), ('implemented', 46), ('with', 45), ('many', 45), ('she', 45), ('car', 45), ('infrastructure', 45), ('resulted', 44), ('have', 42), ('decided', 41), ('rise', 40), ('significant', 40), ('strong', 40), ('they', 38), ('protest', 38), ('decrease', 38), ('from', 37), ('demand', 37), ('area', 37), ('winds', 37), ('local', 36), ('had', 35), ('an', 35), ('during', 34), ('at', 33), ('result', 32), ('his', 32), ('according', 31), ('major', 31), ('00', 31), ('am', 30), ('improve', 30), ('recent', 30), ('2021', 30), ('driver', 29), ('river', 29), ('prices', 29), ('exam', 29), ('her', 28), ('school', 28), ('study', 28), ('failed', 27), ('measures', 27), ('among', 27), ('crashed', 27), ('profits', 27), ('sales', 27), ('road', 26), ('global', 26), ('stricter', 26), ('he', 26), ('people', 26), ('it', 25), ('demanding', 25), ('when', 25), ('public', 25), ('regulations', 25), ('better', 25), ('respiratory', 24), ('congestion', 24), ('10', 24), ('increasing', 24), ('roads', 24), ('rates', 24), ('work', 23), ('poor', 23), ('its', 23), ('safety', 23), ('health', 23), ('power', 23), ('extensive', 23), ('stock', 23), ('announced', 22), ('12', 22), ('tree', 22), ('into', 22), ('rainstorm', 22), ('environmental', 22), ('response', 22), ('areas', 21), ('student', 21), ('30', 21), ('marketing', 21), ('economic', 21), ('09', 21), ('organized', 20), ('conditions', 20), ('job', 20), ('employees', 20), ('being', 20), ('rising', 20), ('change', 20), ('started', 19), ('education', 19), ('action', 19), ('against', 19), ('university', 19), ('protests', 19), ('funding', 19), ('been', 19), ('despite', 19), ('delays', 19), ('are', 18), ('about', 18), ('financial', 18), ('water', 18), ('police', 18), ('climate', 18), ('which', 18), ('down', 18), ('system', 18), ('tuition', 17), ('not', 17), ('weather', 17), ('last', 17), ('john', 17), ('emissions', 17), ('citizens', 17), ('outside', 17), ('cars', 17), ('all', 17), ('strike', 17), ('reduce', 17), ('excessive', 17), ('more', 16), ('accident', 16), ('houses', 16), ('will', 16), ('policy', 16), ('2022', 16), ('15', 16), ('plummeted', 16), ('is', 16), ('ceo', 15), ('policies', 15), ('night', 15), ('group', 15), ('t', 15), ('unemployment', 15), ('strategy', 15), ('outdoor', 15), ('crime', 15), ('town', 15), ('jams', 15), ('went', 15), ('fees', 14), ('hard', 14), ('air', 14), ('since', 14), ('news', 14), ('performance', 14), ('control', 14), ('outages', 14), ('be', 14), ('didn', 14), ('decision', 14), ('evacuation', 14), ('off', 13), ('price', 13), ('accidents', 13), ('2020', 13), ('massive', 13), ('sig1', 13), ('number', 13), ('team', 13), ('ist', 13), ('coastal', 13), ('evacuate', 13), ('june', 13), ('concert', 13), ('rains', 13), ('flood', 13), ('hours', 13), ('administration', 13), ('decline', 13), ('drainage', 13), ('neighborhood', 13), ('property', 12), ('receiving', 12), ('working', 12), ('investors', 12), ('project', 12), ('costs', 12), ('low', 12), ('lead', 12), ('became', 12), ('thousands', 12), ('diseases', 12), ('throughout', 12), ('texting', 12), ('reports', 12), ('gathered', 12), ('storm', 12), ('market', 12), ('construction', 12), ('workers', 12), ('covid', 12), ('strict', 12), ('19', 12), ('ensure', 11), ('concerns', 11), ('such', 11), ('explained', 11), ('day', 11), ('authorities', 11), ('high', 11), ('problems', 11), ('there', 11), ('prevent', 11), ('experienced', 11), ('population', 11), ('mumbai', 11), ('gas', 11), ('over', 11), ('cancellation', 11), ('this', 11), ('campaign', 11), ('nearby', 11), ('leads', 11), ('late', 11), ('decreased', 11), ('overflow', 11), ('pm', 11), ('destruction', 11), ('management', 11), ('transportation', 11), ('budget', 11), ('employee', 10), ('demonstration', 10), ('missed', 10), ('fell', 10), ('protested', 10), ('significantly', 10), ('chaos', 10), ('enough', 10), ('resources', 10), ('would', 10), ('oil', 10), ('lost', 10), ('2019', 10), ('facilities', 10), ('york', 10), ('march', 10), ('recession', 10), ('studying', 10), ('driving', 10), ('damaged', 10), ('industrial', 10), ('banks', 10), ('surrounding', 10), ('across', 10), ('got', 10), ('skyrocketed', 10), ('grades', 10), ('cases', 10), ('opportunities', 9), ('organizing', 9), ('closures', 9), ('multiple', 9), ('potential', 9), ('meeting', 9), ('while', 9), ('efforts', 9), ('take', 9), ('building', 9), ('fuel', 9), ('phone', 9), ('gun', 9), ('protesters', 9), ('soared', 9), ('hit', 9), ('july', 9), ('out', 9), ('stuck', 9), ('broke', 9), ('implement', 9), ('trees', 9), ('fall', 9), ('implementation', 9), ('following', 9), ('closed', 9), ('higher', 9), ('improved', 9), ('spending', 9), ('consumer', 9), ('teacher', 9), ('april', 9), ('can', 8), ('issues', 8), ('quality', 8), ('spread', 8), ('highway', 8), ('time', 8), ('delayed', 8), ('campus', 8), ('implementing', 8), ('we', 8), ('further', 8), ('natural', 8), ('forced', 8), ('08', 8), ('downpour', 8), ('region', 8), ('laws', 8), ('country', 8), ('protestors', 8), ('panic', 8), ('economy', 8), ('felt', 8), ('event', 8), ('rate', 8), ('floods', 8), ('security', 8), ('downturn', 8), ('lockdown', 8), ('november', 8), ('wages', 8), ('address', 8), ('hike', 8), ('emergency', 8), ('overall', 8), ('effects', 8), ('affected', 8), ('cuts', 8), ('layoffs', 8), ('buildings', 8), ('morning', 7), ('made', 7), ('customer', 7), ('september', 7), ('causes', 7), ('well', 7), ('passengers', 7), ('production', 7), ('extreme', 7), ('argument', 7), ('activities', 7), ('events', 7), ('between', 7), ('if', 7), ('research', 7), ('latest', 7), ('illnesses', 7), ('calling', 7), ('temperatures', 7), ('took', 7), ('him', 7), ('canceled', 7), ('through', 7), ('protesting', 7), ('could', 7), ('may', 7), ('living', 7), ('immediate', 7), ('various', 7), ('cost', 7), ('long', 7), ('strategies', 7), ('sudden', 7), ('yesterday', 7), ('studied', 7), ('so', 7), ('workplace', 7), ('forcing', 7), ('council', 7), ('october', 7), ('community', 7), ('today', 7), ('attention', 7), ('negative', 7), ('report', 7), ('received', 6), ('inconvenience', 6), ('affordable', 6), ('numerous', 6), ('complaints', 6), ('environment', 6), ('stated', 6), ('own', 6), ('cancelled', 6), ('flights', 6), ('drought', 6), ('carbon', 6), ('lying', 6), ('classes', 6), ('sea', 6), ('raise', 6), ('awareness', 6), ('office', 6), ('issue', 6), ('hrs', 6), ('week', 6), ('growing', 6), ('risk', 6), ('argued', 6), ('london', 6), ('start', 6), ('protocols', 6), ('support', 6), ('monday', 6), ('controversial', 6), ('schools', 6), ('getting', 6), ('class', 6), ('up', 6), ('presence', 6), ('get', 6), ('est', 6), ('displacement', 6), ('need', 6), ('continue', 6), ('pandemic', 6), ('tax', 6), ('jam', 6), ('injuries', 6), ('vehicle', 6), ('declining', 6), ('teachers', 6), ('successful', 6), ('drop', 6), ('commuters', 6), ('who', 6), ('continued', 6), ('state', 6), ('attendees', 6), ('unfair', 6), ('diligently', 6), ('5', 6), ('dropped', 6), ('peaceful', 6), ('earthquake', 6), ('cause', 5), ('future', 5), ('frustration', 5), ('3', 5), ('training', 5), ('sarah', 5), ('coach', 5), ('any', 5), ('investigation', 5), ('wheel', 5), ('losing', 5), ('flight', 5), ('crops', 5), ('heated', 5), ('disasters', 5), ('clean', 5), ('but', 5), ('concerned', 5), ('2', 5), ('failure', 5), ('asleep', 5), ('neighborhoods', 5), ('proper', 5), ('manager', 5), ('make', 5), ('businesses', 5), ('deforestation', 5), ('activists', 5), ('conference', 5), ('said', 5), ('individuals', 5), ('although', 5), ('violence', 5), ('unless', 5), ('productivity', 5), ('greenhouse', 5), ('rainy', 5), ('food', 5), ('park', 5), ('i', 5), ('bus', 5), ('45', 5), ('damaging', 5), ('party', 5), ('wanted', 5), ('sources', 5), ('evacuated', 5), ('overslept', 5), ('advertising', 5), ('experiencing', 5), ('cut', 5), ('20', 5), ('distracted', 5), ('marched', 5), ('proposed', 5), ('product', 5), ('corruption', 5), ('trust', 5), ('academic', 5), ('board', 5), ('pst', 5), ('disappointed', 5), ('test', 5), ('promotion', 5), ('reported', 5), ('consumption', 5), ('warned', 5), ('grade', 5), ('find', 5), ('blocked', 5), ('15th', 5), ('preparation', 5), ('train', 5), ('taxes', 5), ('without', 5), ('announcement', 5), ('lines', 5), ('delay', 5), ('maintenance', 5), ('information', 4), ('evidence', 4), ('expected', 4), ('10th', 4), ('match', 4), ('skidded', 4), ('satisfaction', 4), ('essential', 4), ('our', 4), ('escalated', 4), ('practice', 4), ('waiting', 4), ('anger', 4), ('neighbors', 4), ('frequent', 4), ('intense', 4), ('warming', 4), ('hurricanes', 4), ('progress', 4), ('united', 4), ('2017', 4), ('december', 4), ('12th', 4), ('washington', 4), ('energy', 4), ('under', 4), ('classrooms', 4), ('justice', 4), ('asthma', 4), ('electricity', 4), ('concern', 4), ('rapidly', 4), ('disease', 4), ('shown', 4), ('exercise', 4), ('protect', 4), ('hospital', 4), ('erupted', 4), ('amidst', 4), ('shooting', 4), ('incidents', 4), ('youth', 4), ('boycotted', 4), ('making', 4), ('game', 4), ('devastating', 4), ('law', 4), ('rally', 4), ('development', 4), ('housing', 4), ('instability', 4), ('feedback', 4), ('however', 4), ('entire', 4), ('towards', 4), ('saw', 4), ('poured', 4), ('panicked', 4), ('countries', 4), ('blocking', 4), ('put', 4), ('families', 4), ('additional', 4), ('boost', 4), ('times', 4), ('fee', 4), ('restore', 4), ('immediately', 4), ('funds', 4), ('go', 4), ('next', 4), ('series', 4), ('february', 4), ('furthermore', 4), ('stranded', 4), ('called', 4), ('delhi', 4), ('media', 4), ('standstill', 4), ('conducted', 4), ('caught', 4), ('shelter', 4), ('difficulties', 4), ('life', 4), ('minister', 4), ('noise', 4), ('ruling', 4), ('staff', 4), ('years', 4), ('center', 4), ('necessary', 4), ('spaces', 4), ('imposed', 4), ('witnessing', 4), ('harder', 4), ('sessions', 4), ('tutoring', 4), ('consequently', 4), ('every', 4), ('front', 4), ('struggle', 4), ('fire', 4), ('consistently', 4), ('them', 4), ('companies', 4), ('dissatisfaction', 4), ('service', 4), ('customers', 4), ('revenue', 4), ('flow', 4), ('injured', 4), ('loss', 4), ('regularly', 4), ('cutting', 4), ('smoking', 4), ('data', 4), ('mon', 4), ('systems', 4), ('effort', 4), ('principal', 4), ('seek', 4), ('weight', 4), ('surge', 4), ('virus', 4), ('use', 4), ('forecast', 4), ('warning', 4), ('earnings', 4), ('found', 3), ('fair', 3), ('secure', 3), ('discovered', 3), ('truck', 3), ('postponed', 3), ('icy', 3), ('thorough', 3), ('these', 3), ('completing', 3), ('smith', 3), ('airport', 3), ('reschedule', 3), ('therefore', 3), ('required', 3), ('set', 3), ('tuesday', 3), ('human', 3), ('incident', 3), ('two', 3), ('collision', 3), ('intersection', 3), ('mar', 3), ('eyewitnesses', 3), ('submerged', 3), ('provide', 3), ('losses', 3), ('reduced', 3), ('obesity', 3), ('heart', 3), ('degradation', 3), ('before', 3), ('unrest', 3), ('sharp', 3), ('practiced', 3), ('factory', 3), ('mass', 3), ('organize', 3), ('demonstrations', 3), ('producing', 3), ('disruption', 3), ('ecosystems', 3), ('communities', 3), ('sparked', 3), ('forgotten', 3), ('protection', 3), ('scientific', 3), ('upcoming', 3), ('outage', 3), ('attend', 3), ('thunderstorm', 3), ('habitats', 3), ('rescue', 3), ('hurricane', 3), ('younger', 3), ('targeted', 3), ('alarm', 3), ('ran', 3), ('professor', 3), ('homework', 3), ('near', 3), ('august', 3), ('street', 3), ('targets', 3), ('urgent', 3), ('lives', 3), ('access', 3), ('lower', 3), ('overflowing', 3), ('23', 3), ('san', 3), ('disruptions', 3), ('francisco', 3), ('ends', 3), ('meet', 3), ('instead', 3), ('rainstorms', 3), ('fired', 3), ('meanwhile', 3), ('knocked', 3), ('sustained', 3), ('rush', 3), ('hour', 3), ('treatment', 3), ('hospitals', 3), ('patients', 3), ('developing', 3), ('activity', 3), ('gather', 3), ('lay', 3), ('consequences', 3), ('uprooted', 3), ('warn', 3), ('scientists', 3), ('negotiate', 3), ('mentioned', 3), ('situation', 3), ('union', 3), ('leader', 3), ('14', 3), ('leaving', 3), ('towns', 3), ('past', 3), ('friends', 3), ('xyz', 3), ('targeting', 3), ('groups', 3), ('farmers', 3), ('launched', 3), ('came', 3), ('researchers', 3), ('importance', 3), ('physical', 3), ('occurred', 3), ('good', 3), ('bring', 3), ('worked', 3), ('understand', 3), ('january', 3), ('efficiency', 3), ('poverty', 3), ('election', 3), ('facing', 3), ('prepared', 3), ('site', 3), ('discontent', 3), ('morale', 3), ('disappointing', 3), ('members', 3), ('light', 3), ('hundreds', 3), ('held', 3), ('mayor', 3), ('crisis', 3), ('why', 3), ('bridge', 3), ('angry', 3), ('restrictions', 3), ('operations', 3), ('did', 3), ('labor', 3), ('skills', 3), ('competition', 3), ('improvement', 3), ('sector', 3), ('technological', 3), ('inadequate', 3), ('disrupted', 3), ('tired', 3), ('paying', 3), ('breaking', 3), ('record', 3), ('temperature', 3), ('days', 3), ('danger', 3), ('reforms', 3), ('learning', 3), ('projects', 3), ('salaries', 3), ('house', 3), ('way', 3), ('thursday', 3), ('prepare', 3), ('inflation', 3), ('recently', 3), ('harmful', 3), ('away', 3), ('healthcare', 3), ('kerala', 3), ('goods', 3), ('prolonged', 3), ('winning', 3), ('results', 3), ('cheating', 3), ('displacing', 3), ('able', 3), ('reputation', 3), ('help', 3), ('intensified', 3), ('impact', 3), ('chennai', 3), ('income', 3), ('quit', 3), ('boss', 3), ('attract', 3), ('express', 3), ('kitchen', 3), ('industry', 3), ('exams', 3), ('tirelessly', 3), ('taking', 3), ('gym', 3), ('selling', 3), ('steadily', 3), ('receive', 3), ('studies', 3), ('debate', 3), ('realized', 3), ('officials', 3), ('confidential', 2), ('stealing', 2), ('science', 2), ('won', 2), ('worsen', 2), ('longer', 2), ('2015', 2), ('delivery', 2), ('weeks', 2), ('plants', 2), ('options', 2), ('products', 2), ('resigned', 2), ('swerved', 2), ('medical', 2), ('bad', 2), ('continues', 2), ('wildfires', 2), ('achieve', 2), ('states', 2), ('32', 2), ('agreement', 2), ('china', 2), ('promoting', 2), ('paris', 2), ('reducing', 2), ('unsafe', 2), ('upon', 2), ('cancer', 2), ('lung', 2), ('other', 2), ('torrential', 2), ('ground', 2), ('actions', 2), ('sustainability', 2), ('daily', 2), ('benefits', 2), ('reduction', 2), ('generations', 2), ('collapsed', 2), ('marathon', 2), ('runner', 2), ('rushed', 2), ('means', 2), ('here', 2), ('prompted', 2), ('petition', 2), ('boycott', 2), ('regions', 2), ('months', 2), ('supply', 2), ('level', 2), ('demanded', 2), ('current', 2), ('changes', 2), ('ate', 2), ('triggering', 2), ('voted', 2), ('lawmakers', 2), ('closure', 2), ('bone', 2), ('no', 2), ('soaked', 2), ('umbrella', 2), ('hindered', 2), ('blaming', 2), ('picnic', 2), ('parents', 2), ('safer', 2), ('ultimately', 2), ('exhausted', 2), ('attack', 2), ('crowded', 2), ('carrying', 2), ('disrupting', 2), ('services', 2), ('skipped', 2), ('accompanied', 2), ('volunteers', 2), ('friendship', 2), ('show', 2), ('surprise', 2), ('best', 2), ('friend', 2), ('deployed', 2), ('teams', 2), ('violent', 2), ('approaching', 2), ('advised', 2), ('demographics', 2), ('2018', 2), ('quarter', 2), ('clock', 2), ('forgot', 2), ('walk', 2), ('too', 2), ('assigned', 2), ('trade', 2), ('shares', 2), ('roof', 2), ('countless', 2), ('innocent', 2), ('drivers', 2), ('believed', 2), ('continuous', 2), ('workforce', 2), ('struggling', 2), ('indoors', 2), ('repeatedly', 2), ('11', 2), ('feel', 2), ('walking', 2), ('hall', 2), ('expressing', 2), ('faulty', 2), ('los', 2), ('afternoon', 2), ('angeles', 2), ('another', 2), ('overnight', 2), ('break', 2), ('lunch', 2), ('avoid', 2), ('one', 2), ('seeking', 2), ('brand', 2), ('handle', 2), ('initiate', 2), ('influenced', 2), ('catastrophic', 2), ('irrigation', 2), ('extracurricular', 2), ('storms', 2), ('tropical', 2), ('press', 2), ('refusal', 2), ('strikes', 2), ('stronger', 2), ('reform', 2), ('audience', 2), ('couple', 2), ('large', 2), ('district', 2), ('social', 2), ('type', 2), ('sugar', 2), ('diabetes', 2), ('feeling', 2), ('exceeded', 2), ('practices', 2), ('prime', 2), ('do', 2), ('disappointment', 2), ('18', 2), ('promises', 2), ('criticism', 2), ('release', 2), ('square', 2), ('entered', 2), ('classroom', 2), ('process', 2), ('transparency', 2), ('should', 2), ('moreover', 2), ('waste', 2), ('then', 2), ('thanks', 2), ('eagerly', 2), ('pass', 2), ('displaced', 2), ('adequate', 2), ('sleep', 2), ('fix', 2), ('erupts', 2), ('connecting', 2), ('plans', 2), ('alternative', 2), ('frequency', 2), ('hire', 2), ('sensitive', 2), ('supplies', 2), ('vegetables', 2), ('early', 2), ('store', 2), ('arrive', 2), ('25', 2), ('gmt', 2), ('suspension', 2), ('suspect', 2), ('withdrew', 2), ('regarding', 2), ('expressed', 2), ('constant', 2), ('organizers', 2), ('unforeseen', 2), ('circumstances', 2), ('few', 2), ('suggesting', 2), ('disaster', 2), ('investments', 2), ('foreign', 2), ('arrived', 2), ('travel', 2), ('fund', 2), ('pouring', 2), ('basement', 2), ('experts', 2), ('bicycles', 2), ('main', 2), ('reporter', 2), ('crowd', 2), ('become', 2), ('top', 2), ('three', 2), ('games', 2), ('dress', 2), ('code', 2), ('colleagues', 2), ('arrival', 2), ('washed', 2), ('field', 2), ('misconduct', 2), ('faced', 2), ('holiday', 2), ('season', 2), ('evacuations', 2), ('california', 2), ('watch', 2), ('aiming', 2), ('clients', 2), ('career', 2), ('achieved', 2), ('limited', 2), ('pollutants', 2), ('17', 2), ('damages', 2), ('villages', 2), ('collapse', 2), ('relief', 2), ('declared', 2), ('johnson', 2), ('terminated', 2), ('stay', 2), ('stability', 2), ('uncertainty', 2), ('feared', 2), ('excess', 2), ('us', 2), ('programs', 2), ('wake', 2), ('deteriorated', 2), ('vehicular', 2), ('vehicles', 2), ('struck', 2), ('overflowed', 2), ('neglect', 2), ('witnesses', 2), ('string', 2), ('organizations', 2), ('particularly', 2), ('gates', 2), ('providing', 2), ('growth', 2), ('creation', 2), ('link', 2), ('campaigns', 2), ('anti', 2), ('8', 2), ('factories', 2), ('tackle', 2), ('technology', 2), ('within', 2), ('disagreement', 2), ('tensions', 2), ('destroyed', 2), ('beach', 2), ('business', 2), ('taken', 2), ('grading', 2), ('washing', 2), ('launch', 2), ('advancements', 2), ('adequately', 2), ('declined', 2), ('final', 2), ('praised', 2), ('urging', 2), ('together', 2), ('alcohol', 2), ('until', 2), ('department', 2), ('library', 2), ('my', 2), ('alarming', 2), ('activist', 2), ('planning', 2), ('slippery', 2), ('heavily', 2), ('failing', 2), ('gain', 2), ('discuss', 2), ('attending', 2), ('math', 2), ('picketed', 2), ('victims', 2), ('friday', 2), ('success', 2), ('textbooks', 2), ('struggled', 2), ('cope', 2), ('emerged', 2), ('posted', 2), ('resignation', 2), ('recover', 2), ('discovering', 2), ('soon', 2), ('green', 2), ('only', 2), ('fitness', 2), ('shows', 2), ('signs', 2), ('statistics', 2), ('released', 2), ('brought', 2), ('semester', 2), ('faculty', 2), ('space', 2), ('family', 2), ('clear', 2), ('related', 2), ('drinks', 2), ('sugary', 2), ('nationwide', 2), ('planned', 2), ('scandal', 2), ('lot', 2), ('published', 2), ('balance', 2), ('left', 2), ('liver', 2), ('important', 2), ('mental', 2), ('drinking', 2), ('officer', 2), ('seen', 2), ('international', 2), ('communication', 2), ('joined', 2), ('buy', 2), ('ice', 2), ('model', 2), ('generate', 2), ('screen', 2), ('directors', 2), ('teenagers', 2), ('fallen', 2), ('everyone', 2), ('maintain', 2), ('realizing', 2), ('leak', 2), ('motivated', 2), ('spike', 2), ('imposing', 2), ('fines', 2), ('utc', 2), ('having', 2), ('petrol', 2), ('temporary', 2), ('first', 2), ('free', 2), ('money', 2), ('pdt', 2), ('computer', 1), ('routine', 1), ('audit', 1), ('accused', 1), ('unhappy', 1), ('recognition', 1), ('excited', 1), ('existing', 1), ('look', 1), ('downfall', 1), ('wait', 1), ('transport', 1), ('cargo', 1), ('than', 1), ('kochi', 1), ('destination', 1), ('delivering', 1), ('49', 1), ('withered', 1), ('died', 1), ('players', 1), ('athletic', 1), ('professional', 1), ('scholarships', 1), ('aid', 1), ('identify', 1), ('conduct', 1), ('create', 1), ('emphasizing', 1), ('unexpectedly', 1), ('raising', 1), ('steering', 1), ('opened', 1), ('dr', 1), ('degree', 1), ('frustrated', 1), ('turned', 1), ('delaying', 1), ('withering', 1), ('dying', 1), ('slammed', 1), ('call', 1), ('door', 1), ('premiums', 1), ('insurance', 1), ('combat', 1), ('beijing', 1), ('acknowledged', 1), ('goals', 1), ('deemed', 1), ('cancel', 1), ('contributing', 1), ('urge', 1), ('neighbours', 1), ('hearing', 1), ('wide', 1), ('seattle', 1), ('tue', 1), ('collide', 1), ('yield', 1), ('saturated', 1), ('thus', 1), ('costly', 1), ('mistakes', 1), ('risen', 1), ('ufeffdue', 1), ('implements', 1), ('rumors', 1), ('addressed', 1), ('must', 1), ('cmp', 1), ('drink', 1), ('race', 1), ('dehydration', 1), ('choosing', 1), ('creating', 1), ('followed', 1), ('click', 1), ('advocate', 1), ('shortage', 1), ('bmc', 1), ('worsens', 1), ('threatened', 1), ('also', 1), ('unemployed', 1), ('young', 1), ('jobless', 1), ('revision', 1), ('input', 1), ('greater', 1), ('rules', 1), ('enhance', 1), ('sara', 1), ('coordination', 1), ('lacked', 1), ('impacts', 1), ('outrage', 1), ('allergic', 1), ('butter', 1), ('peanut', 1), ('sandwich', 1), ('reaction', 1), ('favor', 1), ('parliament', 1), ('erupt', 1), ('17th', 1), ('witness', 1), ('5th', 1), ('innovation', 1), ('consumed', 1), ('contaminated', 1), ('blowing', 1), ('scheduled', 1), ('playground', 1), ('equipment', 1), ('like', 1), ('putting', 1), ('plunge', 1), ('plunges', 1), ('wildfire', 1), ('jeopardy', 1), ('advisors', 1), ('president', 1), ('suicide', 1), ('bombed', 1), ('13th', 1), ('mission', 1), ('terrorists', 1), ('blackouts', 1), ('band', 1), ('favorite', 1), ('ripped', 1), ('celebration', 1), ('throwing', 1), ('unforgettable', 1), ('appreciation', 1), ('birthday', 1), ('pipeline', 1), ('irreparably', 1), ('station', 1), ('home', 1), ('much', 1), ('bronchitis', 1), ('wars', 1), ('crash', 1), ('impending', 1), ('wall', 1), ('sold', 1), ('nations', 1), ('leaking', 1), ('governments', 1), ('ownership', 1), ('imperative', 1), ('shootings', 1), ('firearm', 1), ('strengthening', 1), ('potholes', 1), ('bumps', 1), ('vowed', 1), ('expensive', 1), ('rivers', 1), ('jst', 1), ('tokyo', 1), ('riots', 1), ('erupting', 1), ('happen', 1), ('stagnant', 1), ('perform', 1), ('musicians', 1), ('coming', 1), ('man', 1), ('cat', 1), ('jumped', 1), ('vase', 1), ('table', 1), ('29th', 1), ('repeal', 1), ('engine', 1), ('falling', 1), ('straight', 1), ('sustains', 1), ('serious', 1), ('colliding', 1), ('collides', 1), ('biker', 1), ('22nd', 1), ('doing', 1), ('reporting', 1), ('breathing', 1), ('cities', 1), ('admissions', 1), ('reconsider', 1), ('thurs', 1), ('sep', 1), ('raised', 1), ('homelessness', 1), ('failures', 1), ('insights', 1), ('valuable', 1), ('case', 1), ('appoint', 1), ('wave', 1), ('special', 1), ('alleged', 1), ('comprehensive', 1), ('counsel', 1), ('achievements', 1), ('outstanding', 1), ('scholarship', 1), ('nov', 1), ('war', 1), ('owing', 1), ('fail', 1), ('neglecting', 1), ('recall', 1), ('reckless', 1), ('crop', 1), ('yields', 1), ('efficient', 1), ('technologies', 1), ('allocate', 1), ('paychecks', 1), ('line', 1), ('finish', 1), ('rigorous', 1), ('crossed', 1), ('stating', 1), ('subsequent', 1), ('deployment', 1), ('policing', 1), ('ufeffcrime', 1), ('calls', 1), ('ineffective', 1), ('fans', 1), ('stadium', 1), ('larger', 1), ('mysore', 1), ('occurs', 1), ('bangalore', 1), ('intensify', 1), ('prompting', 1), ('halted', 1), ('orders', 1), ('lately', 1), ('celebrate', 1), ('arrest', 1), ('launching', 1), ('demographic', 1), ('saturation', 1), ('soil', 1), ('andhra', 1), ('pradesh', 1), ('correspondent', 1), ('guntur', 1), ('newly', 1), ('hired', 1), ('agricultural', 1), ('influencers', 1), ('utilized', 1), ('recognizing', 1), ('regular', 1), ('healthy', 1), ('diet', 1), ('tomatoes', 1), ('seminar', 1), ('college', 1), ('fares', 1), ('bengaluru', 1), ('fare', 1), ('promoted', 1), ('dedication', 1), ('whispered', 1), ('nervous', 1), ('gave', 1), ('quiz', 1), ('pop', 1), ('unable', 1), ('cold', 1), ('reliable', 1), ('internet', 1), ('expectations', 1), ('properties', 1), ('forest', 1), ('26', 1), ('burning', 1), ('imposes', 1), ('fires', 1), ('emily', 1), ('researched', 1), ('marine', 1), ('announces', 1), ('impose', 1), ('residential', 1), ('agreed', 1), ('celebrations', 1), ('locals', 1), ('hurt', 1), ('betrayed', 1), ('ufeffthe', 1), ('reminding', 1), ('politics', 1), ('broken', 1), ('unfulfilled', 1), ('voters', 1), ('13', 1), ('backlash', 1), ('face', 1), ('gaming', 1), ('include', 1), ('developers', 1), ('microtransactions', 1), ('mismanagement', 1), ('dissatisfied', 1), ('tom', 1), ('trip', 1), ('confidently', 1), ('patient', 1), ('ramped', 1), ('assaults', 1), ('noted', 1), ('excluded', 1), ('occurring', 1), ('07', 1), ('ignore', 1), ('turnover', 1), ('unanimously', 1), ('developments', 1), ('ordinance', 1), ('deliberation', 1), ('lamppost', 1), ('scolded', 1), ('reveal', 1), ('warnings', 1), ('scrutiny', 1), ('repeated', 1), ('pleas', 1), ('handled', 1), ('how', 1), ('difficulty', 1), ('concentrating', 1), ('middle', 1), ('hoping', 1), ('assistance', 1), ('roadside', 1), ('quick', 1), ('contractor', 1), ('obtain', 1), ('permits', 1), ('vending', 1), ('cart', 1), ('vendors', 1), ('complaining', 1), ('designated', 1), ('intensity', 1), ('unauthorized', 1), ('observing', 1), ('suffered', 1), ('helped', 1), ('win', 1), ('mandatory', 1), ('noticeable', 1), ('attendance', 1), ('stores', 1), ('buying', 1), ('shortages', 1), ('grocery', 1), ('bankruptcy', 1), ('given', 1), ('hats', 1), ('arrested', 1), ('crimes', 1), ('plan', 1), ('clashed', 1), ('filed', 1), ('produced', 1), ('vibrations', 1), ('trained', 1), ('rigorously', 1), ('athletes', 1), ('grew', 1), ('never', 1), ('appreciated', 1), ('spokesperson', 1), ('apologize', 1), ('postpone', 1), ('explaining', 1), ('organization', 1), ('backyard', 1), ('gardens', 1), ('rose', 1), ('heat', 1), ('conditioned', 1), ('unbearable', 1), ('minor', 1), ('consumers', 1), ('opting', 1), ('afford', 1), ('cupertino', 1), ('gunman', 1), ('wounding', 1), ('wed', 1), ('2016', 1), ('indiscriminately', 1), ('hub', 1), ('opens', 1), ('confusion', 1), ('bystanders', 1), ('lone', 1), ('mall', 1), ('sizes', 1), ('imminent', 1), ('assist', 1), ('meteorologist', 1), ('declare', 1), ('helps', 1), ('suggest', 1), ('reinforce', 1), ('worldwide', 1), ('notice', 1), ('prior', 1), ('03', 1), ('controls', 1), ('emission', 1), ('connections', 1), ('clogged', 1), ('riding', 1), ('application', 1), ('eff', 1), ('constitutional', 1), ('shockwaves', 1), ('stormed', 1), ('court', 1), ('sending', 1), ('skilled', 1), ('piano', 1), ('musician', 1), ('priority', 1), ('scores', 1), ('plenty', 1), ('though', 1), ('even', 1), ('played', 1), ('row', 1), ('staging', 1), ('lunchtime', 1), ('walkout', 1), ('restricts', 1), ('fri', 1), ('freedom', 1), ('expression', 1), ('staged', 1), ('townville', 1), ('opposing', 1), ('directly', 1), ('linked', 1), ('worth', 1), ('noting', 1), ('drew', 1), ('riverbanks', 1), ('increases', 1), ('thiruvananthapuram', 1), ('needs', 1), ('revolutionize', 1), ('discoveries', 1), ('groundbreaking', 1), ('paved', 1), ('consistent', 1), ('created', 1), ('7th', 1), ('plunging', 1), ('darkness', 1), ('strathmore', 1), ('newspaper', 1), ('official', 1), ('proposition', 1), ('weak', 1), ('some', 1), ('roots', 1), ('turn', 1), ('impassable', 1), ('reversal', 1), ('investment', 1), ('overwhelmed', 1), ('overloaded', 1), ('least', 1), ('program', 1), ('formed', 1), ('robberies', 1), ('bank', 1), ('downsize', 1), ('allegedly', 1), ('revise', 1), ('50', 1), ('reviews', 1), ('championship', 1), ('prospects', 1), ('review', 1), ('looking', 1), ('grow', 1), ('challenging', 1), ('excellent', 1), ('available', 1), ('close', 1), ('suspended', 1), ('drastic', 1), ('exposure', 1), ('affecting', 1), ('flash', 1), ('submerging', 1), ('hits', 1), ('along', 1), ('coastline', 1), ('japan', 1), ('tsunami', 1), ('uprooting', 1), ('manganore', 1), ('jan', 1), ('allocated', 1), ('come', 1), ('firmly', 1), ('mrs', 1), ('guilty', 1), ('anyone', 1), ('determination', 1), ('afloat', 1), ('jobs', 1), ('anxiety', 1), ('surplus', 1), ('respond', 1), ('heard', 1), ('attempts', 1), ('peacefully', 1), ('those', 1), ('biodiversity', 1), ('sick', 1), ('prescribed', 1), ('medication', 1), ('save', 1), ('undergoing', 1), ('firefighters', 1), ('coverage', 1), ('controversy', 1), ('mark', 1), ('contribute', 1), ('gasoline', 1), ('side', 1), ('dry', 1), ('spell', 1), ('scarcity', 1), ('aims', 1), ('x92', 1), ('stopped', 1), ('universities', 1), ('swept', 1), ('fresh', 1), ('paint', 1), ('employers', 1), ('shut', 1), ('pay', 1), ('minimum', 1), ('wage', 1), ('india', 1), ('abruptly', 1), ('disrespectful', 1), ('constantly', 1), ('jones', 1), ('demeaning', 1), ('reveals', 1), ('procedures', 1), ('initiated', 1), ('deficit', 1), ('finance', 1), ('effective', 1), ('conducting', 1), ('mitigation', 1), ('develop', 1), ('collecting', 1), ('overflows', 1), ('landslides', 1), ('stakeholders', 1), ('disclosing', 1), ('breach', 1), ('legal', 1), ('investor', 1), ('sentiment', 1), ('festival', 1), ('turnout', 1), ('operating', 1), ('invest', 1), ('unaffordable', 1), ('uncovering', 1), ('executives', 1), ('1', 1), ('rude', 1), ('faces', 1), ('disciplinary', 1), ('remarks', 1), ('insulting', 1), ('addressing', 1), ('jul', 1), ('cnn', 1), ('red', 1), ('busy', 1), ('small', 1), ('altercations', 1), ('block', 1), ('districts', 1), ('27', 1), ('derailed', 1), ('tracks', 1), ('landslide', 1), ('destroying', 1), ('where', 1), ('ticket', 1), ('refunded', 1), ('partners', 1), ('finances', 1), ('matters', 1), ('hands', 1), ('forming', 1), ('enter', 1), ('refused', 1), ('finishing', 1), ('dinner', 1), ('children', 1), ('cleaned', 1), ('dishes', 1), ('learn', 1), ('attended', 1), ('thunderstorms', 1), ('deteriorates', 1), ('ignoring', 1), ('wildlife', 1), ('proceed', 1), ('rainfalls', 1), ('drained', 1), ('destinations', 1), ('alternate', 1), ('reach', 1), ('routes', 1), ('collegeville', 1), ('suspicion', 1), ('drastically', 1), ('expenses', 1), ('total', 1), ('motorists', 1), ('saturday', 1), ('scored', 1), ('marks', 1), ('highest', 1), ('michael', 1), ('hurried', 1), ('miss', 1), ('wanting', 1), ('drive', 1), ('influence', 1), ('exclaimed', 1), ('perfect', 1), ('aced', 1), ('score', 1), ('proud', 1), ('surveys', 1), ('indicates', 1), ('burglaries', 1), ('edge', 1), ('additionally', 1), ('salem', 1), ('equipped', 1), ('campaigning', 1), ('refreshed', 1), ('recharge', 1), ('ready', 1), ('renewed', 1), ('relax', 1), ('glaciers', 1), ('melt', 1), ('interior', 1), ('caved', 1), ('cyberattacks', 1), ('severely', 1), ('movement', 1), ('greta', 1), ('thunberg', 1), ('fridays', 1), ('impactful', 1), ('chances', 1), ('candidate', 1), ('happened', 1), ('execution', 1), ('indicate', 1), ('wet', 1), ('surface', 1), ('slipped', 1), ('expelled', 1), ('occur', 1), ('hydroplane', 1), ('extremely', 1), ('snow', 1), ('unheard', 1), ('escalation', 1), ('memorandum', 1), ('chronic', 1), ('solutions', 1), ('association', 1), ('specialized', 1), ('proficiency', 1), ('fast', 1), ('chain', 1), ('necessity', 1), ('07th', 1), ('lowest', 1), ('drops', 1), ('temper', 1), ('altercation', 1), ('neighbor', 1), ('great', 1), ('updated', 1), ('standards', 1), ('coronavirus', 1), ('influx', 1), ('kingdom', 1), ('variant', 1), ('contain', 1), ('oct', 1), ('discrimination', 1), ('most', 1), ('fact', 1), ('spent', 1), ('playing', 1), ('video', 1), ('possible', 1), ('hoped', 1), ('stolen', 1), ('complaint', 1), ('file', 1), ('accountability', 1), ('incited', 1), ('boosts', 1), ('highlighting', 1), ('contributed', 1), ('upset', 1), ('unions', 1), ('faster', 1), ('sites', 1), ('contract', 1), ('solidarity', 1), ('parking', 1), ('violations', 1), ('effectively', 1), ('fails', 1), ('homeless', 1), ('rises', 1), ('urban', 1), ('modern', 1), ('renovate', 1), ('functional', 1), ('complained', 1), ('determined', 1), ('sheila', 1), ('practicing', 1), ('remained', 1), ('trends', 1), ('changing', 1), ('earlier', 1), ('predicted', 1), ('enjoying', 1), ('skies', 1), ('raining', 1), ('participants', 1), ('still', 1), ('matt', 1), ('refusing', 1), ('accept', 1), ('oakville', 1), ('docked', 1), ('showed', 1), ('contributes', 1), ('client', 1), ('payment', 1), ('contractors', 1), ('provided', 1), ('decisions', 1), ('passing', 1), ('completion', 1), ('arisen', 1), ('questioned', 1), ('contingency', 1), ('involved', 1), ('unresponsive', 1), ('representatives', 1), ('amateurs', 1), ('largely', 1), ('critics', 1), ('argue', 1), ('again', 1), ('popular', 1), ('questioning', 1), ('validity', 1), ('opinion', 1), ('arguments', 1), ('8th', 1), ('02', 1), ('downsizing', 1), ('30am', 1), ('profitability', 1), ('9', 1), ('2005', 1), ('back', 1), ('affect', 1), ('greatly', 1), ('malfunction', 1), ('humidity', 1), ('wilting', 1), ('indicated', 1), ('ventilation', 1), ('journeys', 1), ('codes', 1), ('ruins', 1), ('entrance', 1), ('cafeteria', 1), ('responsible', 1), ('detrimental', 1), ('moderation', 1), ('comes', 1), ('choices', 1), ('going', 1), ('reprimanded', 1), ('demoralized', 1), ('recognized', 1), ('bystander', 1), ('scene', 1), ('fleeing', 1), ('overcrowded', 1), ('suffers', 1), ('qualified', 1), ('crews', 1), ('shareholders', 1), ('annual', 1), ('precinct', 1), ('theft', 1), ('previous', 1), ('mike', 1), ('compared', 1), ('based', 1), ('enhanced', 1), ('weekend', 1), ('issued', 1), ('positive', 1), ('downtown', 1), ('solar', 1), ('decade', 1), ('renewable', 1), ('incentives', 1), ('installations', 1), ('subsidies', 1), ('panel', 1), ('thrilled', 1), ('position', 1), ('presented', 1), ('promised', 1), ('requesting', 1), ('consider', 1), ('requests', 1), ('breaks', 1), ('tourism', 1), ('mary', 1), ('wouldn', 1), ('serviced', 1), ('just', 1), ('couldn', 1), ('apr', 1), ('woman', 1), ('4', 1), ('charged', 1), ('0', 1), ('manslaughter', 1), ('speeding', 1), ('victim', 1), ('killed', 1), ('cleanse', 1), ('initiating', 1), ('audits', 1), ('departments', 1), ('investigations', 1), ('club', 1), ('speaking', 1), ('improvements', 1), ('cst', 1), ('melting', 1), ('caps', 1), ('luxury', 1), ('causal', 1), ('similar', 1), ('signal', 1), ('superintendent', 1), ('example', 1), ('relationship', 1), ('ai', 1), ('language', 1), ('remain', 1), ('effect', 1), ('sentence', 1), ('cream', 1), ('stomachache', 1), ('bed', 1), ('cet', 1), ('embezzlement', 1), ('prevention', 1), ('cigarettes', 1), ('centers', 1), ('miami', 1), ('electric', 1), ('transformers', 1), ('repairs', 1), ('electrical', 1), ('commute', 1), ('lasted', 1), ('discipline', 1), ('disrupts', 1), ('correlation', 1), ('renowned', 1), ('psychologists', 1), ('remarkable', 1), ('describing', 1), ('achievement', 1), ('streak', 1), ('prevented', 1), ('stepped', 1), ('brakes', 1), ('reacted', 1), ('chastised', 1), ('smell', 1), ('noticing', 1), ('posing', 1), ('quickly', 1), ('strange', 1), ('methods', 1), ('interactive', 1), ('engaging', 1), ('teaching', 1), ('despair', 1), ('fear', 1), ('predicts', 1), ('anticipating', 1), ('fears', 1), ('markets', 1), ('patna', 1), ('ap', 1), ('encourages', 1), ('nevertheless', 1), ('behavior', 1), ('scandalous', 1), ('appointment', 1), ('neglected', 1), ('responsibilities', 1), ('intelligence', 1), ('professions', 1), ('certain', 1), ('rapid', 1), ('artificial', 1), ('aim', 1), ('non', 1), ('compliant', 1), ('expert', 1), ('value', 1), ('move', 1), ('assault', 1), ('remote', 1), ('kabul', 1), ('militants', 1), ('agency', 1), ('unexpected', 1), ('outpost', 1), ('including', 1), ('personnel', 1), ('afghanistan', 1), ('age', 1), ('coupled', 1), ('digging', 1), ('pipe', 1), ('accidentally', 1), ('burst', 1), ('flames', 1), ('bbc', 1), ('dropout', 1), ('discussing', 1), ('began', 1), ('leaves', 1), ('color', 1), ('similarly', 1), ('interventions', 1), ('laid', 1), ('parts', 1), ('fulfill', 1), ('lights', 1), ('problem', 1), ('tow', 1), ('jane', 1), ('end', 1), ('ended', 1), ('amount', 1), ('lose', 1), ('me', 1), ('stumbled', 1), ('branch', 1), ('insecurity', 1), ('source', 1), ('ecosystem', 1), ('irreversible', 1), ('enforce', 1), ('clouds', 1), ('dark', 1), ('above', 1), ('inaction', 1), ('whom', 1), ('highlighters', 1), ('backpacks', 1), ('pencils', 1), ('armed', 1), ('notebooks', 1), ('guides', 1), ('comply', 1), ('shutdown', 1), ('complete', 1), ('brutality', 1), ('lecture', 1), ('inspiring', 1), ('village', 1), ('promote', 1), ('cleanup', 1), ('occupied', 1), ('stabilize', 1), ('decides', 1), ('jim', 1), ('adverse', 1), ('manufacturing', 1), ('struggles', 1), ('numbers', 1), ('demonstrators', 1), ('congested', 1), ('soccer', 1), ('summit', 1), ('un', 1), ('leaders', 1), ('sustainable', 1), ('see', 1), ('recycle', 1), ('otherwise', 1), ('guidelines', 1), ('introduced', 1), ('carpooling', 1), ('using', 1), ('dangers', 1), ('deteriorate', 1), ('smoke', 1), ('starting', 1), ('headquarters', 1), ('chanted', 1), ('slogans', 1), ('intervention', 1), ('underprivileged', 1), ('colleges', 1), ('attacks', 1), ('prioritizes', 1), ('vaccinated', 1), ('prioritize', 1), ('fundraising', 1), ('plane', 1), ('fatalities', 1), ('spite', 1), ('eating', 1), ('incredibly', 1), ('full', 1), ('body', 1), ('digest', 1), ('meal', 1), ('enjoy', 1), ('rohan', 1), ('sharma', 1), ('passed', 1), ('plant', 1), ('reconsidered', 1), ('extra', 1), ('offered', 1), ('introduces', 1), ('burden', 1), ('allegations', 1), ('properly', 1), ('maintained', 1), ('brown', 1), ('victory', 1), ('securing', 1), ('alexander', 1), ('elections', 1), ('decisive', 1), ('21', 1), ('winner', 1), ('mayoral', 1), ('brake', 1), ('plight', 1), ('stage', 1), ('flagship', 1), ('dramatically', 1), ('participating', 1), ('planet', 1), ('saved', 1), ('littering', 1), ('blackout', 1), ('heatwaves', 1), ('warns', 1), ('reasons', 1)]\n"
     ]
    }
   ],
   "source": [
    "#This is to get a statistic of the most common words used in each of the sentences. This will inform which entries will be cut from the final dataset.\n",
    "\n",
    "common_words = find_common_words(df_f)\n",
    "print(common_words)"
   ]
  },
  {
   "cell_type": "code",
   "execution_count": 15,
   "id": "99d5f2b0-89c7-4392-84a9-91b167cbb466",
   "metadata": {},
   "outputs": [],
   "source": [
    "csv_file_path = 'CNC_train_raw.csv'\n",
    "df_f.to_csv(csv_file_path, index=False)"
   ]
  },
  {
   "cell_type": "code",
   "execution_count": 18,
   "id": "9d15c0b3-60a1-4a5f-bd37-d9da75eae446",
   "metadata": {
    "scrolled": true
   },
   "outputs": [
    {
     "name": "stderr",
     "output_type": "stream",
     "text": [
      "/var/folders/0z/7ky_dy791xqbq2pvq3wkjlmr0000gn/T/ipykernel_42126/223307239.py:2: SettingWithCopyWarning: \n",
      "A value is trying to be set on a copy of a slice from a DataFrame.\n",
      "Try using .loc[row_indexer,col_indexer] = value instead\n",
      "\n",
      "See the caveats in the documentation: https://pandas.pydata.org/pandas-docs/stable/user_guide/indexing.html#returning-a-view-versus-a-copy\n",
      "  df_f['sent_id'] = range(10000, 10000 + len(df_f))\n",
      "/var/folders/0z/7ky_dy791xqbq2pvq3wkjlmr0000gn/T/ipykernel_42126/223307239.py:5: SettingWithCopyWarning: \n",
      "A value is trying to be set on a copy of a slice from a DataFrame.\n",
      "Try using .loc[row_indexer,col_indexer] = value instead\n",
      "\n",
      "See the caveats in the documentation: https://pandas.pydata.org/pandas-docs/stable/user_guide/indexing.html#returning-a-view-versus-a-copy\n",
      "  df_f['corpus'] = 'cnc'\n",
      "/var/folders/0z/7ky_dy791xqbq2pvq3wkjlmr0000gn/T/ipykernel_42126/223307239.py:8: SettingWithCopyWarning: \n",
      "A value is trying to be set on a copy of a slice from a DataFrame.\n",
      "Try using .loc[row_indexer,col_indexer] = value instead\n",
      "\n",
      "See the caveats in the documentation: https://pandas.pydata.org/pandas-docs/stable/user_guide/indexing.html#returning-a-view-versus-a-copy\n",
      "  df_f['eg_id'] = 0\n",
      "/var/folders/0z/7ky_dy791xqbq2pvq3wkjlmr0000gn/T/ipykernel_42126/223307239.py:11: SettingWithCopyWarning: \n",
      "A value is trying to be set on a copy of a slice from a DataFrame.\n",
      "Try using .loc[row_indexer,col_indexer] = value instead\n",
      "\n",
      "See the caveats in the documentation: https://pandas.pydata.org/pandas-docs/stable/user_guide/indexing.html#returning-a-view-versus-a-copy\n",
      "  df_f['doc_id'] = [f'train_{i}_{j}' for i, j in zip(range(1000, 1000 + len(df_f)), range(10000, 10000 + len(df_f)))]\n",
      "/var/folders/0z/7ky_dy791xqbq2pvq3wkjlmr0000gn/T/ipykernel_42126/223307239.py:14: SettingWithCopyWarning: \n",
      "A value is trying to be set on a copy of a slice from a DataFrame.\n",
      "Try using .loc[row_indexer,col_indexer] = value instead\n",
      "\n",
      "See the caveats in the documentation: https://pandas.pydata.org/pandas-docs/stable/user_guide/indexing.html#returning-a-view-versus-a-copy\n",
      "  df_f['index'] = [f'cnc_train_{i}_{j}_{k}_10' for i, j, k in zip(range(100, 100 + len(df_f)), range(1000, 1000 + len(df_f)), range(10000, 10000 + len(df_f)))]\n"
     ]
    }
   ],
   "source": [
    "#code block by shubhika\n",
    "\n",
    "\n",
    "# Adding a new column 'sent_id' starting from 10000 and incrementing by 1\n",
    "df_f['sent_id'] = range(10000, 10000 + len(df_f))\n",
    "\n",
    "# Adding a new column 'corpus' with constant value 'cnc'\n",
    "df_f['corpus'] = 'cnc'\n",
    "\n",
    "# Adding a new column 'eg_id' with constant value 0\n",
    "df_f['eg_id'] = 0\n",
    "\n",
    "# Adding a new column 'doc_id' with values 'train_1000_10000' where 'train_' is constant, and the other two values are incremented by 1\n",
    "df_f['doc_id'] = [f'train_{i}_{j}' for i, j in zip(range(1000, 1000 + len(df_f)), range(10000, 10000 + len(df_f)))]\n",
    "\n",
    "# Adding a new column 'index' with values based on variables i, j, k\n",
    "df_f['index'] = [f'cnc_train_{i}_{j}_{k}_10' for i, j, k in zip(range(100, 100 + len(df_f)), range(1000, 1000 + len(df_f)), range(10000, 10000 + len(df_f)))]\n"
   ]
  },
  {
   "cell_type": "code",
   "execution_count": 24,
   "id": "21df4e50-a040-4f56-ba8c-7d5df710874f",
   "metadata": {},
   "outputs": [
    {
     "name": "stderr",
     "output_type": "stream",
     "text": [
      "/var/folders/0z/7ky_dy791xqbq2pvq3wkjlmr0000gn/T/ipykernel_42126/3188732107.py:1: SettingWithCopyWarning: \n",
      "A value is trying to be set on a copy of a slice from a DataFrame\n",
      "\n",
      "See the caveats in the documentation: https://pandas.pydata.org/pandas-docs/stable/user_guide/indexing.html#returning-a-view-versus-a-copy\n",
      "  df_f.rename(columns={'Text': 'causal_text_w_pairs'}, inplace=True)\n"
     ]
    }
   ],
   "source": [
    "df_f.rename(columns={'Text': 'causal_text_w_pairs'}, inplace=True)"
   ]
  },
  {
   "cell_type": "code",
   "execution_count": 25,
   "id": "16d20ca1-9fc2-4cef-bccf-187959c7334f",
   "metadata": {},
   "outputs": [
    {
     "data": {
      "text/html": [
       "<div>\n",
       "<style scoped>\n",
       "    .dataframe tbody tr th:only-of-type {\n",
       "        vertical-align: middle;\n",
       "    }\n",
       "\n",
       "    .dataframe tbody tr th {\n",
       "        vertical-align: top;\n",
       "    }\n",
       "\n",
       "    .dataframe thead th {\n",
       "        text-align: right;\n",
       "    }\n",
       "</style>\n",
       "<table border=\"1\" class=\"dataframe\">\n",
       "  <thead>\n",
       "    <tr style=\"text-align: right;\">\n",
       "      <th></th>\n",
       "      <th>causal_text_w_pairs</th>\n",
       "      <th>sent_id</th>\n",
       "      <th>corpus</th>\n",
       "      <th>eg_id</th>\n",
       "      <th>doc_id</th>\n",
       "      <th>index</th>\n",
       "    </tr>\n",
       "  </thead>\n",
       "  <tbody>\n",
       "    <tr>\n",
       "      <th>0</th>\n",
       "      <td>The company accused &lt;ARG1&gt;the employee of stea...</td>\n",
       "      <td>10000</td>\n",
       "      <td>cnc</td>\n",
       "      <td>0</td>\n",
       "      <td>train_1000_10000</td>\n",
       "      <td>cnc_train_100_1000_10000_10</td>\n",
       "    </tr>\n",
       "    <tr>\n",
       "      <th>1</th>\n",
       "      <td>\"&lt;ARG1&gt;The students organized a protest&lt;/ARG1&gt;...</td>\n",
       "      <td>10001</td>\n",
       "      <td>cnc</td>\n",
       "      <td>0</td>\n",
       "      <td>train_1001_10001</td>\n",
       "      <td>cnc_train_101_1001_10001_10</td>\n",
       "    </tr>\n",
       "    <tr>\n",
       "      <th>2</th>\n",
       "      <td>'&lt;ARG1&gt;The students are excited&lt;/ARG1&gt; &lt;SIG0&gt;b...</td>\n",
       "      <td>10002</td>\n",
       "      <td>cnc</td>\n",
       "      <td>0</td>\n",
       "      <td>train_1002_10002</td>\n",
       "      <td>cnc_train_102_1002_10002_10</td>\n",
       "    </tr>\n",
       "    <tr>\n",
       "      <th>3</th>\n",
       "      <td>'&lt;ARG0&gt;Poor air quality&lt;/ARG0&gt; &lt;SIG0&gt;can &lt;ARG1...</td>\n",
       "      <td>10003</td>\n",
       "      <td>cnc</td>\n",
       "      <td>0</td>\n",
       "      <td>train_1003_10003</td>\n",
       "      <td>cnc_train_103_1003_10003_10</td>\n",
       "    </tr>\n",
       "    <tr>\n",
       "      <th>4</th>\n",
       "      <td>Since the news about the company's financial d...</td>\n",
       "      <td>10004</td>\n",
       "      <td>cnc</td>\n",
       "      <td>0</td>\n",
       "      <td>train_1004_10004</td>\n",
       "      <td>cnc_train_104_1004_10004_10</td>\n",
       "    </tr>\n",
       "  </tbody>\n",
       "</table>\n",
       "</div>"
      ],
      "text/plain": [
       "                                 causal_text_w_pairs  sent_id corpus  eg_id  \\\n",
       "0  The company accused <ARG1>the employee of stea...    10000    cnc      0   \n",
       "1  \"<ARG1>The students organized a protest</ARG1>...    10001    cnc      0   \n",
       "2  '<ARG1>The students are excited</ARG1> <SIG0>b...    10002    cnc      0   \n",
       "3  '<ARG0>Poor air quality</ARG0> <SIG0>can <ARG1...    10003    cnc      0   \n",
       "4  Since the news about the company's financial d...    10004    cnc      0   \n",
       "\n",
       "             doc_id                        index  \n",
       "0  train_1000_10000  cnc_train_100_1000_10000_10  \n",
       "1  train_1001_10001  cnc_train_101_1001_10001_10  \n",
       "2  train_1002_10002  cnc_train_102_1002_10002_10  \n",
       "3  train_1003_10003  cnc_train_103_1003_10003_10  \n",
       "4  train_1004_10004  cnc_train_104_1004_10004_10  "
      ]
     },
     "execution_count": 25,
     "metadata": {},
     "output_type": "execute_result"
    }
   ],
   "source": [
    "df_f.head()"
   ]
  },
  {
   "cell_type": "code",
   "execution_count": 26,
   "id": "e1b07b99-8bea-4095-b307-9af3967f3408",
   "metadata": {},
   "outputs": [],
   "source": [
    "df_f2 = df_f"
   ]
  },
  {
   "cell_type": "code",
   "execution_count": 29,
   "id": "ce4e1bbe-f329-4f74-952f-07e060a6a53b",
   "metadata": {},
   "outputs": [
    {
     "name": "stderr",
     "output_type": "stream",
     "text": [
      "/var/folders/0z/7ky_dy791xqbq2pvq3wkjlmr0000gn/T/ipykernel_42126/1233164403.py:1: SettingWithCopyWarning: \n",
      "A value is trying to be set on a copy of a slice from a DataFrame.\n",
      "Try using .loc[row_indexer,col_indexer] = value instead\n",
      "\n",
      "See the caveats in the documentation: https://pandas.pydata.org/pandas-docs/stable/user_guide/indexing.html#returning-a-view-versus-a-copy\n",
      "  df_f2['text'] = df_f2['causal_text_w_pairs'].apply(lambda x: re.sub(r'<(/?ARG[01]|/?SIG0)>', '', x))\n"
     ]
    }
   ],
   "source": [
    "df_f2['text'] = df_f2['causal_text_w_pairs'].apply(lambda x: re.sub(r'<(/?ARG[01]|/?SIG0)>', '', x))"
   ]
  },
  {
   "cell_type": "code",
   "execution_count": 30,
   "id": "bbfb46b2-f42e-46eb-a013-cd464e9d522e",
   "metadata": {},
   "outputs": [
    {
     "data": {
      "text/html": [
       "<div>\n",
       "<style scoped>\n",
       "    .dataframe tbody tr th:only-of-type {\n",
       "        vertical-align: middle;\n",
       "    }\n",
       "\n",
       "    .dataframe tbody tr th {\n",
       "        vertical-align: top;\n",
       "    }\n",
       "\n",
       "    .dataframe thead th {\n",
       "        text-align: right;\n",
       "    }\n",
       "</style>\n",
       "<table border=\"1\" class=\"dataframe\">\n",
       "  <thead>\n",
       "    <tr style=\"text-align: right;\">\n",
       "      <th></th>\n",
       "      <th>causal_text_w_pairs</th>\n",
       "      <th>sent_id</th>\n",
       "      <th>corpus</th>\n",
       "      <th>eg_id</th>\n",
       "      <th>doc_id</th>\n",
       "      <th>index</th>\n",
       "      <th>text</th>\n",
       "    </tr>\n",
       "  </thead>\n",
       "  <tbody>\n",
       "    <tr>\n",
       "      <th>0</th>\n",
       "      <td>The company accused &lt;ARG1&gt;the employee of stea...</td>\n",
       "      <td>10000</td>\n",
       "      <td>cnc</td>\n",
       "      <td>0</td>\n",
       "      <td>train_1000_10000</td>\n",
       "      <td>cnc_train_100_1000_10000_10</td>\n",
       "      <td>The company accused the employee of stealing c...</td>\n",
       "    </tr>\n",
       "    <tr>\n",
       "      <th>1</th>\n",
       "      <td>\"&lt;ARG1&gt;The students organized a protest&lt;/ARG1&gt;...</td>\n",
       "      <td>10001</td>\n",
       "      <td>cnc</td>\n",
       "      <td>0</td>\n",
       "      <td>train_1001_10001</td>\n",
       "      <td>cnc_train_101_1001_10001_10</td>\n",
       "      <td>\"The students organized a protest because they...</td>\n",
       "    </tr>\n",
       "    <tr>\n",
       "      <th>2</th>\n",
       "      <td>'&lt;ARG1&gt;The students are excited&lt;/ARG1&gt; &lt;SIG0&gt;b...</td>\n",
       "      <td>10002</td>\n",
       "      <td>cnc</td>\n",
       "      <td>0</td>\n",
       "      <td>train_1002_10002</td>\n",
       "      <td>cnc_train_102_1002_10002_10</td>\n",
       "      <td>'The students are excited because they won the...</td>\n",
       "    </tr>\n",
       "    <tr>\n",
       "      <th>3</th>\n",
       "      <td>'&lt;ARG0&gt;Poor air quality&lt;/ARG0&gt; &lt;SIG0&gt;can &lt;ARG1...</td>\n",
       "      <td>10003</td>\n",
       "      <td>cnc</td>\n",
       "      <td>0</td>\n",
       "      <td>train_1003_10003</td>\n",
       "      <td>cnc_train_103_1003_10003_10</td>\n",
       "      <td>'Poor air quality can cause respiratory issues...</td>\n",
       "    </tr>\n",
       "    <tr>\n",
       "      <th>4</th>\n",
       "      <td>Since the news about the company's financial d...</td>\n",
       "      <td>10004</td>\n",
       "      <td>cnc</td>\n",
       "      <td>0</td>\n",
       "      <td>train_1004_10004</td>\n",
       "      <td>cnc_train_104_1004_10004_10</td>\n",
       "      <td>Since the news about the company's financial d...</td>\n",
       "    </tr>\n",
       "  </tbody>\n",
       "</table>\n",
       "</div>"
      ],
      "text/plain": [
       "                                 causal_text_w_pairs  sent_id corpus  eg_id  \\\n",
       "0  The company accused <ARG1>the employee of stea...    10000    cnc      0   \n",
       "1  \"<ARG1>The students organized a protest</ARG1>...    10001    cnc      0   \n",
       "2  '<ARG1>The students are excited</ARG1> <SIG0>b...    10002    cnc      0   \n",
       "3  '<ARG0>Poor air quality</ARG0> <SIG0>can <ARG1...    10003    cnc      0   \n",
       "4  Since the news about the company's financial d...    10004    cnc      0   \n",
       "\n",
       "             doc_id                        index  \\\n",
       "0  train_1000_10000  cnc_train_100_1000_10000_10   \n",
       "1  train_1001_10001  cnc_train_101_1001_10001_10   \n",
       "2  train_1002_10002  cnc_train_102_1002_10002_10   \n",
       "3  train_1003_10003  cnc_train_103_1003_10003_10   \n",
       "4  train_1004_10004  cnc_train_104_1004_10004_10   \n",
       "\n",
       "                                                text  \n",
       "0  The company accused the employee of stealing c...  \n",
       "1  \"The students organized a protest because they...  \n",
       "2  'The students are excited because they won the...  \n",
       "3  'Poor air quality can cause respiratory issues...  \n",
       "4  Since the news about the company's financial d...  "
      ]
     },
     "execution_count": 30,
     "metadata": {},
     "output_type": "execute_result"
    }
   ],
   "source": [
    "df_f2.head()"
   ]
  },
  {
   "cell_type": "code",
   "execution_count": 31,
   "id": "95480cb0-26bf-4008-a56d-298641331386",
   "metadata": {},
   "outputs": [
    {
     "name": "stderr",
     "output_type": "stream",
     "text": [
      "/var/folders/0z/7ky_dy791xqbq2pvq3wkjlmr0000gn/T/ipykernel_42126/515156218.py:1: SettingWithCopyWarning: \n",
      "A value is trying to be set on a copy of a slice from a DataFrame.\n",
      "Try using .loc[row_indexer,col_indexer] = value instead\n",
      "\n",
      "See the caveats in the documentation: https://pandas.pydata.org/pandas-docs/stable/user_guide/indexing.html#returning-a-view-versus-a-copy\n",
      "  df_f2['num_rs'] = 1\n"
     ]
    }
   ],
   "source": [
    "#Always 1 because the data is based on only 1 causal relationship sentences.\n",
    "df_f2['num_rs'] = 1"
   ]
  },
  {
   "cell_type": "code",
   "execution_count": 32,
   "id": "29d54a6a-371e-496b-a5f5-e6789c4659ff",
   "metadata": {},
   "outputs": [],
   "source": [
    "#orders the field names, also based on the code from shubhika\n",
    "df_f2 = df_f2[['corpus', 'doc_id', 'sent_id', 'eg_id', 'index', 'text', 'causal_text_w_pairs', 'num_rs']]"
   ]
  },
  {
   "cell_type": "code",
   "execution_count": 33,
   "id": "21c14469-79e4-4661-8188-cb0950362d59",
   "metadata": {},
   "outputs": [],
   "source": [
    "df_f2.to_csv('CNC_chatgpt_output.csv', index=None)"
   ]
  },
  {
   "cell_type": "code",
   "execution_count": null,
   "id": "9d6e9b78-592f-4f34-8e6b-007efa88f069",
   "metadata": {},
   "outputs": [],
   "source": []
  }
 ],
 "metadata": {
  "kernelspec": {
   "display_name": "Python 3 (ipykernel)",
   "language": "python",
   "name": "python3"
  },
  "language_info": {
   "codemirror_mode": {
    "name": "ipython",
    "version": 3
   },
   "file_extension": ".py",
   "mimetype": "text/x-python",
   "name": "python",
   "nbconvert_exporter": "python",
   "pygments_lexer": "ipython3",
   "version": "3.9.16"
  }
 },
 "nbformat": 4,
 "nbformat_minor": 5
}
