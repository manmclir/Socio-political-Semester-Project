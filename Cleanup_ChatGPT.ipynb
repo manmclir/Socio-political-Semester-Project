{
 "cells": [
  {
   "cell_type": "code",
   "execution_count": 2,
   "id": "9d82dc7f-be94-4a47-9a68-64a6787e7273",
   "metadata": {},
   "outputs": [],
   "source": [
    "import pandas as pd\n",
    "import matplotlib.pyplot as plt\n",
    "import numpy as np\n",
    "from openai import OpenAI\n",
    "import os\n",
    "import re\n",
    "import time\n",
    "import csv\n",
    "from collections import Counter"
   ]
  },
  {
   "cell_type": "code",
   "execution_count": 3,
   "id": "fde9a366-eb2d-4256-8c1f-01f7c150408d",
   "metadata": {},
   "outputs": [],
   "source": [
    "df = pd.read_csv('CNC_synth_copy2.csv')"
   ]
  },
  {
   "cell_type": "code",
   "execution_count": 126,
   "id": "a138deb3-d73b-4b15-b6c5-1206edb6d201",
   "metadata": {},
   "outputs": [
    {
     "data": {
      "text/html": [
       "<div>\n",
       "<style scoped>\n",
       "    .dataframe tbody tr th:only-of-type {\n",
       "        vertical-align: middle;\n",
       "    }\n",
       "\n",
       "    .dataframe tbody tr th {\n",
       "        vertical-align: top;\n",
       "    }\n",
       "\n",
       "    .dataframe thead th {\n",
       "        text-align: right;\n",
       "    }\n",
       "</style>\n",
       "<table border=\"1\" class=\"dataframe\">\n",
       "  <thead>\n",
       "    <tr style=\"text-align: right;\">\n",
       "      <th></th>\n",
       "      <th>Text</th>\n",
       "    </tr>\n",
       "  </thead>\n",
       "  <tbody>\n",
       "    <tr>\n",
       "      <th>0</th>\n",
       "      <td>The company accused &lt;ARG1&gt;the employee of stea...</td>\n",
       "    </tr>\n",
       "    <tr>\n",
       "      <th>1</th>\n",
       "      <td>\"&lt;ARG1&gt;The students organized a protest&lt;/ARG1&gt;...</td>\n",
       "    </tr>\n",
       "    <tr>\n",
       "      <th>2</th>\n",
       "      <td>'&lt;ARG1&gt;The students are excited&lt;/ARG1&gt; &lt;SIG0&gt;b...</td>\n",
       "    </tr>\n",
       "    <tr>\n",
       "      <th>3</th>\n",
       "      <td>'&lt;ARG0&gt;Poor air quality&lt;/ARG0&gt; &lt;SIG0&gt;can &lt;ARG1...</td>\n",
       "    </tr>\n",
       "    <tr>\n",
       "      <th>4</th>\n",
       "      <td>Since the news about the company's financial d...</td>\n",
       "    </tr>\n",
       "  </tbody>\n",
       "</table>\n",
       "</div>"
      ],
      "text/plain": [
       "                                                Text\n",
       "0  The company accused <ARG1>the employee of stea...\n",
       "1  \"<ARG1>The students organized a protest</ARG1>...\n",
       "2  '<ARG1>The students are excited</ARG1> <SIG0>b...\n",
       "3  '<ARG0>Poor air quality</ARG0> <SIG0>can <ARG1...\n",
       "4  Since the news about the company's financial d..."
      ]
     },
     "execution_count": 126,
     "metadata": {},
     "output_type": "execute_result"
    }
   ],
   "source": [
    "df.head()"
   ]
  },
  {
   "cell_type": "code",
   "execution_count": 127,
   "id": "00d22434-1137-46e5-9531-ab5a43bd69a4",
   "metadata": {},
   "outputs": [
    {
     "name": "stdout",
     "output_type": "stream",
     "text": [
      "1098\n"
     ]
    }
   ],
   "source": [
    "print(len(df))"
   ]
  },
  {
   "cell_type": "code",
   "execution_count": 4,
   "id": "57a30d00-85b0-40e7-af00-e6e82064565f",
   "metadata": {},
   "outputs": [],
   "source": [
    "def filter_dataframe(df, word_one, word_two, word_three):\n",
    "    filtered_df = df[df['Text'].str.contains(word_one, case=False) & df['Text'].str.contains(word_two, case=False)& df['Text'].str.contains(word_three, case=False)]\n",
    "\n",
    "    return filtered_df"
   ]
  },
  {
   "cell_type": "code",
   "execution_count": 5,
   "id": "27761880-06c5-4f02-9c66-b7c59043523e",
   "metadata": {},
   "outputs": [],
   "source": [
    "def filter_dataframe2(df, word_one, word_two, word_three, word_four, word_five, word_six):\n",
    "    filtered_df = df[df['Text'].str.contains(word_one, case=False) & df['Text'].str.contains(word_two, case=False)& df['Text'].str.contains(word_three, case=False)& df['Text'].str.contains(word_four, case=False)& df['Text'].str.contains(word_five, case=False)& df['Text'].str.contains(word_six, case=False)]\n",
    "\n",
    "    return filtered_df"
   ]
  },
  {
   "cell_type": "code",
   "execution_count": 6,
   "id": "5d61f7c0-72f7-4e98-88b5-a88fce8a251b",
   "metadata": {},
   "outputs": [],
   "source": [
    "def filter_dataframe_l(df, word_list):\n",
    "    # Constructing the dynamic condition based on the list of words\n",
    "    condition = df['Text'].apply(lambda x: all(re.search(re.escape(word), x, re.IGNORECASE) for word in word_list))\n",
    "\n",
    "    # Applying the condition to filter the DataFrame\n",
    "    filtered_df = df[condition]\n",
    "\n",
    "    return filtered_df"
   ]
  },
  {
   "cell_type": "code",
   "execution_count": 7,
   "id": "0d277193-1376-4fac-8a87-61243c138e39",
   "metadata": {},
   "outputs": [],
   "source": [
    "def replace_double_spaces(df, column_name):\n",
    "    # Ensure the column exists in the DataFrame\n",
    "    if column_name not in df.columns:\n",
    "        raise ValueError(f\"Column '{column_name}' not found in DataFrame.\")\n",
    "\n",
    "    # Replace double spaces with single spaces in the specified column\n",
    "    df2 = df\n",
    "    df2[column_name] = df[column_name].str.replace('  ', ' ')\n",
    "    return df2"
   ]
  },
  {
   "cell_type": "code",
   "execution_count": 8,
   "id": "091c9110-ae9c-456d-8f03-3e1c07a13bf8",
   "metadata": {},
   "outputs": [],
   "source": [
    "def process_text(text):\n",
    "    # Characters to check for\n",
    "    punctuation_chars = [',', '\"', \"'\"]\n",
    "\n",
    "    # Iterate through each character in the text\n",
    "    processed_text = \"\"\n",
    "    for char in text:\n",
    "        # Add spaces around specified punctuation characters\n",
    "        if char in punctuation_chars:\n",
    "            processed_text += f' \\{char} '\n",
    "        else:\n",
    "            processed_text += char\n",
    "    text = processed_text\n",
    "    start_index = 0\n",
    "    end_index = len(text)\n",
    "\n",
    "    # Find the index of the first letter, <, or >\n",
    "    for i, char in enumerate(text):\n",
    "        if char.isalpha() or char == '<' or char == '>'or text[i] == '.':\n",
    "            start_index = i\n",
    "            break\n",
    "\n",
    "    # Find the index of the last letter, <, or >\n",
    "    for i in range(len(text) - 1, -1, -1):\n",
    "        if text[i].isalpha() or text[i] == '<' or text[i] == '>'or text[i] == '.':\n",
    "            end_index = i + 1\n",
    "            break\n",
    "\n",
    "    # Extract the substring between the first and last letters\n",
    "    result = text[start_index:end_index].strip()\n",
    "\n",
    "    result += '.'\n",
    "    result = \"['{}']\".format(result)\n",
    "\n",
    "    return result"
   ]
  },
  {
   "cell_type": "code",
   "execution_count": 11,
   "id": "32f0189e-3a22-4ceb-8296-c1e3d699448e",
   "metadata": {},
   "outputs": [],
   "source": [
    "df['Text'] = df['Text'].apply(lambda x: process_text(x))"
   ]
  },
  {
   "cell_type": "code",
   "execution_count": 12,
   "id": "1013c7e0-027d-4ecb-b8ce-b698b7384f80",
   "metadata": {},
   "outputs": [
    {
     "name": "stdout",
     "output_type": "stream",
     "text": [
      "1098\n"
     ]
    }
   ],
   "source": [
    "print(len(df))"
   ]
  },
  {
   "cell_type": "code",
   "execution_count": 43,
   "id": "08b05be7-f00d-4c21-8a6e-963d9680d083",
   "metadata": {},
   "outputs": [],
   "source": [
    "#this deletes any entries that lack an ARG0 or an ARG1\n",
    "df_f = filter_dataframe(df,'<ARG0>', '<ARG1>','<SIG0>')"
   ]
  },
  {
   "cell_type": "code",
   "execution_count": 12,
   "id": "5651696d-7b17-4112-b93a-42105f4cbaeb",
   "metadata": {},
   "outputs": [],
   "source": [
    "filter_list = ['<ARG0>','<ARG1>','<SIG0>','</ARG0>','</ARG1>','</SIG0>']\n",
    "df_f = filter_dataframe_l(df, filter_list)"
   ]
  },
  {
   "cell_type": "code",
   "execution_count": 14,
   "id": "00bafef9-4a28-48c8-8ddd-6477717aec80",
   "metadata": {},
   "outputs": [
    {
     "data": {
      "text/plain": [
       "808"
      ]
     },
     "execution_count": 14,
     "metadata": {},
     "output_type": "execute_result"
    }
   ],
   "source": [
    "len(df_f)"
   ]
  },
  {
   "cell_type": "code",
   "execution_count": 15,
   "id": "5ff638da-ce07-4ef9-876f-68977f824caa",
   "metadata": {},
   "outputs": [
    {
     "data": {
      "text/html": [
       "<div>\n",
       "<style scoped>\n",
       "    .dataframe tbody tr th:only-of-type {\n",
       "        vertical-align: middle;\n",
       "    }\n",
       "\n",
       "    .dataframe tbody tr th {\n",
       "        vertical-align: top;\n",
       "    }\n",
       "\n",
       "    .dataframe thead th {\n",
       "        text-align: right;\n",
       "    }\n",
       "</style>\n",
       "<table border=\"1\" class=\"dataframe\">\n",
       "  <thead>\n",
       "    <tr style=\"text-align: right;\">\n",
       "      <th></th>\n",
       "      <th>Text</th>\n",
       "    </tr>\n",
       "  </thead>\n",
       "  <tbody>\n",
       "    <tr>\n",
       "      <th>0</th>\n",
       "      <td>['The company accused &lt;ARG1&gt;the employee of st...</td>\n",
       "    </tr>\n",
       "    <tr>\n",
       "      <th>2</th>\n",
       "      <td>['&lt;ARG1&gt;The students are excited&lt;/ARG1&gt; &lt;SIG0&gt;...</td>\n",
       "    </tr>\n",
       "    <tr>\n",
       "      <th>4</th>\n",
       "      <td>['Since the news about the company \\' s financ...</td>\n",
       "    </tr>\n",
       "    <tr>\n",
       "      <th>5</th>\n",
       "      <td>['On the morning of September 10th \\,  2015 at...</td>\n",
       "    </tr>\n",
       "    <tr>\n",
       "      <th>7</th>\n",
       "      <td>['She failed to water the plants &lt;ARG0&gt;for sev...</td>\n",
       "    </tr>\n",
       "  </tbody>\n",
       "</table>\n",
       "</div>"
      ],
      "text/plain": [
       "                                                Text\n",
       "0  ['The company accused <ARG1>the employee of st...\n",
       "2  ['<ARG1>The students are excited</ARG1> <SIG0>...\n",
       "4  ['Since the news about the company \\' s financ...\n",
       "5  ['On the morning of September 10th \\,  2015 at...\n",
       "7  ['She failed to water the plants <ARG0>for sev..."
      ]
     },
     "execution_count": 15,
     "metadata": {},
     "output_type": "execute_result"
    }
   ],
   "source": [
    "df_f.head()"
   ]
  },
  {
   "cell_type": "code",
   "execution_count": 16,
   "id": "8311f12f-1a7e-48e2-beb1-f0cf809f611d",
   "metadata": {},
   "outputs": [
    {
     "name": "stdout",
     "output_type": "stream",
     "text": [
      "['Since the news about the company \\' s financial downfall spread \\,  <ARG0>many employees</ARG0> <SIG0>have started to look for new job opportunities</SIG0> <ARG1>to secure their future.</ARG1>.']\n"
     ]
    }
   ],
   "source": [
    "print(df_f['Text'].iloc[2])"
   ]
  },
  {
   "cell_type": "code",
   "execution_count": 36,
   "id": "4c52f4d4-e3a6-49c4-bf1a-6fbc76a8f67f",
   "metadata": {},
   "outputs": [],
   "source": [
    "def find_common_words(df):\n",
    "    word_frequency = Counter()\n",
    "\n",
    "    # Iterate through each entry in the DataFrame\n",
    "    for index, row in df.iterrows():\n",
    "        # Combine the entries into a single string\n",
    "        combined_text = ' '.join(row)\n",
    "\n",
    "        # Tokenize the text into words (you might need a more sophisticated tokenizer based on your data)\n",
    "        words = re.findall(r'\\b\\w+\\b', combined_text.lower())\n",
    "\n",
    "        # Update word frequency based on the set of unique words in the entry\n",
    "        word_frequency.update(set(words))\n",
    "\n",
    "    # Get the most common words across all entries\n",
    "    most_common_words = word_frequency.most_common()\n",
    "\n",
    "    return most_common_words"
   ]
  },
  {
   "cell_type": "code",
   "execution_count": 18,
   "id": "fd7f34df-5f89-4c0a-a0c2-c80eb048ed9c",
   "metadata": {
    "scrolled": true
   },
   "outputs": [
    {
     "name": "stdout",
     "output_type": "stream",
     "text": [
      "[('arg1', 808), ('arg0', 808), ('sig0', 808), ('the', 715), ('to', 563), ('in', 456), ('and', 307), ('a', 300), ('of', 269), ('heavy', 231), ('due', 185), ('city', 145), ('flooding', 137), ('caused', 133), ('rain', 117), ('widespread', 99), ('resulting', 98), ('their', 97), ('for', 95), ('rainfall', 94), ('company', 87), ('new', 79), ('because', 77), ('after', 76), ('led', 75), ('increase', 74), ('s', 70), ('as', 70), ('on', 68), ('government', 66), ('damage', 65), ('was', 60), ('students', 59), ('has', 58), ('causing', 56), ('were', 56), ('streets', 56), ('by', 55), ('that', 53), ('severe', 52), ('flooded', 52), ('traffic', 50), ('leading', 50), ('order', 45), ('levels', 45), ('lack', 45), ('increased', 44), ('homes', 42), ('several', 40), ('pollution', 40), ('infrastructure', 40), ('residents', 40), ('resulted', 39), ('many', 38), ('rise', 38), ('implemented', 38), ('she', 37), ('with', 37), ('decided', 35), ('significant', 35), ('decrease', 35), ('car', 34), ('protest', 33), ('have', 32), ('demand', 32), ('strong', 32), ('at', 30), ('from', 30), ('local', 30), ('winds', 30), ('they', 29), ('result', 29), ('had', 29), ('during', 28), ('an', 28), ('area', 28), ('his', 27), ('recent', 27), ('prices', 26), ('measures', 25), ('global', 25), ('river', 25), ('exam', 25), ('sales', 25), ('major', 24), ('00', 24), ('work', 23), ('failed', 23), ('improve', 23), ('her', 23), ('driver', 23), ('according', 23), ('stricter', 23), ('study', 23), ('am', 22), ('among', 22), ('congestion', 22), ('crashed', 22), ('increasing', 22), ('he', 22), ('rates', 22), ('school', 22), ('profits', 22), ('it', 21), ('regulations', 21), ('poor', 21), ('road', 20), ('being', 20), ('respiratory', 20), ('better', 20), ('response', 20), ('people', 20), ('2021', 20), ('its', 19), ('safety', 19), ('announced', 19), ('demanding', 19), ('public', 19), ('environmental', 19), ('extensive', 19), ('student', 19), ('employees', 18), ('rising', 18), ('organized', 18), ('against', 18), ('12', 18), ('into', 18), ('health', 18), ('power', 18), ('rainstorm', 18), ('roads', 18), ('stock', 18), ('marketing', 18), ('citizens', 17), ('10', 17), ('tree', 17), ('university', 17), ('change', 17), ('which', 17), ('economic', 17), ('delays', 17), ('are', 16), ('job', 16), ('about', 16), ('financial', 16), ('police', 16), ('emissions', 16), ('action', 16), ('protests', 16), ('policy', 16), ('30', 16), ('down', 16), ('despite', 16), ('reduce', 16), ('started', 15), ('water', 15), ('conditions', 15), ('when', 15), ('weather', 15), ('last', 15), ('john', 15), ('areas', 15), ('outside', 15), ('tuition', 15), ('education', 15), ('accident', 15), ('will', 15), ('climate', 15), ('funding', 15), ('strike', 15), ('excessive', 15), ('not', 14), ('policies', 14), ('unemployment', 14), ('been', 14), ('crime', 14), ('hard', 13), ('ceo', 13), ('more', 13), ('group', 13), ('air', 13), ('decision', 13), ('strategy', 13), ('outdoor', 13), ('2022', 13), ('09', 13), ('plummeted', 13), ('system', 13), ('since', 12), ('property', 12), ('control', 12), ('night', 12), ('fees', 12), ('cars', 12), ('houses', 12), ('number', 12), ('t', 12), ('didn', 12), ('all', 12), ('concert', 12), ('evacuation', 12), ('construction', 12), ('jams', 12), ('administration', 12), ('went', 12), ('strict', 12), ('covid', 12), ('19', 12), ('concerns', 11), ('project', 11), ('such', 11), ('massive', 11), ('outages', 11), ('sig1', 11), ('be', 11), ('team', 11), ('gathered', 11), ('town', 11), ('nearby', 11), ('15', 11), ('budget', 11), ('is', 11), ('neighborhood', 11), ('ensure', 10), ('off', 10), ('receiving', 10), ('working', 10), ('price', 10), ('costs', 10), ('accidents', 10), ('2020', 10), ('protested', 10), ('thousands', 10), ('diseases', 10), ('prevent', 10), ('population', 10), ('ist', 10), ('lost', 10), ('gas', 10), ('cancellation', 10), ('day', 10), ('evacuate', 10), ('campaign', 10), ('late', 10), ('overflow', 10), ('hours', 10), ('destruction', 10), ('management', 10), ('decreased', 10), ('grades', 10), ('decline', 10), ('cases', 10), ('news', 9), ('performance', 9), ('closures', 9), ('meeting', 9), ('low', 9), ('authorities', 9), ('lead', 9), ('problems', 9), ('became', 9), ('building', 9), ('significantly', 9), ('enough', 9), ('coastal', 9), ('storm', 9), ('recession', 9), ('market', 9), ('studying', 9), ('rains', 9), ('oil', 9), ('industrial', 9), ('surrounding', 9), ('implement', 9), ('across', 9), ('got', 9), ('driving', 9), ('workers', 9), ('spending', 9), ('consumer', 9), ('teacher', 9), ('leads', 9), ('june', 9), ('transportation', 9), ('drainage', 9), ('employee', 8), ('spread', 8), ('delayed', 8), ('time', 8), ('multiple', 8), ('we', 8), ('investors', 8), ('missed', 8), ('further', 8), ('natural', 8), ('take', 8), ('fell', 8), ('explained', 8), ('experienced', 8), ('fuel', 8), ('throughout', 8), ('there', 8), ('protesters', 8), ('resources', 8), ('march', 8), ('economy', 8), ('floods', 8), ('stuck', 8), ('banks', 8), ('flood', 8), ('lockdown', 8), ('reports', 8), ('hike', 8), ('following', 8), ('closed', 8), ('higher', 8), ('emergency', 8), ('implementation', 8), ('facilities', 8), ('improved', 8), ('overall', 8), ('pm', 8), ('april', 8), ('skyrocketed', 8), ('cuts', 8), ('layoffs', 8), ('opportunities', 7), ('potential', 7), ('quality', 7), ('well', 7), ('implementing', 7), ('passengers', 7), ('while', 7), ('activities', 7), ('events', 7), ('demonstration', 7), ('high', 7), ('downpour', 7), ('if', 7), ('chaos', 7), ('texting', 7), ('gun', 7), ('would', 7), ('research', 7), ('calling', 7), ('temperatures', 7), ('protestors', 7), ('took', 7), ('this', 7), ('canceled', 7), ('panic', 7), ('could', 7), ('security', 7), ('various', 7), ('wages', 7), ('over', 7), ('studied', 7), ('soared', 7), ('forcing', 7), ('affected', 7), ('negative', 7), ('efforts', 7), ('report', 7), ('buildings', 7), ('received', 6), ('customer', 6), ('morning', 6), ('inconvenience', 6), ('highway', 6), ('causes', 6), ('numerous', 6), ('issues', 6), ('environment', 6), ('flights', 6), ('production', 6), ('sea', 6), ('awareness', 6), ('office', 6), ('campus', 6), ('london', 6), ('region', 6), ('phone', 6), ('laws', 6), ('illnesses', 6), ('support', 6), ('organizing', 6), ('hit', 6), ('york', 6), ('felt', 6), ('through', 6), ('event', 6), ('up', 6), ('protesting', 6), ('get', 6), ('living', 6), ('immediate', 6), ('trees', 6), ('july', 6), ('november', 6), ('cost', 6), ('broke', 6), ('vehicle', 6), ('address', 6), ('declining', 6), ('yesterday', 6), ('so', 6), ('effects', 6), ('workplace', 6), ('continued', 6), ('latest', 6), ('community', 6), ('council', 6), ('state', 6), ('rate', 6), ('unfair', 6), ('diligently', 6), ('today', 6), ('attention', 6), ('peaceful', 6), ('september', 5), ('made', 5), ('training', 5), ('investigation', 5), ('any', 5), ('stated', 5), ('wheel', 5), ('losing', 5), ('cancelled', 5), ('argument', 5), ('disasters', 5), ('carbon', 5), ('extreme', 5), ('raise', 5), ('failure', 5), ('08', 5), ('between', 5), ('asleep', 5), ('can', 5), ('neighborhoods', 5), ('make', 5), ('week', 5), ('businesses', 5), ('growing', 5), ('conference', 5), ('activists', 5), ('deforestation', 5), ('said', 5), ('start', 5), ('protocols', 5), ('although', 5), ('violence', 5), ('unless', 5), ('greenhouse', 5), ('getting', 5), ('him', 5), ('country', 5), ('class', 5), ('presence', 5), ('may', 5), ('advertising', 5), ('out', 5), ('need', 5), ('damaged', 5), ('continue', 5), ('fall', 5), ('20', 5), ('distracted', 5), ('marched', 5), ('proposed', 5), ('tax', 5), ('long', 5), ('strategies', 5), ('downturn', 5), ('sudden', 5), ('board', 5), ('teachers', 5), ('pst', 5), ('2019', 5), ('disappointed', 5), ('test', 5), ('promotion', 5), ('pandemic', 5), ('successful', 5), ('consumption', 5), ('warned', 5), ('commuters', 5), ('find', 5), ('controversial', 5), ('attendees', 5), ('dropped', 5), ('schools', 5), ('drop', 5), ('forced', 5), ('taxes', 5), ('th', 5), ('delay', 5), ('earthquake', 5), ('frustration', 4), ('match', 4), ('complaints', 4), ('our', 4), ('essential', 4), ('own', 4), ('practice', 4), ('flight', 4), ('neighbors', 4), ('heated', 4), ('warming', 4), ('frequent', 4), ('hurricanes', 4), ('lying', 4), ('issue', 4), ('justice', 4), ('concerned', 4), ('affordable', 4), ('hrs', 4), ('proper', 4), ('manager', 4), ('rapidly', 4), ('argued', 4), ('hospital', 4), ('erupted', 4), ('individuals', 4), ('amidst', 4), ('shooting', 4), ('incidents', 4), ('classes', 4), ('making', 4), ('game', 4), ('rainy', 4), ('development', 4), ('damaging', 4), ('clean', 4), ('sources', 4), ('evacuated', 4), ('saw', 4), ('towards', 4), ('overslept', 4), ('countries', 4), ('additional', 4), ('boost', 4), ('product', 4), ('times', 4), ('fee', 4), ('experiencing', 4), ('corruption', 4), ('academic', 4), ('funds', 4), ('next', 4), ('series', 4), ('february', 4), ('furthermore', 4), ('media', 4), ('conducted', 4), ('grade', 4), ('wanted', 4), ('life', 4), ('minister', 4), ('productivity', 4), ('staff', 4), ('years', 4), ('center', 4), ('necessary', 4), ('mumbai', 4), ('october', 4), ('spaces', 4), ('est', 4), ('witnessing', 4), ('preparation', 4), ('tutoring', 4), ('sessions', 4), ('5', 4), ('displacement', 4), ('consequently', 4), ('every', 4), ('injuries', 4), ('struggle', 4), ('cut', 4), ('consistently', 4), ('them', 4), ('dissatisfaction', 4), ('announcement', 4), ('service', 4), ('customers', 4), ('revenue', 4), ('crops', 4), ('flow', 4), ('maintenance', 4), ('systems', 4), ('effort', 4), ('risk', 4), ('weight', 4), ('surge', 4), ('virus', 4), ('earnings', 4), ('evidence', 3), ('information', 3), ('future', 3), ('secure', 3), ('10th', 3), ('expected', 3), ('truck', 3), ('postponed', 3), ('sarah', 3), ('coach', 3), ('thorough', 3), ('these', 3), ('escalated', 3), ('completing', 3), ('smith', 3), ('waiting', 3), ('reschedule', 3), ('therefore', 3), ('anger', 3), ('intense', 3), ('human', 3), ('collision', 3), ('asthma', 3), ('submerged', 3), ('reduced', 3), ('protect', 3), ('before', 3), ('unrest', 3), ('sharp', 3), ('practiced', 3), ('factory', 3), ('drought', 3), ('december', 3), ('mass', 3), ('organize', 3), ('demonstrations', 3), ('communities', 3), ('ecosystems', 3), ('sparked', 3), ('progress', 3), ('park', 3), ('instability', 3), ('housing', 3), ('law', 3), ('feedback', 3), ('i', 3), ('outage', 3), ('attend', 3), ('habitats', 3), ('rescue', 3), ('entire', 3), ('younger', 3), ('targeted', 3), ('alarm', 3), ('ran', 3), ('poured', 3), ('near', 3), ('targets', 3), ('lives', 3), ('access', 3), ('shown', 3), ('lower', 3), ('blocking', 3), ('put', 3), ('under', 3), ('san', 3), ('francisco', 3), ('meet', 3), ('families', 3), ('ends', 3), ('rainstorms', 3), ('instead', 3), ('fired', 3), ('meanwhile', 3), ('hour', 3), ('rush', 3), ('patients', 3), ('treatment', 3), ('developing', 3), ('hospitals', 3), ('activity', 3), ('lay', 3), ('warn', 3), ('scientists', 3), ('go', 3), ('leader', 3), ('negotiate', 3), ('situation', 3), ('14', 3), ('past', 3), ('towns', 3), ('xyz', 3), ('called', 3), ('groups', 3), ('farmers', 3), ('launched', 3), ('reported', 3), ('came', 3), ('physical', 3), ('importance', 3), ('exercise', 3), ('researchers', 3), ('2', 3), ('occurred', 3), ('who', 3), ('good', 3), ('caught', 3), ('bring', 3), ('difficulties', 3), ('efficiency', 3), ('poverty', 3), ('ruling', 3), ('party', 3), ('noise', 3), ('site', 3), ('discontent', 3), ('morale', 3), ('light', 3), ('members', 3), ('rally', 3), ('bridge', 3), ('angry', 3), ('operations', 3), ('restrictions', 3), ('imposed', 3), ('did', 3), ('labor', 3), ('harder', 3), ('competition', 3), ('improvement', 3), ('sector', 3), ('breaking', 3), ('record', 3), ('learning', 3), ('train', 3), ('projects', 3), ('without', 3), ('companies', 3), ('thursday', 3), ('recently', 3), ('harmful', 3), ('healthcare', 3), ('kerala', 3), ('lines', 3), ('goods', 3), ('displacing', 3), ('loss', 3), ('able', 3), ('however', 3), ('regularly', 3), ('intensified', 3), ('impact', 3), ('income', 3), ('smoking', 3), ('data', 3), ('attract', 3), ('classrooms', 3), ('express', 3), ('exams', 3), ('energy', 3), ('taking', 3), ('principal', 3), ('washington', 3), ('use', 3), ('gym', 3), ('selling', 3), ('forecast', 3), ('but', 3), ('disease', 3), ('cutting', 3), ('blocked', 3), ('found', 2), ('won', 2), ('fair', 2), ('longer', 2), ('delivery', 2), ('discovered', 2), ('2015', 2), ('weeks', 2), ('plants', 2), ('icy', 2), ('skidded', 2), ('satisfaction', 2), ('products', 2), ('resigned', 2), ('swerved', 2), ('medical', 2), ('bad', 2), ('airport', 2), ('wildfires', 2), ('continues', 2), ('incident', 2), ('two', 2), ('intersection', 2), ('mar', 2), ('eyewitnesses', 2), ('lung', 2), ('cancer', 2), ('other', 2), ('torrential', 2), ('ground', 2), ('provide', 2), ('losses', 2), ('concern', 2), ('sustainability', 2), ('degradation', 2), ('collapsed', 2), ('marathon', 2), ('runner', 2), ('rushed', 2), ('means', 2), ('2017', 2), ('prompted', 2), ('petition', 2), ('boycott', 2), ('regions', 2), ('months', 2), ('boycotted', 2), ('devastating', 2), ('level', 2), ('current', 2), ('ate', 2), ('soaked', 2), ('bone', 2), ('no', 2), ('protection', 2), ('forgotten', 2), ('umbrella', 2), ('blaming', 2), ('scientific', 2), ('hindered', 2), ('parents', 2), ('ultimately', 2), ('upcoming', 2), ('exhausted', 2), ('disrupting', 2), ('services', 2), ('skipped', 2), ('accompanied', 2), ('volunteers', 2), ('cause', 2), ('teams', 2), ('deployed', 2), ('violent', 2), ('advised', 2), ('hurricane', 2), ('approaching', 2), ('quarter', 2), ('demographics', 2), ('set', 2), ('clock', 2), ('forgot', 2), ('urgent', 2), ('innocent', 2), ('drivers', 2), ('believed', 2), ('struggling', 2), ('indoors', 2), ('knocked', 2), ('expressing', 2), ('jam', 2), ('another', 2), ('break', 2), ('one', 2), ('lunch', 2), ('avoid', 2), ('seeking', 2), ('brand', 2), ('23', 2), ('restore', 2), ('trust', 2), ('initiate', 2), ('handle', 2), ('influenced', 2), ('catastrophic', 2), ('immediately', 2), ('consequences', 2), ('uprooted', 2), ('extracurricular', 2), ('storms', 2), ('tropical', 2), ('press', 2), ('strikes', 2), ('refusal', 2), ('union', 2), ('mentioned', 2), ('reform', 2), ('audience', 2), ('friends', 2), ('stranded', 2), ('couple', 2), ('targeting', 2), ('large', 2), ('district', 2), ('delhi', 2), ('monday', 2), ('social', 2), ('standstill', 2), ('diabetes', 2), ('sugar', 2), ('type', 2), ('bus', 2), ('feeling', 2), ('shelter', 2), ('worked', 2), ('exceeded', 2), ('practices', 2), ('understand', 2), ('prime', 2), ('45', 2), ('release', 2), ('criticism', 2), ('square', 2), ('process', 2), ('should', 2), ('transparency', 2), ('moreover', 2), ('waste', 2), ('tuesday', 2), ('then', 2), ('pass', 2), ('displaced', 2), ('hundreds', 2), ('held', 2), ('homework', 2), ('sleep', 2), ('erupts', 2), ('street', 2), ('food', 2), ('connecting', 2), ('plans', 2), ('alternative', 2), ('frequency', 2), ('hire', 2), ('sensitive', 2), ('skills', 2), ('supplies', 2), ('early', 2), ('store', 2), ('arrive', 2), ('25', 2), ('gmt', 2), ('technological', 2), ('suspension', 2), ('inadequate', 2), ('suspect', 2), ('regarding', 2), ('front', 2), ('organizers', 2), ('circumstances', 2), ('unforeseen', 2), ('paying', 2), ('temperature', 2), ('days', 2), ('few', 2), ('fire', 2), ('danger', 2), ('suggesting', 2), ('disaster', 2), ('travel', 2), ('fund', 2), ('salaries', 2), ('pouring', 2), ('basement', 2), ('house', 2), ('experts', 2), ('bicycles', 2), ('main', 2), ('crowd', 2), ('become', 2), ('prepare', 2), ('games', 2), ('dress', 2), ('code', 2), ('inflation', 2), ('arrival', 2), ('colleagues', 2), ('away', 2), ('way', 2), ('professor', 2), ('misconduct', 2), ('crisis', 2), ('season', 2), ('holiday', 2), ('evacuations', 2), ('california', 2), ('watch', 2), ('aiming', 2), ('prolonged', 2), ('winning', 2), ('career', 2), ('limited', 2), ('achieved', 2), ('cheating', 2), ('pollutants', 2), ('17', 2), ('villages', 2), ('collapse', 2), ('overflowing', 2), ('relief', 2), ('declared', 2), ('stay', 2), ('stability', 2), ('uncertainty', 2), ('feared', 2), ('excess', 2), ('producing', 2), ('us', 2), ('disruption', 2), ('prepared', 2), ('reputation', 2), ('deteriorated', 2), ('wake', 2), ('vehicular', 2), ('vehicles', 2), ('struck', 2), ('overflowed', 2), ('help', 2), ('reforms', 2), ('string', 2), ('organizations', 2), ('particularly', 2), ('chennai', 2), ('gates', 2), ('providing', 2), ('creation', 2), ('growth', 2), ('boss', 2), ('quit', 2), ('link', 2), ('tackle', 2), ('factories', 2), ('technology', 2), ('tensions', 2), ('disagreement', 2), ('destroyed', 2), ('beach', 2), ('taken', 2), ('grading', 2), ('washing', 2), ('kitchen', 2), ('industry', 2), ('adequately', 2), ('declined', 2), ('praised', 2), ('final', 2), ('urging', 2), ('together', 2), ('alcohol', 2), ('tirelessly', 2), ('until', 2), ('department', 2), ('alarming', 2), ('election', 2), ('planning', 2), ('seek', 2), ('failing', 2), ('gain', 2), ('discuss', 2), ('math', 2), ('attending', 2), ('victims', 2), ('friday', 2), ('textbooks', 2), ('united', 2), ('emerged', 2), ('struggled', 2), ('posted', 2), ('mon', 2), ('resignation', 2), ('discovering', 2), ('green', 2), ('fitness', 2), ('signs', 2), ('shows', 2), ('statistics', 2), ('brought', 2), ('semester', 2), ('faculty', 2), ('family', 2), ('space', 2), ('steadily', 2), ('clear', 2), ('drinks', 2), ('studies', 2), ('heart', 2), ('obesity', 2), ('sugary', 2), ('nationwide', 2), ('receive', 2), ('planned', 2), ('scandal', 2), ('lot', 2), ('debate', 2), ('published', 2), ('liver', 2), ('important', 2), ('mental', 2), ('drinking', 2), ('international', 2), ('buy', 2), ('ice', 2), ('screen', 2), ('directors', 2), ('everyone', 2), ('spike', 2), ('imposing', 2), ('disappointing', 2), ('panicked', 2), ('disrupted', 2), ('utc', 2), ('mayor', 2), ('having', 2), ('officials', 2), ('warning', 2), ('petrol', 2), ('first', 2), ('tired', 2), ('free', 2), ('pdt', 2), ('accused', 1), ('computer', 1), ('confidential', 1), ('audit', 1), ('routine', 1), ('stealing', 1), ('recognition', 1), ('science', 1), ('excited', 1), ('downfall', 1), ('look', 1), ('than', 1), ('cargo', 1), ('delivering', 1), ('destination', 1), ('transport', 1), ('49', 1), ('3', 1), ('kochi', 1), ('wait', 1), ('withered', 1), ('died', 1), ('players', 1), ('athletic', 1), ('professional', 1), ('identify', 1), ('conduct', 1), ('create', 1), ('emphasizing', 1), ('unexpectedly', 1), ('raising', 1), ('steering', 1), ('dr', 1), ('opened', 1), ('degree', 1), ('frustrated', 1), ('turned', 1), ('delaying', 1), ('slammed', 1), ('call', 1), ('door', 1), ('premiums', 1), ('insurance', 1), ('worsen', 1), ('contributing', 1), ('urge', 1), ('upon', 1), ('hearing', 1), ('neighbours', 1), ('wide', 1), ('seattle', 1), ('yield', 1), ('collide', 1), ('tue', 1), ('saturated', 1), ('costly', 1), ('mistakes', 1), ('thus', 1), ('electricity', 1), ('risen', 1), ('ufeffdue', 1), ('actions', 1), ('implements', 1), ('generations', 1), ('addressed', 1), ('must', 1), ('cmp', 1), ('dehydration', 1), ('race', 1), ('drink', 1), ('choosing', 1), ('creating', 1), ('followed', 1), ('here', 1), ('click', 1), ('advocate', 1), ('also', 1), ('threatened', 1), ('youth', 1), ('young', 1), ('jobless', 1), ('unemployed', 1), ('input', 1), ('rules', 1), ('revision', 1), ('greater', 1), ('lacked', 1), ('coordination', 1), ('sara', 1), ('impacts', 1), ('outrage', 1), ('changes', 1), ('demanded', 1), ('reaction', 1), ('butter', 1), ('peanut', 1), ('allergic', 1), ('sandwich', 1), ('closure', 1), ('5th', 1), ('innovation', 1), ('blowing', 1), ('scheduled', 1), ('playground', 1), ('equipment', 1), ('safer', 1), ('plunges', 1), ('plunge', 1), ('jeopardy', 1), ('like', 1), ('putting', 1), ('wildfire', 1), ('president', 1), ('advisors', 1), ('blackouts', 1), ('band', 1), ('favorite', 1), ('ripped', 1), ('thunderstorm', 1), ('pipeline', 1), ('2018', 1), ('home', 1), ('station', 1), ('walk', 1), ('bronchitis', 1), ('ownership', 1), ('governments', 1), ('shootings', 1), ('countless', 1), ('firearm', 1), ('imperative', 1), ('strengthening', 1), ('potholes', 1), ('bumps', 1), ('vowed', 1), ('too', 1), ('expensive', 1), ('erupting', 1), ('riots', 1), ('disruptions', 1), ('happen', 1), ('stagnant', 1), ('musicians', 1), ('perform', 1), ('man', 1), ('coming', 1), ('repeatedly', 1), ('vase', 1), ('jumped', 1), ('cat', 1), ('table', 1), ('repeal', 1), ('hall', 1), ('engine', 1), ('faulty', 1), ('straight', 1), ('falling', 1), ('doing', 1), ('reporting', 1), ('cities', 1), ('breathing', 1), ('admissions', 1), ('thurs', 1), ('raised', 1), ('11', 1), ('sep', 1), ('reconsider', 1), ('homelessness', 1), ('failures', 1), ('special', 1), ('comprehensive', 1), ('appoint', 1), ('wave', 1), ('alleged', 1), ('counsel', 1), ('case', 1), ('outstanding', 1), ('scholarship', 1), ('achievements', 1), ('owing', 1), ('neglecting', 1), ('fail', 1), ('reckless', 1), ('allocate', 1), ('paychecks', 1), ('rigorous', 1), ('crossed', 1), ('line', 1), ('finish', 1), ('stating', 1), ('subsequent', 1), ('deployment', 1), ('policing', 1), ('ufeffcrime', 1), ('calls', 1), ('ineffective', 1), ('stadium', 1), ('leaving', 1), ('fans', 1), ('larger', 1), ('prompting', 1), ('halted', 1), ('orders', 1), ('lately', 1), ('celebrate', 1), ('arrest', 1), ('demographic', 1), ('launching', 1), ('soil', 1), ('saturation', 1), ('correspondent', 1), ('irrigation', 1), ('andhra', 1), ('pradesh', 1), ('guntur', 1), ('hired', 1), ('newly', 1), ('agricultural', 1), ('influencers', 1), ('utilized', 1), ('healthy', 1), ('recognizing', 1), ('regular', 1), ('diet', 1), ('seminar', 1), ('reduction', 1), ('college', 1), ('fares', 1), ('bengaluru', 1), ('fare', 1), ('promoted', 1), ('dedication', 1), ('quiz', 1), ('nervous', 1), ('gave', 1), ('whispered', 1), ('pop', 1), ('cold', 1), ('unable', 1), ('internet', 1), ('reliable', 1), ('expectations', 1), ('properties', 1), ('burning', 1), ('imposes', 1), ('forest', 1), ('26', 1), ('fires', 1), ('marine', 1), ('emily', 1), ('researched', 1), ('15th', 1), ('announces', 1), ('january', 1), ('agreed', 1), ('locals', 1), ('celebrations', 1), ('ufeffthe', 1), ('face', 1), ('developers', 1), ('gaming', 1), ('microtransactions', 1), ('include', 1), ('backlash', 1), ('facing', 1), ('mismanagement', 1), ('dissatisfied', 1), ('trip', 1), ('tom', 1), ('ramped', 1), ('patient', 1), ('assaults', 1), ('noted', 1), ('feel', 1), ('excluded', 1), ('angeles', 1), ('los', 1), ('occurring', 1), ('07', 1), ('turnover', 1), ('ignore', 1), ('voted', 1), ('deliberation', 1), ('developments', 1), ('unanimously', 1), ('ordinance', 1), ('lamppost', 1), ('scolded', 1), ('difficulty', 1), ('concentrating', 1), ('contractor', 1), ('permits', 1), ('obtain', 1), ('cart', 1), ('vendors', 1), ('complaining', 1), ('designated', 1), ('vending', 1), ('intensity', 1), ('unauthorized', 1), ('suffered', 1), ('helped', 1), ('win', 1), ('mandatory', 1), ('required', 1), ('attendance', 1), ('noticeable', 1), ('buying', 1), ('overnight', 1), ('grocery', 1), ('shortages', 1), ('stores', 1), ('vegetables', 1), ('bankruptcy', 1), ('given', 1), ('hats', 1), ('arrested', 1), ('crimes', 1), ('plan', 1), ('withdrew', 1), ('clashed', 1), ('afternoon', 1), ('expressed', 1), ('produced', 1), ('filed', 1), ('vibrations', 1), ('rigorously', 1), ('trained', 1), ('athletes', 1), ('explaining', 1), ('organization', 1), ('postpone', 1), ('spokesperson', 1), ('apologize', 1), ('rose', 1), ('unbearable', 1), ('heat', 1), ('conditioned', 1), ('minor', 1), ('consumers', 1), ('opting', 1), ('afford', 1), ('wounding', 1), ('indiscriminately', 1), ('2016', 1), ('bystanders', 1), ('confusion', 1), ('crowded', 1), ('mall', 1), ('hub', 1), ('gunman', 1), ('entered', 1), ('opens', 1), ('wed', 1), ('lone', 1), ('cupertino', 1), ('sizes', 1), ('assist', 1), ('imminent', 1), ('meteorologist', 1), ('declare', 1), ('arrived', 1), ('helps', 1), ('reinforce', 1), ('suggest', 1), ('do', 1), ('worldwide', 1), ('notice', 1), ('prior', 1), ('03', 1), ('controls', 1), ('emission', 1), ('connections', 1), ('clogged', 1), ('riding', 1), ('reporter', 1), ('sending', 1), ('constitutional', 1), ('court', 1), ('eff', 1), ('application', 1), ('shockwaves', 1), ('stormed', 1), ('skilled', 1), ('piano', 1), ('musician', 1), ('priority', 1), ('top', 1), ('plenty', 1), ('even', 1), ('though', 1), ('scores', 1), ('row', 1), ('played', 1), ('three', 1), ('walkout', 1), ('lunchtime', 1), ('staging', 1), ('townville', 1), ('expression', 1), ('daily', 1), ('fri', 1), ('opposing', 1), ('restricts', 1), ('freedom', 1), ('staged', 1), ('worth', 1), ('directly', 1), ('linked', 1), ('noting', 1), ('drew', 1), ('adequate', 1), ('washed', 1), ('riverbanks', 1), ('thiruvananthapuram', 1), ('needs', 1), ('increases', 1), ('revolutionize', 1), ('groundbreaking', 1), ('field', 1), ('discoveries', 1), ('assigned', 1), ('paved', 1), ('consistent', 1), ('created', 1), ('faced', 1), ('darkness', 1), ('plunging', 1), ('weak', 1), ('roots', 1), ('turn', 1), ('some', 1), ('impassable', 1), ('reversal', 1), ('overwhelmed', 1), ('overloaded', 1), ('investment', 1), ('least', 1), ('program', 1), ('bank', 1), ('formed', 1), ('robberies', 1), ('clients', 1), ('workforce', 1), ('downsize', 1), ('supply', 1), ('allegedly', 1), ('revise', 1), ('50', 1), ('reviews', 1), ('championship', 1), ('prospects', 1), ('review', 1), ('looking', 1), ('grow', 1), ('excellent', 1), ('results', 1), ('challenging', 1), ('available', 1), ('close', 1), ('suspended', 1), ('drastic', 1), ('affecting', 1), ('exposure', 1), ('constant', 1), ('damages', 1), ('flash', 1), ('submerging', 1), ('manganore', 1), ('uprooting', 1), ('gather', 1), ('allocated', 1), ('determination', 1), ('afloat', 1), ('jobs', 1), ('anxiety', 1), ('surplus', 1), ('attempts', 1), ('peacefully', 1), ('respond', 1), ('those', 1), ('heard', 1), ('biodiversity', 1), ('firefighters', 1), ('undergoing', 1), ('save', 1), ('controversy', 1), ('coverage', 1), ('mark', 1), ('contribute', 1), ('gasoline', 1), ('side', 1), ('neglect', 1), ('programs', 1), ('x92', 1), ('aims', 1), ('witnesses', 1), ('stopped', 1), ('universities', 1), ('shut', 1), ('pay', 1), ('wage', 1), ('minimum', 1), ('india', 1), ('foreign', 1), ('investments', 1), ('disrespectful', 1), ('abruptly', 1), ('jones', 1), ('demeaning', 1), ('constantly', 1), ('anti', 1), ('campaigns', 1), ('reveals', 1), ('procedures', 1), ('initiated', 1), ('finance', 1), ('deficit', 1), ('collecting', 1), ('conducting', 1), ('mitigation', 1), ('effective', 1), ('develop', 1), ('sentiment', 1), ('investor', 1), ('festival', 1), ('turnout', 1), ('invest', 1), ('operating', 1), ('unaffordable', 1), ('faces', 1), ('1', 1), ('remarks', 1), ('insulting', 1), ('disciplinary', 1), ('rude', 1), ('addressing', 1), ('injured', 1), ('red', 1), ('busy', 1), ('block', 1), ('small', 1), ('altercations', 1), ('august', 1), ('districts', 1), ('27', 1), ('destroying', 1), ('where', 1), ('refunded', 1), ('ticket', 1), ('partners', 1), ('business', 1), ('finances', 1), ('matters', 1), ('forming', 1), ('hands', 1), ('refused', 1), ('enter', 1), ('cleaned', 1), ('dishes', 1), ('dinner', 1), ('finishing', 1), ('children', 1), ('launch', 1), ('attended', 1), ('learn', 1), ('advancements', 1), ('thunderstorms', 1), ('deteriorates', 1), ('ignoring', 1), ('wildlife', 1), ('proceed', 1), ('drained', 1), ('rainfalls', 1), ('destinations', 1), ('routes', 1), ('alternate', 1), ('reach', 1), ('collegeville', 1), ('suspicion', 1), ('drastically', 1), ('expenses', 1), ('marks', 1), ('scored', 1), ('highest', 1), ('michael', 1), ('influence', 1), ('drive', 1), ('score', 1), ('proud', 1), ('exclaimed', 1), ('aced', 1), ('perfect', 1), ('surveys', 1), ('indicates', 1), ('burglaries', 1), ('edge', 1), ('additionally', 1), ('salem', 1), ('campaigning', 1), ('equipped', 1), ('library', 1), ('ready', 1), ('renewed', 1), ('recharge', 1), ('refreshed', 1), ('relax', 1), ('my', 1), ('glaciers', 1), ('melt', 1), ('cyberattacks', 1), ('candidate', 1), ('chances', 1), ('happened', 1), ('execution', 1), ('slipped', 1), ('surface', 1), ('slippery', 1), ('wet', 1), ('escalation', 1), ('unheard', 1), ('memorandum', 1), ('chronic', 1), ('association', 1), ('solutions', 1), ('proficiency', 1), ('specialized', 1), ('necessity', 1), ('sustained', 1), ('07th', 1), ('lowest', 1), ('drops', 1), ('neighbor', 1), ('altercation', 1), ('temper', 1), ('success', 1), ('great', 1), ('standards', 1), ('updated', 1), ('cope', 1), ('coronavirus', 1), ('kingdom', 1), ('influx', 1), ('contain', 1), ('variant', 1), ('thanks', 1), ('discrimination', 1), ('18', 1), ('oct', 1), ('fact', 1), ('spent', 1), ('video', 1), ('most', 1), ('playing', 1), ('recover', 1), ('stolen', 1), ('file', 1), ('soon', 1), ('hoped', 1), ('possible', 1), ('complaint', 1), ('accountability', 1), ('incited', 1), ('only', 1), ('boosts', 1), ('highlighting', 1), ('contributed', 1), ('released', 1), ('states', 1), ('upset', 1), ('unions', 1), ('faster', 1), ('sites', 1), ('contract', 1), ('solidarity', 1), ('violations', 1), ('parking', 1), ('renovate', 1), ('functional', 1), ('complained', 1), ('modern', 1), ('remained', 1), ('sheila', 1), ('determined', 1), ('practicing', 1), ('changing', 1), ('trends', 1), ('skies', 1), ('picnic', 1), ('earlier', 1), ('predicted', 1), ('heavily', 1), ('enjoying', 1), ('participants', 1), ('raining', 1), ('matt', 1), ('still', 1), ('refusing', 1), ('accept', 1), ('oakville', 1), ('related', 1), ('showed', 1), ('contributes', 1), ('payment', 1), ('provided', 1), ('client', 1), ('contractors', 1), ('decisions', 1), ('passing', 1), ('arisen', 1), ('questioned', 1), ('completion', 1), ('best', 1), ('contingency', 1), ('involved', 1), ('unresponsive', 1), ('representatives', 1), ('questioning', 1), ('arguments', 1), ('validity', 1), ('popular', 1), ('critics', 1), ('opinion', 1), ('amateurs', 1), ('largely', 1), ('argue', 1), ('again', 1), ('8th', 1), ('02', 1), ('profitability', 1), ('9', 1), ('2005', 1), ('downsizing', 1), ('30am', 1), ('balance', 1), ('greatly', 1), ('affect', 1), ('benefits', 1), ('back', 1), ('humidity', 1), ('indicated', 1), ('malfunction', 1), ('ventilation', 1), ('wilting', 1), ('journeys', 1), ('left', 1), ('ruins', 1), ('codes', 1), ('moderation', 1), ('why', 1), ('choices', 1), ('responsible', 1), ('comes', 1), ('detrimental', 1), ('going', 1), ('reprimanded', 1), ('demoralized', 1), ('recognized', 1), ('realized', 1), ('fleeing', 1), ('scene', 1), ('bystander', 1), ('qualified', 1), ('suffers', 1), ('overcrowded', 1), ('crews', 1), ('annual', 1), ('shareholders', 1), ('theft', 1), ('previous', 1), ('based', 1), ('officer', 1), ('enhanced', 1), ('mike', 1), ('compared', 1), ('precinct', 1), ('johnson', 1), ('positive', 1), ('downtown', 1), ('decade', 1), ('solar', 1), ('renewable', 1), ('panel', 1), ('installations', 1), ('incentives', 1), ('seen', 1), ('subsidies', 1), ('thrilled', 1), ('position', 1), ('presented', 1), ('promised', 1), ('requests', 1), ('consider', 1), ('breaks', 1), ('requesting', 1), ('tourism', 1), ('woman', 1), ('charged', 1), ('apr', 1), ('manslaughter', 1), ('speeding', 1), ('killed', 1), ('4', 1), ('victim', 1), ('cleanse', 1), ('investigations', 1), ('audits', 1), ('departments', 1), ('initiating', 1), ('cst', 1), ('melting', 1), ('caps', 1), ('luxury', 1), ('remain', 1), ('superintendent', 1), ('cream', 1), ('stomachache', 1), ('bed', 1), ('embezzlement', 1), ('terminated', 1), ('within', 1), ('teenagers', 1), ('cigarettes', 1), ('prevention', 1), ('centers', 1), ('electrical', 1), ('commute', 1), ('lasted', 1), ('discipline', 1), ('classroom', 1), ('disrupts', 1), ('reducing', 1), ('psychologists', 1), ('correlation', 1), ('renowned', 1), ('stepped', 1), ('prevented', 1), ('realizing', 1), ('brakes', 1), ('reacted', 1), ('triggering', 1), ('chastised', 1), ('continuous', 1), ('despair', 1), ('predicts', 1), ('picketed', 1), ('anticipating', 1), ('eagerly', 1), ('disappointment', 1), ('fears', 1), ('markets', 1), ('encourages', 1), ('patna', 1), ('ap', 1), ('nevertheless', 1), ('behavior', 1), ('appointment', 1), ('scandalous', 1), ('responsibilities', 1), ('neglected', 1), ('promoting', 1), ('compliant', 1), ('fines', 1), ('non', 1), ('aim', 1), ('expert', 1), ('shares', 1), ('value', 1), ('digging', 1), ('leak', 1), ('accidentally', 1), ('pipe', 1), ('lawmakers', 1), ('bbc', 1), ('burst', 1), ('flames', 1), ('laid', 1), ('similarly', 1), ('interventions', 1), ('fix', 1), ('tow', 1), ('problem', 1), ('end', 1), ('jane', 1), ('ended', 1), ('amount', 1), ('joined', 1), ('source', 1), ('insecurity', 1), ('enforce', 1), ('irreversible', 1), ('ecosystem', 1), ('dark', 1), ('above', 1), ('clouds', 1), ('show', 1), ('inaction', 1), ('pencils', 1), ('armed', 1), ('carrying', 1), ('highlighters', 1), ('notebooks', 1), ('backpacks', 1), ('whom', 1), ('guides', 1), ('comply', 1), ('complete', 1), ('shutdown', 1), ('brutality', 1), ('maintain', 1), ('achieve', 1), ('lecture', 1), ('motivated', 1), ('inspiring', 1), ('village', 1), ('cleanup', 1), ('promote', 1), ('occupied', 1), ('stabilize', 1), ('decides', 1), ('jim', 1), ('numbers', 1), ('demonstrators', 1), ('congested', 1), ('soccer', 1), ('stronger', 1), ('un', 1), ('leaders', 1), ('summit', 1), ('paris', 1), ('see', 1), ('sustainable', 1), ('activist', 1), ('otherwise', 1), ('recycle', 1), ('guidelines', 1), ('introduced', 1), ('using', 1), ('carpooling', 1), ('dangers', 1), ('smoke', 1), ('deteriorate', 1), ('headquarters', 1), ('chanted', 1), ('slogans', 1), ('intervention', 1), ('colleges', 1), ('underprivileged', 1), ('prioritize', 1), ('vaccinated', 1), ('prioritizes', 1), ('communication', 1), ('fatalities', 1), ('plane', 1), ('spite', 1), ('incredibly', 1), ('body', 1), ('eating', 1), ('digest', 1), ('full', 1), ('meal', 1), ('unsafe', 1), ('enjoy', 1), ('rohan', 1), ('sharma', 1), ('passed', 1), ('reconsidered', 1), ('extra', 1), ('offered', 1), ('introduces', 1), ('burden', 1), ('generate', 1), ('allegations', 1), ('decisive', 1), ('mayoral', 1), ('21', 1), ('winner', 1), ('elections', 1), ('8', 1), ('brown', 1), ('securing', 1), ('victory', 1), ('alexander', 1), ('brake', 1), ('stage', 1), ('plight', 1), ('money', 1), ('saved', 1), ('blackout', 1), ('heatwaves', 1), ('warns', 1), ('reasons', 1)]\n"
     ]
    }
   ],
   "source": [
    "#This is to get a statistic of the most common words used in each of the sentences. This will inform which entries will be cut from the final dataset.\n",
    "\n",
    "common_words = find_common_words(df_f)\n",
    "print(common_words)"
   ]
  },
  {
   "cell_type": "code",
   "execution_count": 15,
   "id": "99d5f2b0-89c7-4392-84a9-91b167cbb466",
   "metadata": {},
   "outputs": [],
   "source": [
    "csv_file_path = 'CNC_train_raw.csv'\n",
    "df_f.to_csv(csv_file_path, index=False)"
   ]
  },
  {
   "cell_type": "code",
   "execution_count": 252,
   "id": "9d15c0b3-60a1-4a5f-bd37-d9da75eae446",
   "metadata": {
    "scrolled": true
   },
   "outputs": [
    {
     "name": "stderr",
     "output_type": "stream",
     "text": [
      "/var/folders/0z/7ky_dy791xqbq2pvq3wkjlmr0000gn/T/ipykernel_80111/771670798.py:5: SettingWithCopyWarning: \n",
      "A value is trying to be set on a copy of a slice from a DataFrame.\n",
      "Try using .loc[row_indexer,col_indexer] = value instead\n",
      "\n",
      "See the caveats in the documentation: https://pandas.pydata.org/pandas-docs/stable/user_guide/indexing.html#returning-a-view-versus-a-copy\n",
      "  df_f['sent_id'] = range(10000, 10000 + len(df_f))\n",
      "/var/folders/0z/7ky_dy791xqbq2pvq3wkjlmr0000gn/T/ipykernel_80111/771670798.py:8: SettingWithCopyWarning: \n",
      "A value is trying to be set on a copy of a slice from a DataFrame.\n",
      "Try using .loc[row_indexer,col_indexer] = value instead\n",
      "\n",
      "See the caveats in the documentation: https://pandas.pydata.org/pandas-docs/stable/user_guide/indexing.html#returning-a-view-versus-a-copy\n",
      "  df_f['corpus'] = 'cnc'\n",
      "/var/folders/0z/7ky_dy791xqbq2pvq3wkjlmr0000gn/T/ipykernel_80111/771670798.py:11: SettingWithCopyWarning: \n",
      "A value is trying to be set on a copy of a slice from a DataFrame.\n",
      "Try using .loc[row_indexer,col_indexer] = value instead\n",
      "\n",
      "See the caveats in the documentation: https://pandas.pydata.org/pandas-docs/stable/user_guide/indexing.html#returning-a-view-versus-a-copy\n",
      "  df_f['eg_id'] = 0\n",
      "/var/folders/0z/7ky_dy791xqbq2pvq3wkjlmr0000gn/T/ipykernel_80111/771670798.py:14: SettingWithCopyWarning: \n",
      "A value is trying to be set on a copy of a slice from a DataFrame.\n",
      "Try using .loc[row_indexer,col_indexer] = value instead\n",
      "\n",
      "See the caveats in the documentation: https://pandas.pydata.org/pandas-docs/stable/user_guide/indexing.html#returning-a-view-versus-a-copy\n",
      "  df_f['doc_id'] = [f'train_{i}_{j}' for i, j in zip(range(1000, 1000 + len(df_f)), range(10000, 10000 + len(df_f)))]\n",
      "/var/folders/0z/7ky_dy791xqbq2pvq3wkjlmr0000gn/T/ipykernel_80111/771670798.py:17: SettingWithCopyWarning: \n",
      "A value is trying to be set on a copy of a slice from a DataFrame.\n",
      "Try using .loc[row_indexer,col_indexer] = value instead\n",
      "\n",
      "See the caveats in the documentation: https://pandas.pydata.org/pandas-docs/stable/user_guide/indexing.html#returning-a-view-versus-a-copy\n",
      "  df_f['index'] = [f'cnc_train_{i}_{j}_{k}_10' for i, j, k in zip(range(100, 100 + len(df_f)), range(1000, 1000 + len(df_f)), range(10000, 10000 + len(df_f)))]\n"
     ]
    }
   ],
   "source": [
    "#code block by shubhika\n",
    "\n",
    "\n",
    "# Adding a new column 'sent_id' starting from 10000 and incrementing by 1\n",
    "df_f['sent_id'] = range(10000, 10000 + len(df_f))\n",
    "\n",
    "# Adding a new column 'corpus' with constant value 'cnc'\n",
    "df_f['corpus'] = 'cnc'\n",
    "\n",
    "# Adding a new column 'eg_id' with constant value 0\n",
    "df_f['eg_id'] = 0\n",
    "\n",
    "# Adding a new column 'doc_id' with values 'train_1000_10000' where 'train_' is constant, and the other two values are incremented by 1\n",
    "df_f['doc_id'] = [f'train_{i}_{j}' for i, j in zip(range(1000, 1000 + len(df_f)), range(10000, 10000 + len(df_f)))]\n",
    "\n",
    "# Adding a new column 'index' with values based on variables i, j, k\n",
    "df_f['index'] = [f'cnc_train_{i}_{j}_{k}_10' for i, j, k in zip(range(100, 100 + len(df_f)), range(1000, 1000 + len(df_f)), range(10000, 10000 + len(df_f)))]\n"
   ]
  },
  {
   "cell_type": "code",
   "execution_count": 253,
   "id": "21df4e50-a040-4f56-ba8c-7d5df710874f",
   "metadata": {},
   "outputs": [
    {
     "name": "stderr",
     "output_type": "stream",
     "text": [
      "/var/folders/0z/7ky_dy791xqbq2pvq3wkjlmr0000gn/T/ipykernel_80111/3188732107.py:1: SettingWithCopyWarning: \n",
      "A value is trying to be set on a copy of a slice from a DataFrame\n",
      "\n",
      "See the caveats in the documentation: https://pandas.pydata.org/pandas-docs/stable/user_guide/indexing.html#returning-a-view-versus-a-copy\n",
      "  df_f.rename(columns={'Text': 'causal_text_w_pairs'}, inplace=True)\n"
     ]
    }
   ],
   "source": [
    "df_f.rename(columns={'Text': 'causal_text_w_pairs'}, inplace=True)"
   ]
  },
  {
   "cell_type": "code",
   "execution_count": 254,
   "id": "e1b07b99-8bea-4095-b307-9af3967f3408",
   "metadata": {},
   "outputs": [],
   "source": [
    "df_f2 = df_f"
   ]
  },
  {
   "cell_type": "code",
   "execution_count": 255,
   "id": "ce4e1bbe-f329-4f74-952f-07e060a6a53b",
   "metadata": {},
   "outputs": [
    {
     "name": "stderr",
     "output_type": "stream",
     "text": [
      "/var/folders/0z/7ky_dy791xqbq2pvq3wkjlmr0000gn/T/ipykernel_80111/1233164403.py:1: SettingWithCopyWarning: \n",
      "A value is trying to be set on a copy of a slice from a DataFrame.\n",
      "Try using .loc[row_indexer,col_indexer] = value instead\n",
      "\n",
      "See the caveats in the documentation: https://pandas.pydata.org/pandas-docs/stable/user_guide/indexing.html#returning-a-view-versus-a-copy\n",
      "  df_f2['text'] = df_f2['causal_text_w_pairs'].apply(lambda x: re.sub(r'<(/?ARG[01]|/?SIG0)>', '', x))\n"
     ]
    }
   ],
   "source": [
    "df_f2['text'] = df_f2['causal_text_w_pairs'].apply(lambda x: re.sub(r'<(/?ARG[01]|/?SIG0)>', '', x))"
   ]
  },
  {
   "cell_type": "code",
   "execution_count": 256,
   "id": "95480cb0-26bf-4008-a56d-298641331386",
   "metadata": {},
   "outputs": [
    {
     "name": "stderr",
     "output_type": "stream",
     "text": [
      "/var/folders/0z/7ky_dy791xqbq2pvq3wkjlmr0000gn/T/ipykernel_80111/280037877.py:2: SettingWithCopyWarning: \n",
      "A value is trying to be set on a copy of a slice from a DataFrame.\n",
      "Try using .loc[row_indexer,col_indexer] = value instead\n",
      "\n",
      "See the caveats in the documentation: https://pandas.pydata.org/pandas-docs/stable/user_guide/indexing.html#returning-a-view-versus-a-copy\n",
      "  df_f2['num_rs'] = 1\n"
     ]
    }
   ],
   "source": [
    "#Always 1 because the data is based on only 1 causal relationship sentences.\n",
    "df_f2['num_rs'] = 1"
   ]
  },
  {
   "cell_type": "code",
   "execution_count": 257,
   "id": "29d54a6a-371e-496b-a5f5-e6789c4659ff",
   "metadata": {},
   "outputs": [],
   "source": [
    "#orders the field names, also based on the code from shubhika\n",
    "df_f2 = df_f2[['corpus', 'doc_id', 'sent_id', 'eg_id', 'index', 'text', 'causal_text_w_pairs', 'num_rs']]"
   ]
  },
  {
   "cell_type": "code",
   "execution_count": 9,
   "id": "9d6e9b78-592f-4f34-8e6b-007efa88f069",
   "metadata": {},
   "outputs": [],
   "source": [
    "def remove_wrapping(text):\n",
    "    if isinstance(text, str) and text.startswith(\"['\") and text.endswith(\"']\"):\n",
    "        return text[2:-2]  # Remove the first two and last two characters\n",
    "    else:\n",
    "        return text"
   ]
  },
  {
   "cell_type": "code",
   "execution_count": 558,
   "id": "c7192de6-a626-40b6-a6c0-76233b3a60ae",
   "metadata": {},
   "outputs": [],
   "source": [
    "df_f2['text'] = df_f2['text'].apply(lambda x: process_text(x))"
   ]
  },
  {
   "cell_type": "code",
   "execution_count": 559,
   "id": "5da4e8e8-81e8-4b85-90d3-1d71578e8870",
   "metadata": {},
   "outputs": [],
   "source": [
    "df_f2['text'] = df_f2['text'].apply(remove_wrapping)"
   ]
  },
  {
   "cell_type": "code",
   "execution_count": 585,
   "id": "f69c00de-ab5a-4bcf-983a-c2a467b9f650",
   "metadata": {},
   "outputs": [],
   "source": [
    "df_f2 = df_f2[~df_f2['causal_text_w_pairs'].str.contains('<SIG1>')].copy()\n",
    "df_f2.reset_index(drop=True, inplace=True)"
   ]
  },
  {
   "cell_type": "code",
   "execution_count": 586,
   "id": "21c14469-79e4-4661-8188-cb0950362d59",
   "metadata": {},
   "outputs": [],
   "source": [
    "df_f2.to_csv('CNC_chatgpt_output14.csv', index=None)"
   ]
  },
  {
   "cell_type": "code",
   "execution_count": 10,
   "id": "14008460-113f-47ea-9d9d-5fde89cd58ff",
   "metadata": {},
   "outputs": [],
   "source": [
    "df_o = pd.read_csv('CausalNewsCorpus/data/V2/train_subtask2_grouped.csv')"
   ]
  },
  {
   "cell_type": "code",
   "execution_count": 587,
   "id": "387c9562-21fb-4ce8-b10a-9a5a3e41b918",
   "metadata": {},
   "outputs": [],
   "source": [
    "result_df = pd.concat([df_o, df_f2], ignore_index=True)"
   ]
  },
  {
   "cell_type": "code",
   "execution_count": 583,
   "id": "e569beaa-e30c-4944-8408-c65505ac1a77",
   "metadata": {},
   "outputs": [
    {
     "data": {
      "text/plain": [
       "3883"
      ]
     },
     "execution_count": 583,
     "metadata": {},
     "output_type": "execute_result"
    }
   ],
   "source": [
    "len(result_df)"
   ]
  },
  {
   "cell_type": "code",
   "execution_count": 584,
   "id": "5b3d67e9-3f12-4259-b43a-5b94c64b5c06",
   "metadata": {},
   "outputs": [
    {
     "data": {
      "text/plain": [
       "3075"
      ]
     },
     "execution_count": 584,
     "metadata": {},
     "output_type": "execute_result"
    }
   ],
   "source": [
    "len(df_o)"
   ]
  },
  {
   "cell_type": "code",
   "execution_count": 34,
   "id": "cc0f5872-06f0-46d9-86b2-a0938c1f3d22",
   "metadata": {},
   "outputs": [
    {
     "name": "stdout",
     "output_type": "stream",
     "text": [
      "114\n"
     ]
    },
    {
     "name": "stderr",
     "output_type": "stream",
     "text": [
      "/var/folders/0z/7ky_dy791xqbq2pvq3wkjlmr0000gn/T/ipykernel_33444/3421329401.py:4: SettingWithCopyWarning: \n",
      "A value is trying to be set on a copy of a slice from a DataFrame.\n",
      "Try using .loc[row_indexer,col_indexer] = value instead\n",
      "\n",
      "See the caveats in the documentation: https://pandas.pydata.org/pandas-docs/stable/user_guide/indexing.html#returning-a-view-versus-a-copy\n",
      "  df_ff['sent_id'] = range(10000, 10000 + len(df_ff))\n",
      "/var/folders/0z/7ky_dy791xqbq2pvq3wkjlmr0000gn/T/ipykernel_33444/3421329401.py:7: SettingWithCopyWarning: \n",
      "A value is trying to be set on a copy of a slice from a DataFrame.\n",
      "Try using .loc[row_indexer,col_indexer] = value instead\n",
      "\n",
      "See the caveats in the documentation: https://pandas.pydata.org/pandas-docs/stable/user_guide/indexing.html#returning-a-view-versus-a-copy\n",
      "  df_ff['corpus'] = 'cnc'\n",
      "/var/folders/0z/7ky_dy791xqbq2pvq3wkjlmr0000gn/T/ipykernel_33444/3421329401.py:10: SettingWithCopyWarning: \n",
      "A value is trying to be set on a copy of a slice from a DataFrame.\n",
      "Try using .loc[row_indexer,col_indexer] = value instead\n",
      "\n",
      "See the caveats in the documentation: https://pandas.pydata.org/pandas-docs/stable/user_guide/indexing.html#returning-a-view-versus-a-copy\n",
      "  df_ff['eg_id'] = 0\n",
      "/var/folders/0z/7ky_dy791xqbq2pvq3wkjlmr0000gn/T/ipykernel_33444/3421329401.py:13: SettingWithCopyWarning: \n",
      "A value is trying to be set on a copy of a slice from a DataFrame.\n",
      "Try using .loc[row_indexer,col_indexer] = value instead\n",
      "\n",
      "See the caveats in the documentation: https://pandas.pydata.org/pandas-docs/stable/user_guide/indexing.html#returning-a-view-versus-a-copy\n",
      "  df_ff['doc_id'] = [f'train_{i}_{j}' for i, j in zip(range(1000, 1000 + len(df_ff)), range(10000, 10000 + len(df_ff)))]\n",
      "/var/folders/0z/7ky_dy791xqbq2pvq3wkjlmr0000gn/T/ipykernel_33444/3421329401.py:16: SettingWithCopyWarning: \n",
      "A value is trying to be set on a copy of a slice from a DataFrame.\n",
      "Try using .loc[row_indexer,col_indexer] = value instead\n",
      "\n",
      "See the caveats in the documentation: https://pandas.pydata.org/pandas-docs/stable/user_guide/indexing.html#returning-a-view-versus-a-copy\n",
      "  df_ff['index'] = [f'cnc_train_{i}_{j}_{k}_10' for i, j, k in zip(range(100, 100 + len(df_ff)), range(1000, 1000 + len(df_ff)), range(10000, 10000 + len(df_ff)))]\n",
      "/var/folders/0z/7ky_dy791xqbq2pvq3wkjlmr0000gn/T/ipykernel_33444/3421329401.py:17: SettingWithCopyWarning: \n",
      "A value is trying to be set on a copy of a slice from a DataFrame\n",
      "\n",
      "See the caveats in the documentation: https://pandas.pydata.org/pandas-docs/stable/user_guide/indexing.html#returning-a-view-versus-a-copy\n",
      "  df_ff.rename(columns={'Text': 'causal_text_w_pairs'}, inplace=True)\n",
      "/var/folders/0z/7ky_dy791xqbq2pvq3wkjlmr0000gn/T/ipykernel_33444/3421329401.py:19: SettingWithCopyWarning: \n",
      "A value is trying to be set on a copy of a slice from a DataFrame.\n",
      "Try using .loc[row_indexer,col_indexer] = value instead\n",
      "\n",
      "See the caveats in the documentation: https://pandas.pydata.org/pandas-docs/stable/user_guide/indexing.html#returning-a-view-versus-a-copy\n",
      "  df_ff2['text'] = df_ff2['causal_text_w_pairs'].apply(lambda x: re.sub(r'<(/?ARG[01]|/?SIG0)>', '', x))\n",
      "/var/folders/0z/7ky_dy791xqbq2pvq3wkjlmr0000gn/T/ipykernel_33444/3421329401.py:21: SettingWithCopyWarning: \n",
      "A value is trying to be set on a copy of a slice from a DataFrame.\n",
      "Try using .loc[row_indexer,col_indexer] = value instead\n",
      "\n",
      "See the caveats in the documentation: https://pandas.pydata.org/pandas-docs/stable/user_guide/indexing.html#returning-a-view-versus-a-copy\n",
      "  df_ff2['num_rs'] = 1\n"
     ]
    }
   ],
   "source": [
    "filter_list3 = ['<ARG0>','<ARG1>','</ARG0>','</ARG1>']\n",
    "df_ff = filter_dataframe_l(df, filter_list3)\n",
    "# Adding a new column 'sent_id' starting from 10000 and incrementing by 1\n",
    "df_ff['sent_id'] = range(10000, 10000 + len(df_ff))\n",
    "\n",
    "# Adding a new column 'corpus' with constant value 'cnc'\n",
    "df_ff['corpus'] = 'cnc'\n",
    "\n",
    "# Adding a new column 'eg_id' with constant value 0\n",
    "df_ff['eg_id'] = 0\n",
    "\n",
    "# Adding a new column 'doc_id' with values 'train_1000_10000' where 'train_' is constant, and the other two values are incremented by 1\n",
    "df_ff['doc_id'] = [f'train_{i}_{j}' for i, j in zip(range(1000, 1000 + len(df_ff)), range(10000, 10000 + len(df_ff)))]\n",
    "\n",
    "# Adding a new column 'index' with values based on variables i, j, k\n",
    "df_ff['index'] = [f'cnc_train_{i}_{j}_{k}_10' for i, j, k in zip(range(100, 100 + len(df_ff)), range(1000, 1000 + len(df_ff)), range(10000, 10000 + len(df_ff)))]\n",
    "df_ff.rename(columns={'Text': 'causal_text_w_pairs'}, inplace=True)\n",
    "df_ff2 = df_ff\n",
    "df_ff2['text'] = df_ff2['causal_text_w_pairs'].apply(lambda x: re.sub(r'<(/?ARG[01]|/?SIG0)>', '', x))\n",
    "\n",
    "df_ff2['num_rs'] = 1\n",
    "df_ff2 = df_ff2[['corpus', 'doc_id', 'sent_id', 'eg_id', 'index', 'text', 'causal_text_w_pairs', 'num_rs']]\n",
    "df_ff2['text'] = df_ff2['text'].apply(lambda x: process_text(x))\n",
    "df_ff2['text'] = df_ff2['text'].apply(remove_wrapping)\n",
    "df_ff2['text'] = df_ff2['text'].str.replace(r'\\s{2,}', ' ', regex=True)\n",
    "df_ff2['causal_text_w_pairs'] = df_ff2['causal_text_w_pairs'].str.replace(r'\\s{2,}', ' ', regex=True)\n",
    "df_ff2['text'] = df_ff2['text'].str.replace('> ', '>', regex=True)\n",
    "df_ff2['causal_text_w_pairs'] = df_ff2['causal_text_w_pairs'].str.replace('> ', '>', regex=True)\n",
    "df_ff2['text'] = df_ff2['text'].str.replace('><', '> <', regex=True)\n",
    "df_ff2['causal_text_w_pairs'] = df_ff2['causal_text_w_pairs'].str.replace('><', '> <', regex=True)\n",
    "df_ff2 = df_ff2[~df_ff2['causal_text_w_pairs'].str.contains('<SIG1>')].copy()\n",
    "df_ff2.reset_index(drop=True, inplace=True)\n",
    "\n",
    "df_f3 = df_ff2[~df_ff2['causal_text_w_pairs'].str.contains('SIG0')].copy()\n",
    "df_f3.reset_index(drop=True, inplace=True)\n",
    "print(len(df_f3))\n",
    "result_df2 = pd.concat([df_o, df_f3], ignore_index=True)\n",
    "#result_df2.to_csv('CNC_chatgpt+orig_output_no_sig6.csv', index=None)"
   ]
  },
  {
   "cell_type": "code",
   "execution_count": 588,
   "id": "62accc34-6a76-4ff4-aa5e-b128192cb7c3",
   "metadata": {},
   "outputs": [],
   "source": [
    "result_df.to_csv('CNC_chatgpt+orig_output10.csv', index=None)"
   ]
  },
  {
   "cell_type": "code",
   "execution_count": 39,
   "id": "1ba9d0d9-3576-4d60-b4bc-00178812030d",
   "metadata": {},
   "outputs": [
    {
     "name": "stdout",
     "output_type": "stream",
     "text": [
      "['<ARG1>Due to heavy rainfall and flooding \\, the school was forced to cancel classes for the day</ARG1>because <ARG0>the classrooms were deemed unsafe for students</ARG0>..']\n"
     ]
    }
   ],
   "source": [
    "print(df_ff2['causal_text_w_pairs'].iloc[25])"
   ]
  },
  {
   "cell_type": "code",
   "execution_count": 600,
   "id": "b61821f2-fe56-4a1b-b231-243f6f1c7035",
   "metadata": {},
   "outputs": [],
   "source": [
    "df_f3.to_csv('no_sig_chatGPT2.csv', index = None)"
   ]
  },
  {
   "cell_type": "code",
   "execution_count": 147,
   "id": "fe1a2dd6-4c13-4574-90d4-013a71c934bd",
   "metadata": {},
   "outputs": [
    {
     "data": {
      "text/plain": [
       "0    ['The State alleged <ARG1>they hacked Sabata P...\n",
       "1                                                   []\n",
       "2    [\"<ARG1>The farmworkers ' strike resumed on Tu...\n",
       "3    ['<ARG1>Demonstrators have filed for a permit<...\n",
       "4    ['<ARG0>Footage of the attack , which included...\n",
       "Name: causal_text_w_pairs, dtype: object"
      ]
     },
     "execution_count": 147,
     "metadata": {},
     "output_type": "execute_result"
    }
   ],
   "source": [
    "df_o['causal_text_w_pairs'].head()"
   ]
  },
  {
   "cell_type": "code",
   "execution_count": 42,
   "id": "86a8f463-5377-444f-8bef-16efdbe9d93d",
   "metadata": {},
   "outputs": [
    {
     "name": "stdout",
     "output_type": "stream",
     "text": [
      "794\n"
     ]
    }
   ],
   "source": [
    "df_ff = filter_dataframe_l(df, filter_list)\n",
    "df_ff = df_ff[~df_ff['Text'].str.contains('</ARG0><SIG0>')].copy()\n",
    "df_ff = df_ff[~df_ff['Text'].str.contains('</ARG0></SIG0>')].copy()\n",
    "df_ff = df_ff[~df_ff['Text'].str.contains('</ARG1><SIG0>')].copy()\n",
    "print(len(df_ff))"
   ]
  },
  {
   "cell_type": "code",
   "execution_count": 13,
   "id": "c9b28667-e96e-432d-ae4d-0a903ebb44a1",
   "metadata": {},
   "outputs": [
    {
     "name": "stdout",
     "output_type": "stream",
     "text": [
      "794\n"
     ]
    }
   ],
   "source": [
    "\n",
    "df_ff = filter_dataframe_l(df, filter_list)\n",
    "df_ff = df_ff[~df_ff['Text'].str.contains('</ARG0><SIG0>')].copy()\n",
    "df_ff = df_ff[~df_ff['Text'].str.contains('</ARG0></SIG0>')].copy()\n",
    "df_ff = df_ff[~df_ff['Text'].str.contains('</ARG1><SIG0>')].copy()\n",
    "# Adding a new column 'sent_id' starting from 10000 and incrementing by 1\n",
    "df_ff['sent_id'] = range(10000, 10000 + len(df_ff))\n",
    "\n",
    "# Adding a new column 'corpus' with constant value 'cnc'\n",
    "df_ff['corpus'] = 'cnc'\n",
    "\n",
    "# Adding a new column 'eg_id' with constant value 0\n",
    "df_ff['eg_id'] = 0\n",
    "\n",
    "# Adding a new column 'doc_id' with values 'train_1000_10000' where 'train_' is constant, and the other two values are incremented by 1\n",
    "df_ff['doc_id'] = [f'train_{i}_{j}' for i, j in zip(range(1000, 1000 + len(df_ff)), range(10000, 10000 + len(df_ff)))]\n",
    "\n",
    "# Adding a new column 'index' with values based on variables i, j, k\n",
    "df_ff['index'] = [f'cnc_train_{i}_{j}_{k}_10' for i, j, k in zip(range(100, 100 + len(df_ff)), range(1000, 1000 + len(df_ff)), range(10000, 10000 + len(df_ff)))]\n",
    "df_ff.rename(columns={'Text': 'causal_text_w_pairs'}, inplace=True)\n",
    "df_ff2 = df_ff\n",
    "df_ff2['text'] = df_ff2['causal_text_w_pairs'].apply(lambda x: re.sub(r'<(/?ARG[01]|/?SIG0)>', '', x))\n",
    "\n",
    "df_ff2['num_rs'] = 1\n",
    "df_ff2 = df_ff2[['corpus', 'doc_id', 'sent_id', 'eg_id', 'index', 'text', 'causal_text_w_pairs', 'num_rs']]\n",
    "df_ff2['text'] = df_ff2['text'].apply(lambda x: process_text(x))\n",
    "df_ff2['text'] = df_ff2['text'].apply(remove_wrapping)\n",
    "df_ff2['text'] = df_ff2['text'].str.replace(r'\\s{2,}', ' ', regex=True)\n",
    "df_ff2['causal_text_w_pairs'] = df_ff2['causal_text_w_pairs'].str.replace(r'\\s{2,}', ' ', regex=True)\n",
    "df_ff2['causal_text_w_pairs'] = df_ff2['causal_text_w_pairs'].str.replace('> ', '>', regex=True)\n",
    "df_ff2['causal_text_w_pairs'] = df_ff2['causal_text_w_pairs'].str.replace('><', '> <', regex=True)\n",
    "df_ff2['causal_text_w_pairs'] = df_ff2['causal_text_w_pairs'].str.replace('</SIG0>', '</SIG0> ', regex=True)\n",
    "df_ff2['causal_text_w_pairs'] = df_ff2['causal_text_w_pairs'].str.replace(' </ARG0> </SIG0>', '</ARG0> </SIG0>', regex=True)\n",
    "df_ff2['causal_text_w_pairs'] = df_ff2['causal_text_w_pairs'].str.replace(' </ARG0> <SIG0>', '</ARG0> <SIG0>', regex=True)\n",
    "df_ff2['causal_text_w_pairs'] = df_ff2['causal_text_w_pairs'].str.replace(' </ARG1> <SIG0>', '</ARG1> <SIG0>', regex=True)\n",
    "df_ff2['causal_text_w_pairs'] = df_ff2['causal_text_w_pairs'].str.replace('<ARG0> <SIG0>', '<ARG0><SIG0>', regex=True)\n",
    "df_ff2['causal_text_w_pairs'] = df_ff2['causal_text_w_pairs'].str.replace('<ARG1> <SIG0>', '<ARG1><SIG0>', regex=True)\n",
    "df_ff2['causal_text_w_pairs'] = df_ff2['causal_text_w_pairs'].str.replace(' </ARG0> <ARG1><SIG0>', '</ARG0> <ARG1><SIG0>', regex=True)\n",
    "df_ff2['causal_text_w_pairs'] = df_ff2['causal_text_w_pairs'].str.replace(' </ARG0> <ARG1></SIG0>', '</ARG0> <ARG1></SIG0>', regex=True)\n",
    "df_ff2['causal_text_w_pairs'] = df_ff2['causal_text_w_pairs'].str.replace(' </ARG0> </ARG1></SIG0>', '</ARG0> </ARG1></SIG0>', regex=True)\n",
    "df_ff2['causal_text_w_pairs'] = df_ff2['causal_text_w_pairs'].str.replace('</ARG0>', '</ARG0> ', regex=True)\n",
    "df_ff2['causal_text_w_pairs'] = df_ff2['causal_text_w_pairs'].str.replace('</ARG1>', '</ARG1> ', regex=True)\n",
    "df_ff2['causal_text_w_pairs'] = df_ff2['causal_text_w_pairs'].str.replace('</ARG1> <SIG0>', '</ARG1><SIG0>', regex=True)\n",
    "df_ff2['causal_text_w_pairs'] = df_ff2['causal_text_w_pairs'].str.replace(' </ARG1> <ARG0><SIG0>', '</ARG1> <ARG0><SIG0>', regex=True)\n",
    "print(len(df_ff2))\n",
    "result_df2 = pd.concat([df_o, df_ff2], ignore_index=True)\n",
    "#result_df2.to_csv('CNC_chatgpt+orig_output_no_space6.csv', index=None)"
   ]
  },
  {
   "cell_type": "code",
   "execution_count": 150,
   "id": "7e86477e-e121-4076-81d1-4b5bd3c01b0a",
   "metadata": {},
   "outputs": [
    {
     "data": {
      "text/plain": [
       "str"
      ]
     },
     "execution_count": 150,
     "metadata": {},
     "output_type": "execute_result"
    }
   ],
   "source": [
    "type(df_o['causal_text_w_pairs'].iloc[0])"
   ]
  },
  {
   "cell_type": "code",
   "execution_count": 151,
   "id": "89d6c58f-f2a0-4231-8aff-c3b5213f4213",
   "metadata": {},
   "outputs": [
    {
     "name": "stdout",
     "output_type": "stream",
     "text": [
      "['The State alleged <ARG1>they hacked Sabata Petros Chale , 39 , to death in Marikana West , on December 8 , 2016</ARG1> , allegedly <SIG0>over</SIG0> <ARG0>the allocation of low cost ( RDP ) houses at Marikana West Extension 2</ARG0> .']\n"
     ]
    }
   ],
   "source": [
    "print(df_o['causal_text_w_pairs'].iloc[0])"
   ]
  },
  {
   "cell_type": "code",
   "execution_count": 278,
   "id": "e666ab08-c097-410b-bb1b-04488cfbbee4",
   "metadata": {},
   "outputs": [],
   "source": [
    "def replace_tokens(df, column_name):\n",
    "    # Define a mapping for replacement\n",
    "    replacement_mapping = {\n",
    "        '<arg0>': '<ARG0>',\n",
    "        '<arg1>': '<ARG1>',\n",
    "        '<sig0>': '<SIG0>',\n",
    "        '</arg0>': '</ARG0>',\n",
    "        '</arg1>': '</ARG1>',\n",
    "        '</sig0>': '</SIG0>'\n",
    "    }\n",
    "\n",
    "    # Function to replace tokens in a text\n",
    "    def replace_in_text(text):\n",
    "        for token, replacement in replacement_mapping.items():\n",
    "            text = text.replace(token, replacement)\n",
    "        return text\n",
    "\n",
    "    # Apply the function to the specified column\n",
    "    df[column_name] = df[column_name].apply(replace_in_text)\n",
    "    return df\n"
   ]
  },
  {
   "cell_type": "code",
   "execution_count": 491,
   "id": "bd4d5e0c-8783-41dc-86f8-b44dae588bf7",
   "metadata": {},
   "outputs": [],
   "source": [
    "def remove_non_bracket_chars(text):\n",
    "    # Extract characters between brackets using a regular expression\n",
    "    #text = text.replace('[\\'', '').replace(']\\'', '')\n",
    "    #extracted_chars = re.findall(r'\\[([^\\]]*)\\]', text)\n",
    "    result = text.replace('[', '').replace(']', '')\n",
    "    # Concatenate the extracted characters to form the result\n",
    "    result = '[' + result + ']'\n",
    "    return result"
   ]
  },
  {
   "cell_type": "code",
   "execution_count": 537,
   "id": "ef76b1ce-3bd0-4c07-87cc-8ac55ebe2004",
   "metadata": {},
   "outputs": [],
   "source": [
    "def remove_non_quoted_chars(text):\n",
    "    #in_single_quote = False\n",
    "    result = text.replace('[', '').replace(']', '')\n",
    "    '''\n",
    "    for char in result:\n",
    "        if char == ' ' and in_single_quote:\n",
    "            result += \"\\'\"\n",
    "            in_single_quote = False\n",
    "        elif char == \"'\":\n",
    "            in_single_quote = True\n",
    "            result += \"\\'\"\n",
    "        else:\n",
    "            result += char\n",
    "    in_single_quote = False\n",
    "    for char in result:\n",
    "        if char == ' ' and in_single_quote:\n",
    "            result += '\\\"'\n",
    "            in_single_quote = False\n",
    "        elif char == '\"':\n",
    "            in_single_quote = True\n",
    "            result += '\\\"'\n",
    "        else:\n",
    "            result += char\n",
    "    '''\n",
    "    result.replace(\" ' \", \"@z\")\n",
    "    pattern = r'\\'(.*?)\\'|\\\"(.*?)\\\"'\n",
    "    matches = re.findall(pattern, result)\n",
    "    result_list = [f\"'{match[0]}'\" if match[0] else f'\"{match[1]}\"' for match in matches]\n",
    "    result_f = ', '.join(result_list)\n",
    "    result_f = '[' + result_f + ']'\n",
    "    result_f.replace(\"@z\", \" ' \")\n",
    "    return result_f"
   ]
  },
  {
   "cell_type": "code",
   "execution_count": null,
   "id": "d00fbcc7-ef33-421f-bdb8-6074d3ba7e1a",
   "metadata": {},
   "outputs": [],
   "source": []
  },
  {
   "cell_type": "code",
   "execution_count": 568,
   "id": "2ef86a13-593c-4cbf-916e-a9c870609810",
   "metadata": {},
   "outputs": [],
   "source": [
    "df_eda = pd.read_csv('eda_2_output_transformed_train_subtask2.csv')"
   ]
  },
  {
   "cell_type": "code",
   "execution_count": 569,
   "id": "b51b538d-4f63-4c45-94eb-a24b8ef85624",
   "metadata": {},
   "outputs": [],
   "source": [
    "df_eda = df_eda[~df_eda['causal_text_w_pairs'].str.contains('\\'s', case=False, na=False)]\n",
    "df_eda = df_eda[~df_eda['causal_text_w_pairs'].str.contains(' \\' ', case=False, na=False)]"
   ]
  },
  {
   "cell_type": "code",
   "execution_count": 570,
   "id": "a2bcefa7-6ea0-4907-aa64-a3cf9a0fc5e8",
   "metadata": {},
   "outputs": [],
   "source": [
    "df_eda['text'] = df_eda['text'].apply(remove_wrapping)"
   ]
  },
  {
   "cell_type": "code",
   "execution_count": 571,
   "id": "5e245915-0132-49f7-a180-41f9651911c4",
   "metadata": {},
   "outputs": [],
   "source": [
    "df_eda = replace_tokens(df_eda,'causal_text_w_pairs')"
   ]
  },
  {
   "cell_type": "code",
   "execution_count": 572,
   "id": "857deb7d-9474-413a-8fac-078db1e4ff83",
   "metadata": {},
   "outputs": [],
   "source": [
    "df_eda['causal_text_w_pairs'] = df_eda['causal_text_w_pairs'].apply(remove_non_bracket_chars)"
   ]
  },
  {
   "cell_type": "code",
   "execution_count": 573,
   "id": "d6bc7033-104f-4c4d-a825-9ebbc38b5a91",
   "metadata": {},
   "outputs": [],
   "source": [
    "df_eda['causal_text_w_pairs'] = df_eda['causal_text_w_pairs'].apply(remove_non_quoted_chars)"
   ]
  },
  {
   "cell_type": "code",
   "execution_count": 552,
   "id": "4793fe0d-fed0-4fe7-b53d-4a279fe1ca76",
   "metadata": {},
   "outputs": [
    {
     "data": {
      "text/html": [
       "<div>\n",
       "<style scoped>\n",
       "    .dataframe tbody tr th:only-of-type {\n",
       "        vertical-align: middle;\n",
       "    }\n",
       "\n",
       "    .dataframe tbody tr th {\n",
       "        vertical-align: top;\n",
       "    }\n",
       "\n",
       "    .dataframe thead th {\n",
       "        text-align: right;\n",
       "    }\n",
       "</style>\n",
       "<table border=\"1\" class=\"dataframe\">\n",
       "  <thead>\n",
       "    <tr style=\"text-align: right;\">\n",
       "      <th></th>\n",
       "      <th>corpus</th>\n",
       "      <th>doc_id</th>\n",
       "      <th>sent_id</th>\n",
       "      <th>eg_id</th>\n",
       "      <th>index</th>\n",
       "      <th>text</th>\n",
       "      <th>causal_text_w_pairs</th>\n",
       "      <th>num_rs</th>\n",
       "    </tr>\n",
       "  </thead>\n",
       "  <tbody>\n",
       "    <tr>\n",
       "      <th>0</th>\n",
       "      <td>cnc</td>\n",
       "      <td>train_1000_10000</td>\n",
       "      <td>10000</td>\n",
       "      <td>0</td>\n",
       "      <td>cnc_train_100_1000_10000_10</td>\n",
       "      <td>'the say alleged they hacked sabata petros cha...</td>\n",
       "      <td>['the say alleged &lt;ARG1&gt;they hacked sabata pet...</td>\n",
       "      <td>1</td>\n",
       "    </tr>\n",
       "    <tr>\n",
       "      <th>1</th>\n",
       "      <td>cnc</td>\n",
       "      <td>train_1001_10001</td>\n",
       "      <td>10001</td>\n",
       "      <td>0</td>\n",
       "      <td>cnc_train_101_1001_10001_10</td>\n",
       "      <td>'the state aver they hacked sabata petros chal...</td>\n",
       "      <td>['the state aver &lt;ARG1&gt;they hacked sabata petr...</td>\n",
       "      <td>1</td>\n",
       "    </tr>\n",
       "    <tr>\n",
       "      <th>2</th>\n",
       "      <td>cnc</td>\n",
       "      <td>train_1002_10002</td>\n",
       "      <td>10002</td>\n",
       "      <td>0</td>\n",
       "      <td>cnc_train_102_1002_10002_10</td>\n",
       "      <td>'the state alleged they hacked sabata petros c...</td>\n",
       "      <td>['the state alleged &lt;ARG1&gt;they hacked sabata p...</td>\n",
       "      <td>1</td>\n",
       "    </tr>\n",
       "    <tr>\n",
       "      <th>3</th>\n",
       "      <td>cnc</td>\n",
       "      <td>train_1003_10003</td>\n",
       "      <td>10003</td>\n",
       "      <td>0</td>\n",
       "      <td>cnc_train_103_1003_10003_10</td>\n",
       "      <td>'the state alleged they hacked sabata petros c...</td>\n",
       "      <td>['the state alleged &lt;ARG1&gt;they hacked sabata p...</td>\n",
       "      <td>1</td>\n",
       "    </tr>\n",
       "    <tr>\n",
       "      <th>4</th>\n",
       "      <td>cnc</td>\n",
       "      <td>train_1004_10004</td>\n",
       "      <td>10004</td>\n",
       "      <td>0</td>\n",
       "      <td>cnc_train_104_1004_10004_10</td>\n",
       "      <td>'the state alleged they hacked sabata petros c...</td>\n",
       "      <td>['the state alleged &lt;ARG1&gt;they hacked sabata p...</td>\n",
       "      <td>1</td>\n",
       "    </tr>\n",
       "  </tbody>\n",
       "</table>\n",
       "</div>"
      ],
      "text/plain": [
       "  corpus            doc_id  sent_id  eg_id                        index  \\\n",
       "0    cnc  train_1000_10000    10000      0  cnc_train_100_1000_10000_10   \n",
       "1    cnc  train_1001_10001    10001      0  cnc_train_101_1001_10001_10   \n",
       "2    cnc  train_1002_10002    10002      0  cnc_train_102_1002_10002_10   \n",
       "3    cnc  train_1003_10003    10003      0  cnc_train_103_1003_10003_10   \n",
       "4    cnc  train_1004_10004    10004      0  cnc_train_104_1004_10004_10   \n",
       "\n",
       "                                                text  \\\n",
       "0  'the say alleged they hacked sabata petros cha...   \n",
       "1  'the state aver they hacked sabata petros chal...   \n",
       "2  'the state alleged they hacked sabata petros c...   \n",
       "3  'the state alleged they hacked sabata petros c...   \n",
       "4  'the state alleged they hacked sabata petros c...   \n",
       "\n",
       "                                 causal_text_w_pairs  num_rs  \n",
       "0  ['the say alleged <ARG1>they hacked sabata pet...       1  \n",
       "1  ['the state aver <ARG1>they hacked sabata petr...       1  \n",
       "2  ['the state alleged <ARG1>they hacked sabata p...       1  \n",
       "3  ['the state alleged <ARG1>they hacked sabata p...       1  \n",
       "4  ['the state alleged <ARG1>they hacked sabata p...       1  "
      ]
     },
     "execution_count": 552,
     "metadata": {},
     "output_type": "execute_result"
    }
   ],
   "source": [
    "df_eda.head()"
   ]
  },
  {
   "cell_type": "code",
   "execution_count": 554,
   "id": "3ca5701a-c272-4387-92ca-7fc3c8c1d762",
   "metadata": {},
   "outputs": [],
   "source": [
    "eda_result_df = pd.concat([df_o, df_eda], ignore_index=True)\n",
    "eda_result_df.to_csv('CNC_eda_o+orig_output11.csv', index=None)"
   ]
  },
  {
   "cell_type": "code",
   "execution_count": 504,
   "id": "a576e143-5b75-4232-b7f5-0485dc89884b",
   "metadata": {},
   "outputs": [],
   "source": [
    "df_eda.to_csv('testing_func10.csv',index=None)"
   ]
  },
  {
   "cell_type": "code",
   "execution_count": null,
   "id": "5f3c77dc-44be-4b22-a9a3-561faa715bf1",
   "metadata": {},
   "outputs": [],
   "source": []
  },
  {
   "cell_type": "code",
   "execution_count": 431,
   "id": "37eb147a-1009-403b-a1b9-612e0274a8d6",
   "metadata": {},
   "outputs": [],
   "source": [
    "def check_words_in_column(df, column_name, word_list):\n",
    "    \"\"\"\n",
    "    Check if every entry in a DataFrame column contains every word in the inputted list.\n",
    "\n",
    "    Parameters:\n",
    "    - df: DataFrame\n",
    "    - column_name: str, the name of the column in the DataFrame\n",
    "    - word_list: list of str, the list of words to check for in each entry\n",
    "\n",
    "    Returns:\n",
    "    - result: bool, True if every entry contains every word, False otherwise\n",
    "    \"\"\"\n",
    "\n",
    "    # Check if the column exists in the DataFrame\n",
    "    if column_name not in df.columns:\n",
    "        raise ValueError(f\"Column '{column_name}' not found in the DataFrame.\")\n",
    "\n",
    "    # Iterate through each row in the specified column\n",
    "    for entry in df[column_name]:\n",
    "        # Check if every word in the word_list is present in the entry\n",
    "        if all(word.lower() in entry.lower() for word in word_list):\n",
    "            continue\n",
    "        else:\n",
    "            print(entry)\n",
    "            return False\n",
    "\n",
    "    # If the loop completes without returning False, all entries pass the check\n",
    "    return True"
   ]
  },
  {
   "cell_type": "code",
   "execution_count": 553,
   "id": "35916761-27f3-47a8-81a3-21d29cfa55fd",
   "metadata": {},
   "outputs": [
    {
     "name": "stdout",
     "output_type": "stream",
     "text": [
      "True\n"
     ]
    }
   ],
   "source": [
    "filter_list2 = ['<ARG0>','<ARG1>','</ARG0>','</ARG1>']\n",
    "print(check_words_in_column(df_eda, 'causal_text_w_pairs', filter_list2))"
   ]
  },
  {
   "cell_type": "code",
   "execution_count": 555,
   "id": "cad503b6-8c9f-47a9-aabe-5cc6eaeeeef1",
   "metadata": {},
   "outputs": [
    {
     "data": {
      "text/plain": [
       "6775"
      ]
     },
     "execution_count": 555,
     "metadata": {},
     "output_type": "execute_result"
    }
   ],
   "source": [
    "len(df_eda)"
   ]
  },
  {
   "cell_type": "code",
   "execution_count": 556,
   "id": "9c4b17c2-583b-4306-96f4-fa526cb11efd",
   "metadata": {},
   "outputs": [],
   "source": [
    "df_eda_p = pd.read_csv('processed3_eda_3_output_transformed_train_subtask2-2.csv')\n",
    "eda_p_result_df = pd.concat([df_o, df_eda_p], ignore_index=True)\n",
    "eda_p_result_df.to_csv('CNC_eda_p_o+orig_output.csv', index=None)"
   ]
  },
  {
   "cell_type": "code",
   "execution_count": 557,
   "id": "e52002a9-dd05-4296-a244-76b4d0993de6",
   "metadata": {},
   "outputs": [
    {
     "name": "stdout",
     "output_type": "stream",
     "text": [
      "['on th , subgenus chen daoxiang , the headspring of the taiwanese united states army fort in hong kong , enunciate <ARG1>the military machine was ascertain to protect [ the ] ']\n",
      "False\n"
     ]
    }
   ],
   "source": [
    "print(check_words_in_column(df_eda_p, 'causal_text_w_pairs', filter_list2))"
   ]
  },
  {
   "cell_type": "code",
   "execution_count": 577,
   "id": "28afbd94-193b-4cd0-babf-9ba885293a93",
   "metadata": {},
   "outputs": [],
   "source": [
    "df_t = df_eda[df_eda['num_rs'] == 1].copy()\n",
    "df_t.reset_index(drop=True, inplace=True)\n",
    "df_t = df_t[~df_t['causal_text_w_pairs'].str.contains('<sig1>')].copy()\n",
    "df_t.reset_index(drop=True, inplace=True)"
   ]
  },
  {
   "cell_type": "code",
   "execution_count": 578,
   "id": "a76daa2f-c62f-44ed-b79f-a7f7ec4a7ba8",
   "metadata": {},
   "outputs": [
    {
     "name": "stdout",
     "output_type": "stream",
     "text": [
      "True\n"
     ]
    }
   ],
   "source": [
    "print(check_words_in_column(df_t, 'causal_text_w_pairs', filter_list2))"
   ]
  },
  {
   "cell_type": "code",
   "execution_count": 579,
   "id": "06b7029a-d17e-418a-a93b-3998dd1b0142",
   "metadata": {},
   "outputs": [],
   "source": [
    "eda_result_t_df = pd.concat([df_o, df_t], ignore_index=True)\n",
    "eda_result_t_df.to_csv('CNC_eda_o+orig_output55.csv', index=None)"
   ]
  },
  {
   "cell_type": "code",
   "execution_count": 590,
   "id": "dedcc8b2-4648-4d44-9d0e-1a9b1344dc0d",
   "metadata": {},
   "outputs": [
    {
     "name": "stdout",
     "output_type": "stream",
     "text": [
      "True\n"
     ]
    }
   ],
   "source": [
    "print(check_words_in_column(df_f2, 'causal_text_w_pairs', filter_list2))"
   ]
  },
  {
   "cell_type": "code",
   "execution_count": 591,
   "id": "da584496-84a4-41be-9107-fc045e05aa1f",
   "metadata": {},
   "outputs": [
    {
     "name": "stdout",
     "output_type": "stream",
     "text": [
      "True\n"
     ]
    }
   ],
   "source": [
    "df_t2 = pd.read_csv('del_4_processed_eda_2_output_transformed_train_subtask2.csv')\n",
    "print(check_words_in_column(df_t2, 'causal_text_w_pairs', filter_list2))"
   ]
  },
  {
   "cell_type": "code",
   "execution_count": 592,
   "id": "b39ee463-a818-4e1b-bc79-145f31d26d09",
   "metadata": {},
   "outputs": [
    {
     "name": "stdout",
     "output_type": "stream",
     "text": [
      "True\n"
     ]
    }
   ],
   "source": [
    "df_t3 = pd.read_csv('del_4_processed_eda_3_output_transformed_train_subtask2.csv')\n",
    "print(check_words_in_column(df_t3, 'causal_text_w_pairs', filter_list2))"
   ]
  },
  {
   "cell_type": "code",
   "execution_count": 38,
   "id": "b9603fec-10fd-4004-9952-1c6897a6a628",
   "metadata": {},
   "outputs": [
    {
     "name": "stdout",
     "output_type": "stream",
     "text": [
      "[('arg1', 794), ('sig0', 794), ('arg0', 794), ('the', 701), ('to', 554), ('in', 450), ('and', 304), ('a', 296), ('of', 263), ('heavy', 227), ('due', 181), ('city', 144), ('flooding', 134), ('caused', 130), ('rain', 114), ('widespread', 98), ('resulting', 98), ('their', 96), ('for', 95), ('rainfall', 92), ('company', 86), ('new', 78), ('because', 76), ('after', 75), ('led', 74), ('increase', 71), ('as', 70), ('s', 69), ('on', 67), ('government', 65), ('damage', 64), ('students', 59), ('has', 57), ('causing', 56), ('was', 56), ('were', 55), ('streets', 55), ('by', 53), ('that', 52), ('flooded', 52), ('severe', 51), ('traffic', 50), ('leading', 50), ('levels', 45), ('order', 44), ('increased', 44), ('homes', 42), ('lack', 42), ('pollution', 40), ('infrastructure', 40), ('residents', 40), ('several', 39), ('many', 38), ('rise', 38), ('resulted', 38), ('implemented', 37), ('she', 36), ('with', 36), ('decided', 35), ('decrease', 35), ('significant', 34), ('car', 33), ('protest', 33), ('have', 32), ('demand', 32), ('strong', 31), ('at', 30), ('from', 30), ('local', 30), ('they', 29), ('result', 29), ('had', 29), ('winds', 29), ('during', 28), ('an', 28), ('recent', 27), ('his', 26), ('area', 26), ('prices', 26), ('measures', 25), ('river', 25), ('exam', 25), ('sales', 25), ('global', 24), ('00', 24), ('work', 23), ('failed', 23), ('improve', 23), ('stricter', 23), ('major', 23), ('study', 23), ('her', 22), ('among', 22), ('driver', 22), ('congestion', 22), ('crashed', 22), ('according', 22), ('increasing', 22), ('he', 22), ('rates', 22), ('school', 22), ('profits', 22), ('it', 21), ('am', 21), ('regulations', 21), ('poor', 21), ('road', 20), ('respiratory', 20), ('better', 20), ('2021', 20), ('being', 19), ('announced', 19), ('public', 19), ('extensive', 19), ('student', 19), ('response', 19), ('people', 19), ('its', 18), ('safety', 18), ('rising', 18), ('organized', 18), ('demanding', 18), ('12', 18), ('into', 18), ('health', 18), ('power', 18), ('environmental', 18), ('stock', 18), ('marketing', 18), ('employees', 17), ('citizens', 17), ('against', 17), ('10', 17), ('rainstorm', 17), ('university', 17), ('change', 17), ('roads', 17), ('which', 17), ('economic', 17), ('delays', 17), ('are', 16), ('about', 16), ('job', 16), ('financial', 16), ('police', 16), ('emissions', 16), ('tree', 16), ('protests', 16), ('policy', 16), ('despite', 16), ('reduce', 16), ('started', 15), ('water', 15), ('conditions', 15), ('john', 15), ('last', 15), ('areas', 15), ('outside', 15), ('action', 15), ('tuition', 15), ('education', 15), ('will', 15), ('climate', 15), ('funding', 15), ('strike', 15), ('down', 15), ('30', 15), ('excessive', 15), ('not', 14), ('weather', 14), ('when', 14), ('accident', 14), ('unemployment', 14), ('been', 14), ('crime', 14), ('hard', 13), ('ceo', 13), ('policies', 13), ('more', 13), ('group', 13), ('air', 13), ('decision', 13), ('strategy', 13), ('09', 13), ('plummeted', 13), ('system', 13), ('since', 12), ('control', 12), ('night', 12), ('fees', 12), ('cars', 12), ('houses', 12), ('number', 12), ('t', 12), ('didn', 12), ('all', 12), ('outdoor', 12), ('evacuation', 12), ('construction', 12), ('jams', 12), ('2022', 12), ('administration', 12), ('went', 12), ('covid', 12), ('19', 12), ('strict', 12), ('property', 11), ('concerns', 11), ('project', 11), ('such', 11), ('massive', 11), ('sig1', 11), ('outages', 11), ('be', 11), ('team', 11), ('gathered', 11), ('concert', 11), ('town', 11), ('nearby', 11), ('15', 11), ('budget', 11), ('is', 11), ('neighborhood', 11), ('off', 10), ('receiving', 10), ('costs', 10), ('price', 10), ('2020', 10), ('protested', 10), ('thousands', 10), ('diseases', 10), ('prevent', 10), ('population', 10), ('ist', 10), ('lost', 10), ('gas', 10), ('cancellation', 10), ('day', 10), ('evacuate', 10), ('campaign', 10), ('late', 10), ('overflow', 10), ('hours', 10), ('destruction', 10), ('management', 10), ('decreased', 10), ('grades', 10), ('decline', 10), ('cases', 10), ('news', 9), ('ensure', 9), ('performance', 9), ('closures', 9), ('working', 9), ('meeting', 9), ('low', 9), ('authorities', 9), ('problems', 9), ('became', 9), ('building', 9), ('significantly', 9), ('enough', 9), ('coastal', 9), ('storm', 9), ('recession', 9), ('market', 9), ('studying', 9), ('rains', 9), ('oil', 9), ('industrial', 9), ('surrounding', 9), ('implement', 9), ('across', 9), ('got', 9), ('driving', 9), ('workers', 9), ('consumer', 9), ('spending', 9), ('teacher', 9), ('leads', 9), ('june', 9), ('transportation', 9), ('drainage', 9), ('employee', 8), ('spread', 8), ('time', 8), ('delayed', 8), ('multiple', 8), ('we', 8), ('investors', 8), ('further', 8), ('missed', 8), ('accidents', 8), ('natural', 8), ('take', 8), ('fell', 8), ('lead', 8), ('explained', 8), ('experienced', 8), ('fuel', 8), ('throughout', 8), ('there', 8), ('resources', 8), ('floods', 8), ('stuck', 8), ('banks', 8), ('flood', 8), ('lockdown', 8), ('reports', 8), ('hike', 8), ('following', 8), ('higher', 8), ('emergency', 8), ('implementation', 8), ('improved', 8), ('facilities', 8), ('overall', 8), ('pm', 8), ('april', 8), ('skyrocketed', 8), ('cuts', 8), ('layoffs', 8), ('opportunities', 7), ('quality', 7), ('potential', 7), ('implementing', 7), ('passengers', 7), ('while', 7), ('activities', 7), ('events', 7), ('demonstration', 7), ('high', 7), ('downpour', 7), ('if', 7), ('chaos', 7), ('gun', 7), ('protesters', 7), ('research', 7), ('would', 7), ('calling', 7), ('temperatures', 7), ('protestors', 7), ('this', 7), ('panic', 7), ('economy', 7), ('security', 7), ('various', 7), ('wages', 7), ('over', 7), ('closed', 7), ('studied', 7), ('soared', 7), ('march', 7), ('forcing', 7), ('affected', 7), ('negative', 7), ('efforts', 7), ('report', 7), ('buildings', 7), ('received', 6), ('customer', 6), ('inconvenience', 6), ('morning', 6), ('highway', 6), ('causes', 6), ('numerous', 6), ('issues', 6), ('well', 6), ('environment', 6), ('flights', 6), ('production', 6), ('sea', 6), ('awareness', 6), ('office', 6), ('campus', 6), ('london', 6), ('texting', 6), ('laws', 6), ('illnesses', 6), ('support', 6), ('organizing', 6), ('canceled', 6), ('hit', 6), ('york', 6), ('through', 6), ('event', 6), ('up', 6), ('could', 6), ('protesting', 6), ('get', 6), ('living', 6), ('immediate', 6), ('trees', 6), ('july', 6), ('november', 6), ('took', 6), ('cost', 6), ('broke', 6), ('vehicle', 6), ('address', 6), ('declining', 6), ('so', 6), ('effects', 6), ('continued', 6), ('community', 6), ('latest', 6), ('council', 6), ('state', 6), ('rate', 6), ('unfair', 6), ('diligently', 6), ('today', 6), ('attention', 6), ('peaceful', 6), ('september', 5), ('made', 5), ('training', 5), ('any', 5), ('investigation', 5), ('stated', 5), ('wheel', 5), ('losing', 5), ('cancelled', 5), ('argument', 5), ('disasters', 5), ('extreme', 5), ('carbon', 5), ('raise', 5), ('between', 5), ('08', 5), ('failure', 5), ('asleep', 5), ('can', 5), ('neighborhoods', 5), ('make', 5), ('businesses', 5), ('week', 5), ('growing', 5), ('activists', 5), ('conference', 5), ('said', 5), ('start', 5), ('although', 5), ('region', 5), ('phone', 5), ('violence', 5), ('unless', 5), ('greenhouse', 5), ('getting', 5), ('him', 5), ('country', 5), ('felt', 5), ('class', 5), ('presence', 5), ('advertising', 5), ('may', 5), ('out', 5), ('need', 5), ('damaged', 5), ('continue', 5), ('20', 5), ('distracted', 5), ('tax', 5), ('marched', 5), ('proposed', 5), ('long', 5), ('strategies', 5), ('sudden', 5), ('board', 5), ('teachers', 5), ('2019', 5), ('pst', 5), ('yesterday', 5), ('disappointed', 5), ('test', 5), ('promotion', 5), ('successful', 5), ('consumption', 5), ('warned', 5), ('commuters', 5), ('workplace', 5), ('find', 5), ('controversial', 5), ('attendees', 5), ('dropped', 5), ('schools', 5), ('drop', 5), ('forced', 5), ('taxes', 5), ('delay', 5), ('earthquake', 5), ('10th', 4), ('frustration', 4), ('match', 4), ('complaints', 4), ('essential', 4), ('our', 4), ('practice', 4), ('own', 4), ('flight', 4), ('neighbors', 4), ('heated', 4), ('warming', 4), ('hurricanes', 4), ('frequent', 4), ('lying', 4), ('justice', 4), ('issue', 4), ('concerned', 4), ('2', 4), ('hrs', 4), ('proper', 4), ('manager', 4), ('rapidly', 4), ('deforestation', 4), ('argued', 4), ('hospital', 4), ('erupted', 4), ('individuals', 4), ('amidst', 4), ('protocols', 4), ('incidents', 4), ('shooting', 4), ('classes', 4), ('making', 4), ('game', 4), ('rainy', 4), ('development', 4), ('damaging', 4), ('clean', 4), ('sources', 4), ('evacuated', 4), ('towards', 4), ('saw', 4), ('overslept', 4), ('countries', 4), ('fall', 4), ('additional', 4), ('boost', 4), ('product', 4), ('fee', 4), ('times', 4), ('experiencing', 4), ('corruption', 4), ('academic', 4), ('downturn', 4), ('funds', 4), ('next', 4), ('series', 4), ('february', 4), ('furthermore', 4), ('pandemic', 4), ('media', 4), ('conducted', 4), ('wanted', 4), ('grade', 4), ('life', 4), ('minister', 4), ('productivity', 4), ('staff', 4), ('years', 4), ('center', 4), ('necessary', 4), ('mumbai', 4), ('october', 4), ('est', 4), ('spaces', 4), ('witnessing', 4), ('preparation', 4), ('sessions', 4), ('tutoring', 4), ('5', 4), ('displacement', 4), ('consequently', 4), ('every', 4), ('injuries', 4), ('struggle', 4), ('cut', 4), ('consistently', 4), ('them', 4), ('announcement', 4), ('dissatisfaction', 4), ('service', 4), ('customers', 4), ('revenue', 4), ('crops', 4), ('flow', 4), ('maintenance', 4), ('systems', 4), ('effort', 4), ('risk', 4), ('weight', 4), ('surge', 4), ('virus', 4), ('earnings', 4), ('evidence', 3), ('information', 3), ('secure', 3), ('future', 3), ('truck', 3), ('expected', 3), ('postponed', 3), ('sarah', 3), ('coach', 3), ('thorough', 3), ('these', 3), ('escalated', 3), ('completing', 3), ('smith', 3), ('waiting', 3), ('therefore', 3), ('reschedule', 3), ('anger', 3), ('intense', 3), ('human', 3), ('affordable', 3), ('collision', 3), ('asthma', 3), ('submerged', 3), ('reduced', 3), ('protect', 3), ('before', 3), ('unrest', 3), ('sharp', 3), ('practiced', 3), ('factory', 3), ('december', 3), ('mass', 3), ('organize', 3), ('demonstrations', 3), ('communities', 3), ('ecosystems', 3), ('sparked', 3), ('progress', 3), ('park', 3), ('instability', 3), ('law', 3), ('feedback', 3), ('i', 3), ('outage', 3), ('attend', 3), ('habitats', 3), ('rescue', 3), ('entire', 3), ('younger', 3), ('targeted', 3), ('alarm', 3), ('ran', 3), ('poured', 3), ('near', 3), ('targets', 3), ('access', 3), ('shown', 3), ('lives', 3), ('lower', 3), ('blocking', 3), ('put', 3), ('san', 3), ('francisco', 3), ('ends', 3), ('meet', 3), ('families', 3), ('instead', 3), ('rainstorms', 3), ('meanwhile', 3), ('fired', 3), ('rush', 3), ('hour', 3), ('developing', 3), ('patients', 3), ('hospitals', 3), ('treatment', 3), ('activity', 3), ('lay', 3), ('warn', 3), ('scientists', 3), ('go', 3), ('situation', 3), ('leader', 3), ('negotiate', 3), ('14', 3), ('towns', 3), ('past', 3), ('xyz', 3), ('called', 3), ('groups', 3), ('farmers', 3), ('launched', 3), ('reported', 3), ('came', 3), ('importance', 3), ('physical', 3), ('exercise', 3), ('researchers', 3), ('good', 3), ('who', 3), ('bring', 3), ('caught', 3), ('difficulties', 3), ('efficiency', 3), ('poverty', 3), ('ruling', 3), ('party', 3), ('noise', 3), ('site', 3), ('discontent', 3), ('morale', 3), ('light', 3), ('members', 3), ('rally', 3), ('bridge', 3), ('angry', 3), ('operations', 3), ('imposed', 3), ('restrictions', 3), ('did', 3), ('labor', 3), ('harder', 3), ('competition', 3), ('improvement', 3), ('sector', 3), ('breaking', 3), ('record', 3), ('learning', 3), ('train', 3), ('projects', 3), ('without', 3), ('companies', 3), ('thursday', 3), ('recently', 3), ('harmful', 3), ('kerala', 3), ('healthcare', 3), ('lines', 3), ('goods', 3), ('displacing', 3), ('loss', 3), ('able', 3), ('however', 3), ('regularly', 3), ('intensified', 3), ('impact', 3), ('income', 3), ('smoking', 3), ('data', 3), ('attract', 3), ('express', 3), ('classrooms', 3), ('exams', 3), ('energy', 3), ('taking', 3), ('principal', 3), ('washington', 3), ('use', 3), ('gym', 3), ('selling', 3), ('but', 3), ('disease', 3), ('cutting', 3), ('blocked', 3), ('found', 2), ('fair', 2), ('won', 2), ('discovered', 2), ('delivery', 2), ('longer', 2), ('2015', 2), ('weeks', 2), ('plants', 2), ('icy', 2), ('skidded', 2), ('products', 2), ('satisfaction', 2), ('resigned', 2), ('swerved', 2), ('medical', 2), ('bad', 2), ('airport', 2), ('continues', 2), ('wildfires', 2), ('incident', 2), ('mar', 2), ('two', 2), ('intersection', 2), ('eyewitnesses', 2), ('lung', 2), ('other', 2), ('cancer', 2), ('torrential', 2), ('ground', 2), ('losses', 2), ('provide', 2), ('concern', 2), ('sustainability', 2), ('degradation', 2), ('rushed', 2), ('runner', 2), ('collapsed', 2), ('marathon', 2), ('means', 2), ('drought', 2), ('prompted', 2), ('2017', 2), ('boycott', 2), ('petition', 2), ('regions', 2), ('months', 2), ('boycotted', 2), ('level', 2), ('devastating', 2), ('current', 2), ('ate', 2), ('forgotten', 2), ('umbrella', 2), ('no', 2), ('bone', 2), ('protection', 2), ('soaked', 2), ('blaming', 2), ('hindered', 2), ('scientific', 2), ('parents', 2), ('housing', 2), ('ultimately', 2), ('upcoming', 2), ('exhausted', 2), ('disrupting', 2), ('services', 2), ('skipped', 2), ('accompanied', 2), ('volunteers', 2), ('cause', 2), ('deployed', 2), ('teams', 2), ('violent', 2), ('approaching', 2), ('advised', 2), ('hurricane', 2), ('demographics', 2), ('quarter', 2), ('set', 2), ('clock', 2), ('forgot', 2), ('innocent', 2), ('urgent', 2), ('drivers', 2), ('believed', 2), ('under', 2), ('struggling', 2), ('indoors', 2), ('knocked', 2), ('expressing', 2), ('jam', 2), ('another', 2), ('lunch', 2), ('one', 2), ('avoid', 2), ('break', 2), ('seeking', 2), ('brand', 2), ('23', 2), ('trust', 2), ('initiate', 2), ('handle', 2), ('restore', 2), ('consequences', 2), ('catastrophic', 2), ('immediately', 2), ('uprooted', 2), ('extracurricular', 2), ('storms', 2), ('tropical', 2), ('press', 2), ('mentioned', 2), ('union', 2), ('strikes', 2), ('refusal', 2), ('reform', 2), ('audience', 2), ('friends', 2), ('stranded', 2), ('couple', 2), ('targeting', 2), ('district', 2), ('large', 2), ('delhi', 2), ('monday', 2), ('social', 2), ('standstill', 2), ('type', 2), ('diabetes', 2), ('sugar', 2), ('bus', 2), ('occurred', 2), ('feeling', 2), ('shelter', 2), ('worked', 2), ('exceeded', 2), ('practices', 2), ('understand', 2), ('45', 2), ('prime', 2), ('15th', 2), ('criticism', 2), ('release', 2), ('square', 2), ('transparency', 2), ('moreover', 2), ('process', 2), ('should', 2), ('tuesday', 2), ('waste', 2), ('then', 2), ('pass', 2), ('hundreds', 2), ('displaced', 2), ('held', 2), ('homework', 2), ('sleep', 2), ('erupts', 2), ('street', 2), ('connecting', 2), ('plans', 2), ('alternative', 2), ('frequency', 2), ('hire', 2), ('sensitive', 2), ('skills', 2), ('supplies', 2), ('early', 2), ('store', 2), ('25', 2), ('gmt', 2), ('technological', 2), ('arrive', 2), ('suspension', 2), ('inadequate', 2), ('suspect', 2), ('regarding', 2), ('front', 2), ('organizers', 2), ('circumstances', 2), ('unforeseen', 2), ('paying', 2), ('temperature', 2), ('few', 2), ('days', 2), ('fire', 2), ('danger', 2), ('suggesting', 2), ('disaster', 2), ('travel', 2), ('fund', 2), ('salaries', 2), ('basement', 2), ('pouring', 2), ('house', 2), ('experts', 2), ('bicycles', 2), ('main', 2), ('crowd', 2), ('become', 2), ('prepare', 2), ('games', 2), ('dress', 2), ('code', 2), ('inflation', 2), ('colleagues', 2), ('arrival', 2), ('away', 2), ('way', 2), ('professor', 2), ('misconduct', 2), ('crisis', 2), ('season', 2), ('holiday', 2), ('evacuations', 2), ('california', 2), ('watch', 2), ('aiming', 2), ('prolonged', 2), ('winning', 2), ('career', 2), ('achieved', 2), ('limited', 2), ('cheating', 2), ('pollutants', 2), ('17', 2), ('villages', 2), ('collapse', 2), ('overflowing', 2), ('relief', 2), ('declared', 2), ('stay', 2), ('feared', 2), ('stability', 2), ('uncertainty', 2), ('excess', 2), ('producing', 2), ('us', 2), ('disruption', 2), ('prepared', 2), ('reputation', 2), ('deteriorated', 2), ('wake', 2), ('vehicular', 2), ('vehicles', 2), ('struck', 2), ('overflowed', 2), ('help', 2), ('reforms', 2), ('string', 2), ('particularly', 2), ('organizations', 2), ('gates', 2), ('chennai', 2), ('providing', 2), ('creation', 2), ('growth', 2), ('boss', 2), ('quit', 2), ('link', 2), ('factories', 2), ('tackle', 2), ('technology', 2), ('disagreement', 2), ('tensions', 2), ('destroyed', 2), ('beach', 2), ('taken', 2), ('grading', 2), ('kitchen', 2), ('washing', 2), ('industry', 2), ('adequately', 2), ('declined', 2), ('praised', 2), ('final', 2), ('urging', 2), ('together', 2), ('until', 2), ('tirelessly', 2), ('department', 2), ('alarming', 2), ('election', 2), ('planning', 2), ('seek', 2), ('failing', 2), ('gain', 2), ('discuss', 2), ('attending', 2), ('math', 2), ('victims', 2), ('friday', 2), ('textbooks', 2), ('emerged', 2), ('12th', 2), ('struggled', 2), ('united', 2), ('mon', 2), ('resignation', 2), ('posted', 2), ('discovering', 2), ('green', 2), ('fitness', 2), ('signs', 2), ('shows', 2), ('statistics', 2), ('brought', 2), ('semester', 2), ('faculty', 2), ('space', 2), ('family', 2), ('steadily', 2), ('forecast', 2), ('clear', 2), ('studies', 2), ('sugary', 2), ('heart', 2), ('obesity', 2), ('drinks', 2), ('nationwide', 2), ('receive', 2), ('planned', 2), ('scandal', 2), ('lot', 2), ('published', 2), ('important', 2), ('liver', 2), ('drinking', 2), ('mental', 2), ('international', 2), ('buy', 2), ('ice', 2), ('screen', 2), ('directors', 2), ('everyone', 2), ('spike', 2), ('imposing', 2), ('disappointing', 2), ('panicked', 2), ('disrupted', 2), ('utc', 2), ('mayor', 2), ('having', 2), ('officials', 2), ('warning', 2), ('petrol', 2), ('first', 2), ('free', 2), ('pdt', 2), ('stealing', 1), ('audit', 1), ('accused', 1), ('routine', 1), ('confidential', 1), ('computer', 1), ('recognition', 1), ('science', 1), ('excited', 1), ('downfall', 1), ('look', 1), ('kochi', 1), ('3', 1), ('delivering', 1), ('destination', 1), ('wait', 1), ('cargo', 1), ('transport', 1), ('49', 1), ('than', 1), ('withered', 1), ('died', 1), ('players', 1), ('athletic', 1), ('professional', 1), ('identify', 1), ('conduct', 1), ('create', 1), ('emphasizing', 1), ('unexpectedly', 1), ('raising', 1), ('steering', 1), ('opened', 1), ('dr', 1), ('degree', 1), ('turned', 1), ('frustrated', 1), ('delaying', 1), ('slammed', 1), ('call', 1), ('door', 1), ('premiums', 1), ('insurance', 1), ('worsen', 1), ('contributing', 1), ('hearing', 1), ('neighbours', 1), ('upon', 1), ('urge', 1), ('wide', 1), ('tue', 1), ('collide', 1), ('yield', 1), ('seattle', 1), ('saturated', 1), ('thus', 1), ('costly', 1), ('mistakes', 1), ('electricity', 1), ('risen', 1), ('ufeffdue', 1), ('implements', 1), ('actions', 1), ('addressed', 1), ('must', 1), ('generations', 1), ('cmp', 1), ('race', 1), ('drink', 1), ('dehydration', 1), ('choosing', 1), ('creating', 1), ('followed', 1), ('click', 1), ('here', 1), ('advocate', 1), ('threatened', 1), ('also', 1), ('youth', 1), ('unemployed', 1), ('young', 1), ('jobless', 1), ('input', 1), ('rules', 1), ('greater', 1), ('revision', 1), ('coordination', 1), ('sara', 1), ('lacked', 1), ('impacts', 1), ('outrage', 1), ('demanded', 1), ('changes', 1), ('peanut', 1), ('reaction', 1), ('sandwich', 1), ('allergic', 1), ('butter', 1), ('closure', 1), ('innovation', 1), ('blowing', 1), ('scheduled', 1), ('playground', 1), ('equipment', 1), ('safer', 1), ('jeopardy', 1), ('like', 1), ('plunge', 1), ('plunges', 1), ('putting', 1), ('wildfire', 1), ('advisors', 1), ('president', 1), ('blackouts', 1), ('favorite', 1), ('band', 1), ('ripped', 1), ('thunderstorm', 1), ('pipeline', 1), ('2018', 1), ('station', 1), ('home', 1), ('walk', 1), ('bronchitis', 1), ('strengthening', 1), ('firearm', 1), ('imperative', 1), ('governments', 1), ('countless', 1), ('shootings', 1), ('ownership', 1), ('potholes', 1), ('bumps', 1), ('vowed', 1), ('expensive', 1), ('too', 1), ('riots', 1), ('erupting', 1), ('disruptions', 1), ('happen', 1), ('stagnant', 1), ('musicians', 1), ('perform', 1), ('man', 1), ('repeatedly', 1), ('coming', 1), ('vase', 1), ('table', 1), ('jumped', 1), ('cat', 1), ('repeal', 1), ('hall', 1), ('faulty', 1), ('engine', 1), ('straight', 1), ('falling', 1), ('doing', 1), ('breathing', 1), ('reporting', 1), ('cities', 1), ('admissions', 1), ('11', 1), ('thurs', 1), ('raised', 1), ('sep', 1), ('reconsider', 1), ('failures', 1), ('comprehensive', 1), ('appoint', 1), ('special', 1), ('alleged', 1), ('case', 1), ('wave', 1), ('counsel', 1), ('outstanding', 1), ('scholarship', 1), ('achievements', 1), ('owing', 1), ('influenced', 1), ('neglecting', 1), ('fail', 1), ('reckless', 1), ('allocate', 1), ('paychecks', 1), ('rigorous', 1), ('crossed', 1), ('finish', 1), ('line', 1), ('stating', 1), ('subsequent', 1), ('deployment', 1), ('ineffective', 1), ('calls', 1), ('ufeffcrime', 1), ('policing', 1), ('leaving', 1), ('stadium', 1), ('fans', 1), ('larger', 1), ('prompting', 1), ('halted', 1), ('orders', 1), ('celebrate', 1), ('lately', 1), ('arrest', 1), ('demographic', 1), ('launching', 1), ('soil', 1), ('saturation', 1), ('irrigation', 1), ('andhra', 1), ('pradesh', 1), ('guntur', 1), ('correspondent', 1), ('newly', 1), ('hired', 1), ('agricultural', 1), ('utilized', 1), ('influencers', 1), ('regular', 1), ('healthy', 1), ('recognizing', 1), ('diet', 1), ('seminar', 1), ('reduction', 1), ('college', 1), ('fare', 1), ('bengaluru', 1), ('fares', 1), ('promoted', 1), ('dedication', 1), ('nervous', 1), ('whispered', 1), ('gave', 1), ('quiz', 1), ('pop', 1), ('cold', 1), ('unable', 1), ('reliable', 1), ('internet', 1), ('expectations', 1), ('properties', 1), ('forest', 1), ('imposes', 1), ('burning', 1), ('26', 1), ('fires', 1), ('emily', 1), ('researched', 1), ('marine', 1), ('announces', 1), ('january', 1), ('agreed', 1), ('celebrations', 1), ('locals', 1), ('ufeffthe', 1), ('include', 1), ('backlash', 1), ('gaming', 1), ('developers', 1), ('microtransactions', 1), ('facing', 1), ('face', 1), ('mismanagement', 1), ('dissatisfied', 1), ('trip', 1), ('tom', 1), ('assaults', 1), ('ramped', 1), ('patient', 1), ('noted', 1), ('feel', 1), ('excluded', 1), ('occurring', 1), ('angeles', 1), ('07', 1), ('los', 1), ('ignore', 1), ('turnover', 1), ('ordinance', 1), ('developments', 1), ('unanimously', 1), ('deliberation', 1), ('voted', 1), ('lamppost', 1), ('scolded', 1), ('concentrating', 1), ('difficulty', 1), ('obtain', 1), ('contractor', 1), ('permits', 1), ('cart', 1), ('complaining', 1), ('vendors', 1), ('food', 1), ('vending', 1), ('designated', 1), ('intensity', 1), ('unauthorized', 1), ('win', 1), ('helped', 1), ('mandatory', 1), ('noticeable', 1), ('required', 1), ('attendance', 1), ('overnight', 1), ('buying', 1), ('stores', 1), ('grocery', 1), ('shortages', 1), ('vegetables', 1), ('bankruptcy', 1), ('hats', 1), ('given', 1), ('crimes', 1), ('arrested', 1), ('plan', 1), ('withdrew', 1), ('clashed', 1), ('afternoon', 1), ('vibrations', 1), ('expressed', 1), ('filed', 1), ('produced', 1), ('athletes', 1), ('rigorously', 1), ('trained', 1), ('explaining', 1), ('postpone', 1), ('apologize', 1), ('spokesperson', 1), ('organization', 1), ('unbearable', 1), ('conditioned', 1), ('rose', 1), ('heat', 1), ('minor', 1), ('consumers', 1), ('afford', 1), ('opting', 1), ('opens', 1), ('2016', 1), ('bystanders', 1), ('crowded', 1), ('wounding', 1), ('wed', 1), ('confusion', 1), ('gunman', 1), ('cupertino', 1), ('lone', 1), ('mall', 1), ('entered', 1), ('indiscriminately', 1), ('hub', 1), ('sizes', 1), ('assist', 1), ('imminent', 1), ('meteorologist', 1), ('declare', 1), ('arrived', 1), ('suggest', 1), ('helps', 1), ('reinforce', 1), ('do', 1), ('worldwide', 1), ('03', 1), ('notice', 1), ('prior', 1), ('controls', 1), ('emission', 1), ('connections', 1), ('clogged', 1), ('riding', 1), ('reporter', 1), ('stormed', 1), ('court', 1), ('eff', 1), ('application', 1), ('constitutional', 1), ('shockwaves', 1), ('sending', 1), ('skilled', 1), ('piano', 1), ('musician', 1), ('priority', 1), ('top', 1), ('plenty', 1), ('though', 1), ('even', 1), ('scores', 1), ('three', 1), ('played', 1), ('row', 1), ('walkout', 1), ('staging', 1), ('lunchtime', 1), ('expression', 1), ('fri', 1), ('townville', 1), ('opposing', 1), ('daily', 1), ('staged', 1), ('restricts', 1), ('freedom', 1), ('directly', 1), ('noting', 1), ('worth', 1), ('linked', 1), ('drew', 1), ('adequate', 1), ('riverbanks', 1), ('washed', 1), ('needs', 1), ('thiruvananthapuram', 1), ('increases', 1), ('field', 1), ('groundbreaking', 1), ('discoveries', 1), ('paved', 1), ('revolutionize', 1), ('assigned', 1), ('consistent', 1), ('7th', 1), ('created', 1), ('faced', 1), ('plunging', 1), ('darkness', 1), ('turn', 1), ('roots', 1), ('some', 1), ('weak', 1), ('impassable', 1), ('reversal', 1), ('overwhelmed', 1), ('investment', 1), ('overloaded', 1), ('least', 1), ('formed', 1), ('robberies', 1), ('program', 1), ('bank', 1), ('downsize', 1), ('workforce', 1), ('clients', 1), ('supply', 1), ('allegedly', 1), ('revise', 1), ('50', 1), ('reviews', 1), ('championship', 1), ('looking', 1), ('review', 1), ('prospects', 1), ('grow', 1), ('challenging', 1), ('excellent', 1), ('results', 1), ('available', 1), ('close', 1), ('suspended', 1), ('exposure', 1), ('drastic', 1), ('affecting', 1), ('constant', 1), ('submerging', 1), ('flash', 1), ('damages', 1), ('manganore', 1), ('uprooting', 1), ('gather', 1), ('allocated', 1), ('determination', 1), ('afloat', 1), ('anxiety', 1), ('jobs', 1), ('surplus', 1), ('heard', 1), ('peacefully', 1), ('those', 1), ('attempts', 1), ('respond', 1), ('biodiversity', 1), ('save', 1), ('undergoing', 1), ('firefighters', 1), ('coverage', 1), ('controversy', 1), ('mark', 1), ('contribute', 1), ('gasoline', 1), ('side', 1), ('neglect', 1), ('x92', 1), ('programs', 1), ('aims', 1), ('witnesses', 1), ('stopped', 1), ('universities', 1), ('shut', 1), ('pay', 1), ('minimum', 1), ('wage', 1), ('investments', 1), ('foreign', 1), ('india', 1), ('disrespectful', 1), ('constantly', 1), ('demeaning', 1), ('abruptly', 1), ('jones', 1), ('anti', 1), ('campaigns', 1), ('reveals', 1), ('procedures', 1), ('initiated', 1), ('finance', 1), ('deficit', 1), ('develop', 1), ('mitigation', 1), ('effective', 1), ('collecting', 1), ('conducting', 1), ('investor', 1), ('sentiment', 1), ('turnout', 1), ('festival', 1), ('invest', 1), ('operating', 1), ('unaffordable', 1), ('faces', 1), ('remarks', 1), ('insulting', 1), ('disciplinary', 1), ('rude', 1), ('1', 1), ('addressing', 1), ('red', 1), ('injured', 1), ('busy', 1), ('block', 1), ('small', 1), ('altercations', 1), ('27', 1), ('districts', 1), ('august', 1), ('destroying', 1), ('where', 1), ('refunded', 1), ('ticket', 1), ('finances', 1), ('partners', 1), ('business', 1), ('matters', 1), ('forming', 1), ('hands', 1), ('refused', 1), ('enter', 1), ('finishing', 1), ('cleaned', 1), ('dinner', 1), ('children', 1), ('dishes', 1), ('launch', 1), ('attended', 1), ('learn', 1), ('advancements', 1), ('thunderstorms', 1), ('deteriorates', 1), ('wildlife', 1), ('proceed', 1), ('ignoring', 1), ('rainfalls', 1), ('drained', 1), ('reach', 1), ('alternate', 1), ('destinations', 1), ('routes', 1), ('collegeville', 1), ('suspicion', 1), ('drastically', 1), ('expenses', 1), ('marks', 1), ('scored', 1), ('highest', 1), ('michael', 1), ('score', 1), ('exclaimed', 1), ('perfect', 1), ('proud', 1), ('aced', 1), ('surveys', 1), ('indicates', 1), ('edge', 1), ('burglaries', 1), ('additionally', 1), ('equipped', 1), ('library', 1), ('salem', 1), ('campaigning', 1), ('ready', 1), ('my', 1), ('relax', 1), ('recharge', 1), ('refreshed', 1), ('renewed', 1), ('melt', 1), ('glaciers', 1), ('cyberattacks', 1), ('candidate', 1), ('chances', 1), ('happened', 1), ('execution', 1), ('surface', 1), ('wet', 1), ('slippery', 1), ('slipped', 1), ('unheard', 1), ('memorandum', 1), ('escalation', 1), ('chronic', 1), ('association', 1), ('solutions', 1), ('proficiency', 1), ('specialized', 1), ('necessity', 1), ('sustained', 1), ('07th', 1), ('lowest', 1), ('drops', 1), ('altercation', 1), ('neighbor', 1), ('temper', 1), ('great', 1), ('success', 1), ('updated', 1), ('standards', 1), ('kingdom', 1), ('contain', 1), ('cope', 1), ('influx', 1), ('variant', 1), ('coronavirus', 1), ('thanks', 1), ('discrimination', 1), ('18', 1), ('oct', 1), ('spent', 1), ('video', 1), ('most', 1), ('playing', 1), ('fact', 1), ('file', 1), ('recover', 1), ('hoped', 1), ('possible', 1), ('stolen', 1), ('soon', 1), ('complaint', 1), ('incited', 1), ('accountability', 1), ('only', 1), ('boosts', 1), ('released', 1), ('highlighting', 1), ('contributed', 1), ('states', 1), ('upset', 1), ('unions', 1), ('faster', 1), ('sites', 1), ('contract', 1), ('solidarity', 1), ('violations', 1), ('parking', 1), ('renovate', 1), ('functional', 1), ('complained', 1), ('modern', 1), ('determined', 1), ('practicing', 1), ('sheila', 1), ('remained', 1), ('trends', 1), ('changing', 1), ('heavily', 1), ('picnic', 1), ('predicted', 1), ('earlier', 1), ('enjoying', 1), ('participants', 1), ('skies', 1), ('raining', 1), ('matt', 1), ('still', 1), ('accept', 1), ('refusing', 1), ('oakville', 1), ('showed', 1), ('contributes', 1), ('related', 1), ('payment', 1), ('provided', 1), ('client', 1), ('contractors', 1), ('decisions', 1), ('passing', 1), ('arisen', 1), ('completion', 1), ('questioned', 1), ('best', 1), ('contingency', 1), ('involved', 1), ('representatives', 1), ('unresponsive', 1), ('8th', 1), ('02', 1), ('9', 1), ('30am', 1), ('2005', 1), ('downsizing', 1), ('profitability', 1), ('balance', 1), ('benefits', 1), ('affect', 1), ('greatly', 1), ('back', 1), ('wilting', 1), ('malfunction', 1), ('ventilation', 1), ('humidity', 1), ('indicated', 1), ('journeys', 1), ('left', 1), ('ruins', 1), ('codes', 1), ('comes', 1), ('choices', 1), ('moderation', 1), ('why', 1), ('alcohol', 1), ('detrimental', 1), ('responsible', 1), ('going', 1), ('reprimanded', 1), ('recognized', 1), ('demoralized', 1), ('realized', 1), ('fleeing', 1), ('scene', 1), ('bystander', 1), ('qualified', 1), ('overcrowded', 1), ('suffers', 1), ('crews', 1), ('annual', 1), ('shareholders', 1), ('based', 1), ('officer', 1), ('precinct', 1), ('johnson', 1), ('theft', 1), ('enhanced', 1), ('previous', 1), ('compared', 1), ('mike', 1), ('positive', 1), ('downtown', 1), ('incentives', 1), ('solar', 1), ('renewable', 1), ('decade', 1), ('seen', 1), ('installations', 1), ('panel', 1), ('subsidies', 1), ('position', 1), ('thrilled', 1), ('requests', 1), ('breaks', 1), ('consider', 1), ('promised', 1), ('requesting', 1), ('presented', 1), ('tourism', 1), ('apr', 1), ('speeding', 1), ('4', 1), ('killed', 1), ('charged', 1), ('woman', 1), ('manslaughter', 1), ('victim', 1), ('0', 1), ('investigations', 1), ('cleanse', 1), ('audits', 1), ('departments', 1), ('initiating', 1), ('cst', 1), ('caps', 1), ('melting', 1), ('luxury', 1), ('remain', 1), ('superintendent', 1), ('cream', 1), ('stomachache', 1), ('bed', 1), ('terminated', 1), ('embezzlement', 1), ('within', 1), ('teenagers', 1), ('centers', 1), ('cigarettes', 1), ('prevention', 1), ('electrical', 1), ('lasted', 1), ('commute', 1), ('classroom', 1), ('disrupts', 1), ('discipline', 1), ('renowned', 1), ('psychologists', 1), ('reducing', 1), ('correlation', 1), ('stepped', 1), ('prevented', 1), ('realizing', 1), ('brakes', 1), ('reacted', 1), ('triggering', 1), ('chastised', 1), ('continuous', 1), ('despair', 1), ('predicts', 1), ('picketed', 1), ('disappointment', 1), ('eagerly', 1), ('anticipating', 1), ('markets', 1), ('fears', 1), ('patna', 1), ('ap', 1), ('encourages', 1), ('nevertheless', 1), ('scandalous', 1), ('appointment', 1), ('behavior', 1), ('responsibilities', 1), ('neglected', 1), ('compliant', 1), ('fines', 1), ('non', 1), ('aim', 1), ('promoting', 1), ('shares', 1), ('value', 1), ('expert', 1), ('leak', 1), ('digging', 1), ('accidentally', 1), ('pipe', 1), ('lawmakers', 1), ('flames', 1), ('bbc', 1), ('burst', 1), ('laid', 1), ('interventions', 1), ('similarly', 1), ('problem', 1), ('tow', 1), ('fix', 1), ('end', 1), ('jane', 1), ('amount', 1), ('joined', 1), ('ended', 1), ('source', 1), ('insecurity', 1), ('ecosystem', 1), ('irreversible', 1), ('enforce', 1), ('above', 1), ('dark', 1), ('clouds', 1), ('show', 1), ('inaction', 1), ('armed', 1), ('highlighters', 1), ('backpacks', 1), ('notebooks', 1), ('pencils', 1), ('guides', 1), ('carrying', 1), ('whom', 1), ('comply', 1), ('shutdown', 1), ('complete', 1), ('brutality', 1), ('maintain', 1), ('achieve', 1), ('motivated', 1), ('inspiring', 1), ('lecture', 1), ('village', 1), ('cleanup', 1), ('promote', 1), ('occupied', 1), ('stabilize', 1), ('decides', 1), ('jim', 1), ('demonstrators', 1), ('numbers', 1), ('congested', 1), ('tired', 1), ('soccer', 1), ('summit', 1), ('stronger', 1), ('leaders', 1), ('un', 1), ('paris', 1), ('sustainable', 1), ('otherwise', 1), ('recycle', 1), ('see', 1), ('activist', 1), ('introduced', 1), ('guidelines', 1), ('carpooling', 1), ('using', 1), ('smoke', 1), ('dangers', 1), ('deteriorate', 1), ('headquarters', 1), ('chanted', 1), ('slogans', 1), ('intervention', 1), ('colleges', 1), ('underprivileged', 1), ('prioritize', 1), ('vaccinated', 1), ('prioritizes', 1), ('debate', 1), ('communication', 1), ('fatalities', 1), ('plane', 1), ('spite', 1), ('unsafe', 1), ('enjoy', 1), ('rohan', 1), ('sharma', 1), ('passed', 1), ('reconsidered', 1), ('extra', 1), ('offered', 1), ('burden', 1), ('introduces', 1), ('generate', 1), ('allegations', 1), ('elections', 1), ('21', 1), ('mayoral', 1), ('securing', 1), ('alexander', 1), ('brown', 1), ('winner', 1), ('8', 1), ('victory', 1), ('decisive', 1), ('brake', 1), ('plight', 1), ('stage', 1), ('saved', 1), ('money', 1), ('blackout', 1), ('warns', 1), ('heatwaves', 1), ('reasons', 1)]\n"
     ]
    }
   ],
   "source": [
    "common_words = find_common_words(df_ff2[['causal_text_w_pairs']])\n",
    "print(common_words)"
   ]
  },
  {
   "cell_type": "code",
   "execution_count": 30,
   "id": "70057466-e76a-439b-9e22-260edb23060e",
   "metadata": {},
   "outputs": [],
   "source": [
    "df_no_sig = pd.read_csv('CNC_chatgpt+orig_output_no_sig65.csv')\n",
    "df_EDA = pd.read_csv('CNC_eda_o+orig_output55.csv')\n",
    "df_chatgpt = pd.read_csv('CNC_chatgpt+orig_output_no_space6.csv')"
   ]
  },
  {
   "cell_type": "code",
   "execution_count": 18,
   "id": "923b6982-3cbe-4c1f-905a-4a21804c1f7e",
   "metadata": {},
   "outputs": [
    {
     "data": {
      "text/plain": [
       "corpus                                                               cnc\n",
       "doc_id                                                  train_1000_10000\n",
       "sent_id                                                            10000\n",
       "eg_id                                                                  0\n",
       "index                                        cnc_train_100_1000_10000_10\n",
       "text                   'the say alleged they hacked sabata petros cha...\n",
       "causal_text_w_pairs    ['the say alleged <ARG1>they hacked sabata pet...\n",
       "num_rs                                                                 1\n",
       "Name: 3075, dtype: object"
      ]
     },
     "execution_count": 18,
     "metadata": {},
     "output_type": "execute_result"
    }
   ],
   "source": [
    "df_EDA.iloc[3075]"
   ]
  },
  {
   "cell_type": "code",
   "execution_count": 31,
   "id": "83c9c2be-6c73-4455-ad4d-001baf2f98ff",
   "metadata": {},
   "outputs": [
    {
     "data": {
      "text/html": [
       "<div>\n",
       "<style scoped>\n",
       "    .dataframe tbody tr th:only-of-type {\n",
       "        vertical-align: middle;\n",
       "    }\n",
       "\n",
       "    .dataframe tbody tr th {\n",
       "        vertical-align: top;\n",
       "    }\n",
       "\n",
       "    .dataframe thead th {\n",
       "        text-align: right;\n",
       "    }\n",
       "</style>\n",
       "<table border=\"1\" class=\"dataframe\">\n",
       "  <thead>\n",
       "    <tr style=\"text-align: right;\">\n",
       "      <th></th>\n",
       "      <th>corpus</th>\n",
       "      <th>doc_id</th>\n",
       "      <th>sent_id</th>\n",
       "      <th>eg_id</th>\n",
       "      <th>index</th>\n",
       "      <th>text</th>\n",
       "      <th>causal_text_w_pairs</th>\n",
       "      <th>num_rs</th>\n",
       "    </tr>\n",
       "  </thead>\n",
       "  <tbody>\n",
       "    <tr>\n",
       "      <th>3075</th>\n",
       "      <td>cnc</td>\n",
       "      <td>train_1000_10000</td>\n",
       "      <td>10000</td>\n",
       "      <td>0</td>\n",
       "      <td>cnc_train_100_1000_10000_10</td>\n",
       "      <td>'the say alleged they hacked sabata petros cha...</td>\n",
       "      <td>['the say alleged &lt;ARG1&gt;they hacked sabata pet...</td>\n",
       "      <td>1</td>\n",
       "    </tr>\n",
       "    <tr>\n",
       "      <th>3076</th>\n",
       "      <td>cnc</td>\n",
       "      <td>train_1001_10001</td>\n",
       "      <td>10001</td>\n",
       "      <td>0</td>\n",
       "      <td>cnc_train_101_1001_10001_10</td>\n",
       "      <td>'the state aver they hacked sabata petros chal...</td>\n",
       "      <td>['the state aver &lt;ARG1&gt;they hacked sabata petr...</td>\n",
       "      <td>1</td>\n",
       "    </tr>\n",
       "    <tr>\n",
       "      <th>3077</th>\n",
       "      <td>cnc</td>\n",
       "      <td>train_1002_10002</td>\n",
       "      <td>10002</td>\n",
       "      <td>0</td>\n",
       "      <td>cnc_train_102_1002_10002_10</td>\n",
       "      <td>'the state alleged they hacked sabata petros c...</td>\n",
       "      <td>['the state alleged &lt;ARG1&gt;they hacked sabata p...</td>\n",
       "      <td>1</td>\n",
       "    </tr>\n",
       "    <tr>\n",
       "      <th>3078</th>\n",
       "      <td>cnc</td>\n",
       "      <td>train_1003_10003</td>\n",
       "      <td>10003</td>\n",
       "      <td>0</td>\n",
       "      <td>cnc_train_103_1003_10003_10</td>\n",
       "      <td>'the state alleged they hacked sabata petros c...</td>\n",
       "      <td>['the state alleged &lt;ARG1&gt;they hacked sabata p...</td>\n",
       "      <td>1</td>\n",
       "    </tr>\n",
       "    <tr>\n",
       "      <th>3079</th>\n",
       "      <td>cnc</td>\n",
       "      <td>train_1004_10004</td>\n",
       "      <td>10004</td>\n",
       "      <td>0</td>\n",
       "      <td>cnc_train_104_1004_10004_10</td>\n",
       "      <td>'the state alleged they hacked sabata petros c...</td>\n",
       "      <td>['the state alleged &lt;ARG1&gt;they hacked sabata p...</td>\n",
       "      <td>1</td>\n",
       "    </tr>\n",
       "  </tbody>\n",
       "</table>\n",
       "</div>"
      ],
      "text/plain": [
       "     corpus            doc_id  sent_id  eg_id                        index  \\\n",
       "3075    cnc  train_1000_10000    10000      0  cnc_train_100_1000_10000_10   \n",
       "3076    cnc  train_1001_10001    10001      0  cnc_train_101_1001_10001_10   \n",
       "3077    cnc  train_1002_10002    10002      0  cnc_train_102_1002_10002_10   \n",
       "3078    cnc  train_1003_10003    10003      0  cnc_train_103_1003_10003_10   \n",
       "3079    cnc  train_1004_10004    10004      0  cnc_train_104_1004_10004_10   \n",
       "\n",
       "                                                   text  \\\n",
       "3075  'the say alleged they hacked sabata petros cha...   \n",
       "3076  'the state aver they hacked sabata petros chal...   \n",
       "3077  'the state alleged they hacked sabata petros c...   \n",
       "3078  'the state alleged they hacked sabata petros c...   \n",
       "3079  'the state alleged they hacked sabata petros c...   \n",
       "\n",
       "                                    causal_text_w_pairs  num_rs  \n",
       "3075  ['the say alleged <ARG1>they hacked sabata pet...       1  \n",
       "3076  ['the state aver <ARG1>they hacked sabata petr...       1  \n",
       "3077  ['the state alleged <ARG1>they hacked sabata p...       1  \n",
       "3078  ['the state alleged <ARG1>they hacked sabata p...       1  \n",
       "3079  ['the state alleged <ARG1>they hacked sabata p...       1  "
      ]
     },
     "execution_count": 31,
     "metadata": {},
     "output_type": "execute_result"
    }
   ],
   "source": [
    "sub_df1 = df_EDA.iloc[3075:].copy()\n",
    "sub_df3 = df_chatgpt.iloc[3075:].copy()\n",
    "sub_df1.head()"
   ]
  },
  {
   "cell_type": "code",
   "execution_count": 39,
   "id": "b6d064d5-7a75-4e7d-be09-7cb92d6a3067",
   "metadata": {},
   "outputs": [
    {
     "name": "stdout",
     "output_type": "stream",
     "text": [
      "4710\n"
     ]
    }
   ],
   "source": [
    "print(len(sub_df1))"
   ]
  },
  {
   "cell_type": "code",
   "execution_count": 40,
   "id": "cc10b4f6-350f-40ab-b796-5d314690fb96",
   "metadata": {},
   "outputs": [
    {
     "name": "stdout",
     "output_type": "stream",
     "text": [
      "114\n"
     ]
    }
   ],
   "source": [
    "print(len(sub_df2))"
   ]
  },
  {
   "cell_type": "code",
   "execution_count": 41,
   "id": "1ca568f4-afea-49be-a344-19b13e5b0ef4",
   "metadata": {},
   "outputs": [
    {
     "name": "stdout",
     "output_type": "stream",
     "text": [
      "794\n"
     ]
    }
   ],
   "source": [
    "print(len(sub_df3))"
   ]
  },
  {
   "cell_type": "code",
   "execution_count": 20,
   "id": "92276967-6928-4add-bdbb-d05cb2747fb3",
   "metadata": {},
   "outputs": [
    {
     "data": {
      "text/html": [
       "<div>\n",
       "<style scoped>\n",
       "    .dataframe tbody tr th:only-of-type {\n",
       "        vertical-align: middle;\n",
       "    }\n",
       "\n",
       "    .dataframe tbody tr th {\n",
       "        vertical-align: top;\n",
       "    }\n",
       "\n",
       "    .dataframe thead th {\n",
       "        text-align: right;\n",
       "    }\n",
       "</style>\n",
       "<table border=\"1\" class=\"dataframe\">\n",
       "  <thead>\n",
       "    <tr style=\"text-align: right;\">\n",
       "      <th></th>\n",
       "      <th>corpus</th>\n",
       "      <th>doc_id</th>\n",
       "      <th>sent_id</th>\n",
       "      <th>eg_id</th>\n",
       "      <th>index</th>\n",
       "      <th>text</th>\n",
       "      <th>causal_text_w_pairs</th>\n",
       "      <th>num_rs</th>\n",
       "    </tr>\n",
       "  </thead>\n",
       "  <tbody>\n",
       "    <tr>\n",
       "      <th>3075</th>\n",
       "      <td>cnc</td>\n",
       "      <td>train_1001_10001</td>\n",
       "      <td>10001</td>\n",
       "      <td>0</td>\n",
       "      <td>cnc_train_101_1001_10001_10</td>\n",
       "      <td>The students organized a protest because they ...</td>\n",
       "      <td>['&lt;ARG1&gt;The students organized a protest&lt;/ARG1...</td>\n",
       "      <td>1</td>\n",
       "    </tr>\n",
       "    <tr>\n",
       "      <th>3076</th>\n",
       "      <td>cnc</td>\n",
       "      <td>train_1009_10009</td>\n",
       "      <td>10009</td>\n",
       "      <td>0</td>\n",
       "      <td>cnc_train_109_1009_10009_10</td>\n",
       "      <td>The increase in tuition fees and lack of finan...</td>\n",
       "      <td>['The increase in tuition fees and lack of fin...</td>\n",
       "      <td>1</td>\n",
       "    </tr>\n",
       "    <tr>\n",
       "      <th>3077</th>\n",
       "      <td>cnc</td>\n",
       "      <td>train_1025_10025</td>\n",
       "      <td>10025</td>\n",
       "      <td>0</td>\n",
       "      <td>cnc_train_125_1025_10025_10</td>\n",
       "      <td>Due to heavy rainfall and flooding \\ \\, the sc...</td>\n",
       "      <td>['&lt;ARG1&gt;Due to heavy rainfall and flooding \\, ...</td>\n",
       "      <td>1</td>\n",
       "    </tr>\n",
       "    <tr>\n",
       "      <th>3078</th>\n",
       "      <td>cnc</td>\n",
       "      <td>train_1048_10048</td>\n",
       "      <td>10048</td>\n",
       "      <td>0</td>\n",
       "      <td>cnc_train_148_1048_10048_10</td>\n",
       "      <td>MUMBAI : High pollution levels : residents dem...</td>\n",
       "      <td>['MUMBAI : &lt;ARG0&gt;High pollution levels&lt;/ARG0&gt; ...</td>\n",
       "      <td>1</td>\n",
       "    </tr>\n",
       "    <tr>\n",
       "      <th>3079</th>\n",
       "      <td>cnc</td>\n",
       "      <td>train_1056_10056</td>\n",
       "      <td>10056</td>\n",
       "      <td>0</td>\n",
       "      <td>cnc_train_156_1056_10056_10</td>\n",
       "      <td>MUMBAI Water shortage worsens \\ \\, residents p...</td>\n",
       "      <td>['MUMBAI &lt;ARG1&gt;Water shortage worsens&lt;/ARG1&gt; \\...</td>\n",
       "      <td>1</td>\n",
       "    </tr>\n",
       "  </tbody>\n",
       "</table>\n",
       "</div>"
      ],
      "text/plain": [
       "     corpus            doc_id  sent_id  eg_id                        index  \\\n",
       "3075    cnc  train_1001_10001    10001      0  cnc_train_101_1001_10001_10   \n",
       "3076    cnc  train_1009_10009    10009      0  cnc_train_109_1009_10009_10   \n",
       "3077    cnc  train_1025_10025    10025      0  cnc_train_125_1025_10025_10   \n",
       "3078    cnc  train_1048_10048    10048      0  cnc_train_148_1048_10048_10   \n",
       "3079    cnc  train_1056_10056    10056      0  cnc_train_156_1056_10056_10   \n",
       "\n",
       "                                                   text  \\\n",
       "3075  The students organized a protest because they ...   \n",
       "3076  The increase in tuition fees and lack of finan...   \n",
       "3077  Due to heavy rainfall and flooding \\ \\, the sc...   \n",
       "3078  MUMBAI : High pollution levels : residents dem...   \n",
       "3079  MUMBAI Water shortage worsens \\ \\, residents p...   \n",
       "\n",
       "                                    causal_text_w_pairs  num_rs  \n",
       "3075  ['<ARG1>The students organized a protest</ARG1...       1  \n",
       "3076  ['The increase in tuition fees and lack of fin...       1  \n",
       "3077  ['<ARG1>Due to heavy rainfall and flooding \\, ...       1  \n",
       "3078  ['MUMBAI : <ARG0>High pollution levels</ARG0> ...       1  \n",
       "3079  ['MUMBAI <ARG1>Water shortage worsens</ARG1> \\...       1  "
      ]
     },
     "execution_count": 20,
     "metadata": {},
     "output_type": "execute_result"
    }
   ],
   "source": [
    "sub_df2 = df_no_sig.iloc[3075:].copy()\n",
    "sub_df2.head()"
   ]
  },
  {
   "cell_type": "code",
   "execution_count": 32,
   "id": "950c832f-5300-48e1-9afe-4edec31ca4c9",
   "metadata": {},
   "outputs": [],
   "source": [
    "com_df = pd.concat([sub_df3,sub_df1,sub_df2], ignore_index=True)"
   ]
  },
  {
   "cell_type": "code",
   "execution_count": 25,
   "id": "39a82843-06f0-47b1-a3e2-f4714f8a03e1",
   "metadata": {},
   "outputs": [
    {
     "data": {
      "text/html": [
       "<div>\n",
       "<style scoped>\n",
       "    .dataframe tbody tr th:only-of-type {\n",
       "        vertical-align: middle;\n",
       "    }\n",
       "\n",
       "    .dataframe tbody tr th {\n",
       "        vertical-align: top;\n",
       "    }\n",
       "\n",
       "    .dataframe thead th {\n",
       "        text-align: right;\n",
       "    }\n",
       "</style>\n",
       "<table border=\"1\" class=\"dataframe\">\n",
       "  <thead>\n",
       "    <tr style=\"text-align: right;\">\n",
       "      <th></th>\n",
       "      <th>corpus</th>\n",
       "      <th>doc_id</th>\n",
       "      <th>sent_id</th>\n",
       "      <th>eg_id</th>\n",
       "      <th>index</th>\n",
       "      <th>text</th>\n",
       "      <th>causal_text_w_pairs</th>\n",
       "      <th>num_rs</th>\n",
       "    </tr>\n",
       "  </thead>\n",
       "  <tbody>\n",
       "    <tr>\n",
       "      <th>0</th>\n",
       "      <td>cnc</td>\n",
       "      <td>train_1000_10000</td>\n",
       "      <td>10000</td>\n",
       "      <td>0</td>\n",
       "      <td>cnc_train_100_1000_10000_10</td>\n",
       "      <td>The company accused the employee of stealing c...</td>\n",
       "      <td>The company accused &lt;ARG1&gt;the employee of stea...</td>\n",
       "      <td>1</td>\n",
       "    </tr>\n",
       "    <tr>\n",
       "      <th>2</th>\n",
       "      <td>cnc</td>\n",
       "      <td>train_1001_10001</td>\n",
       "      <td>10001</td>\n",
       "      <td>0</td>\n",
       "      <td>cnc_train_101_1001_10001_10</td>\n",
       "      <td>The students are excited because they won the ...</td>\n",
       "      <td>'&lt;ARG1&gt;The students are excited&lt;/ARG1&gt;  &lt;SIG0&gt;...</td>\n",
       "      <td>1</td>\n",
       "    </tr>\n",
       "    <tr>\n",
       "      <th>4</th>\n",
       "      <td>cnc</td>\n",
       "      <td>train_1002_10002</td>\n",
       "      <td>10002</td>\n",
       "      <td>0</td>\n",
       "      <td>cnc_train_102_1002_10002_10</td>\n",
       "      <td>Since the news about the company \\' s financia...</td>\n",
       "      <td>Since the news about the company's financial d...</td>\n",
       "      <td>1</td>\n",
       "    </tr>\n",
       "    <tr>\n",
       "      <th>5</th>\n",
       "      <td>cnc</td>\n",
       "      <td>train_1003_10003</td>\n",
       "      <td>10003</td>\n",
       "      <td>0</td>\n",
       "      <td>cnc_train_103_1003_10003_10</td>\n",
       "      <td>On the morning of September 10th \\, 2015 at 3:...</td>\n",
       "      <td>On the morning of September 10th, 2015 at 3:49...</td>\n",
       "      <td>1</td>\n",
       "    </tr>\n",
       "    <tr>\n",
       "      <th>7</th>\n",
       "      <td>cnc</td>\n",
       "      <td>train_1004_10004</td>\n",
       "      <td>10004</td>\n",
       "      <td>0</td>\n",
       "      <td>cnc_train_104_1004_10004_10</td>\n",
       "      <td>She failed to water the plants for several wee...</td>\n",
       "      <td>'She failed to water the plants &lt;ARG0&gt;for seve...</td>\n",
       "      <td>1</td>\n",
       "    </tr>\n",
       "  </tbody>\n",
       "</table>\n",
       "</div>"
      ],
      "text/plain": [
       "  corpus            doc_id  sent_id  eg_id                        index  \\\n",
       "0    cnc  train_1000_10000    10000      0  cnc_train_100_1000_10000_10   \n",
       "2    cnc  train_1001_10001    10001      0  cnc_train_101_1001_10001_10   \n",
       "4    cnc  train_1002_10002    10002      0  cnc_train_102_1002_10002_10   \n",
       "5    cnc  train_1003_10003    10003      0  cnc_train_103_1003_10003_10   \n",
       "7    cnc  train_1004_10004    10004      0  cnc_train_104_1004_10004_10   \n",
       "\n",
       "                                                text  \\\n",
       "0  The company accused the employee of stealing c...   \n",
       "2  The students are excited because they won the ...   \n",
       "4  Since the news about the company \\' s financia...   \n",
       "5  On the morning of September 10th \\, 2015 at 3:...   \n",
       "7  She failed to water the plants for several wee...   \n",
       "\n",
       "                                 causal_text_w_pairs  num_rs  \n",
       "0  The company accused <ARG1>the employee of stea...       1  \n",
       "2  '<ARG1>The students are excited</ARG1>  <SIG0>...       1  \n",
       "4  Since the news about the company's financial d...       1  \n",
       "5  On the morning of September 10th, 2015 at 3:49...       1  \n",
       "7  'She failed to water the plants <ARG0>for seve...       1  "
      ]
     },
     "execution_count": 25,
     "metadata": {},
     "output_type": "execute_result"
    }
   ],
   "source": [
    "df_ff2.head()"
   ]
  },
  {
   "cell_type": "code",
   "execution_count": 24,
   "id": "ac4250bd-dba2-426c-b0e8-c2772883890f",
   "metadata": {},
   "outputs": [
    {
     "data": {
      "text/html": [
       "<div>\n",
       "<style scoped>\n",
       "    .dataframe tbody tr th:only-of-type {\n",
       "        vertical-align: middle;\n",
       "    }\n",
       "\n",
       "    .dataframe tbody tr th {\n",
       "        vertical-align: top;\n",
       "    }\n",
       "\n",
       "    .dataframe thead th {\n",
       "        text-align: right;\n",
       "    }\n",
       "</style>\n",
       "<table border=\"1\" class=\"dataframe\">\n",
       "  <thead>\n",
       "    <tr style=\"text-align: right;\">\n",
       "      <th></th>\n",
       "      <th>corpus</th>\n",
       "      <th>doc_id</th>\n",
       "      <th>sent_id</th>\n",
       "      <th>eg_id</th>\n",
       "      <th>index</th>\n",
       "      <th>text</th>\n",
       "      <th>causal_text_w_pairs</th>\n",
       "      <th>num_rs</th>\n",
       "    </tr>\n",
       "  </thead>\n",
       "  <tbody>\n",
       "    <tr>\n",
       "      <th>0</th>\n",
       "      <td>cnc</td>\n",
       "      <td>train_1000_10000</td>\n",
       "      <td>10000</td>\n",
       "      <td>0</td>\n",
       "      <td>cnc_train_100_1000_10000_10</td>\n",
       "      <td>The company accused the employee of stealing c...</td>\n",
       "      <td>The company accused &lt;ARG1&gt;the employee of stea...</td>\n",
       "      <td>1</td>\n",
       "    </tr>\n",
       "    <tr>\n",
       "      <th>1</th>\n",
       "      <td>cnc</td>\n",
       "      <td>train_1001_10001</td>\n",
       "      <td>10001</td>\n",
       "      <td>0</td>\n",
       "      <td>cnc_train_101_1001_10001_10</td>\n",
       "      <td>The students are excited because they won the ...</td>\n",
       "      <td>'&lt;ARG1&gt;The students are excited&lt;/ARG1&gt;  &lt;SIG0&gt;...</td>\n",
       "      <td>1</td>\n",
       "    </tr>\n",
       "    <tr>\n",
       "      <th>2</th>\n",
       "      <td>cnc</td>\n",
       "      <td>train_1002_10002</td>\n",
       "      <td>10002</td>\n",
       "      <td>0</td>\n",
       "      <td>cnc_train_102_1002_10002_10</td>\n",
       "      <td>Since the news about the company \\' s financia...</td>\n",
       "      <td>Since the news about the company's financial d...</td>\n",
       "      <td>1</td>\n",
       "    </tr>\n",
       "    <tr>\n",
       "      <th>3</th>\n",
       "      <td>cnc</td>\n",
       "      <td>train_1003_10003</td>\n",
       "      <td>10003</td>\n",
       "      <td>0</td>\n",
       "      <td>cnc_train_103_1003_10003_10</td>\n",
       "      <td>On the morning of September 10th \\, 2015 at 3:...</td>\n",
       "      <td>On the morning of September 10th, 2015 at 3:49...</td>\n",
       "      <td>1</td>\n",
       "    </tr>\n",
       "    <tr>\n",
       "      <th>4</th>\n",
       "      <td>cnc</td>\n",
       "      <td>train_1004_10004</td>\n",
       "      <td>10004</td>\n",
       "      <td>0</td>\n",
       "      <td>cnc_train_104_1004_10004_10</td>\n",
       "      <td>She failed to water the plants for several wee...</td>\n",
       "      <td>'She failed to water the plants &lt;ARG0&gt;for seve...</td>\n",
       "      <td>1</td>\n",
       "    </tr>\n",
       "  </tbody>\n",
       "</table>\n",
       "</div>"
      ],
      "text/plain": [
       "  corpus            doc_id  sent_id  eg_id                        index  \\\n",
       "0    cnc  train_1000_10000    10000      0  cnc_train_100_1000_10000_10   \n",
       "1    cnc  train_1001_10001    10001      0  cnc_train_101_1001_10001_10   \n",
       "2    cnc  train_1002_10002    10002      0  cnc_train_102_1002_10002_10   \n",
       "3    cnc  train_1003_10003    10003      0  cnc_train_103_1003_10003_10   \n",
       "4    cnc  train_1004_10004    10004      0  cnc_train_104_1004_10004_10   \n",
       "\n",
       "                                                text  \\\n",
       "0  The company accused the employee of stealing c...   \n",
       "1  The students are excited because they won the ...   \n",
       "2  Since the news about the company \\' s financia...   \n",
       "3  On the morning of September 10th \\, 2015 at 3:...   \n",
       "4  She failed to water the plants for several wee...   \n",
       "\n",
       "                                 causal_text_w_pairs  num_rs  \n",
       "0  The company accused <ARG1>the employee of stea...       1  \n",
       "1  '<ARG1>The students are excited</ARG1>  <SIG0>...       1  \n",
       "2  Since the news about the company's financial d...       1  \n",
       "3  On the morning of September 10th, 2015 at 3:49...       1  \n",
       "4  'She failed to water the plants <ARG0>for seve...       1  "
      ]
     },
     "execution_count": 24,
     "metadata": {},
     "output_type": "execute_result"
    }
   ],
   "source": [
    "com_df.head()"
   ]
  },
  {
   "cell_type": "code",
   "execution_count": 33,
   "id": "c271b7ab-c927-4ea5-8b88-7ff2097b20c5",
   "metadata": {},
   "outputs": [],
   "source": [
    "com_df['sent_id'] = range(10000, 10000 + len(com_df))\n",
    "com_df['doc_id'] = [f'train_{i}_{j}' for i, j in zip(range(1000, 1000 + len(com_df)), range(10000, 10000 + len(com_df)))]\n",
    "\n",
    "# Adding a new column 'index' with values based on variables i, j, k\n",
    "com_df['index'] = [f'cnc_train_{i}_{j}_{k}_10' for i, j, k in zip(range(100, 100 + len(com_df)), range(1000, 1000 + len(com_df)), range(10000, 10000 + len(com_df)))]\n"
   ]
  },
  {
   "cell_type": "code",
   "execution_count": 34,
   "id": "8a40bced-4723-4c16-a73d-36d72f2cfc64",
   "metadata": {},
   "outputs": [],
   "source": [
    "final_result = pd.concat([df_o, com_df], ignore_index=True)\n",
    "final_result.to_csv('EDA+CNC_chatgpt+orig2.csv', index=None)"
   ]
  },
  {
   "cell_type": "code",
   "execution_count": null,
   "id": "85cb1f99-b86b-4c04-aecb-0ba4dc8f7662",
   "metadata": {},
   "outputs": [],
   "source": []
  }
 ],
 "metadata": {
  "kernelspec": {
   "display_name": "Python 3 (ipykernel)",
   "language": "python",
   "name": "python3"
  },
  "language_info": {
   "codemirror_mode": {
    "name": "ipython",
    "version": 3
   },
   "file_extension": ".py",
   "mimetype": "text/x-python",
   "name": "python",
   "nbconvert_exporter": "python",
   "pygments_lexer": "ipython3",
   "version": "3.9.16"
  }
 },
 "nbformat": 4,
 "nbformat_minor": 5
}
